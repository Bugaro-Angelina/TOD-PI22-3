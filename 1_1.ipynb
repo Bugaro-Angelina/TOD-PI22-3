{
  "cells": [
    {
      "cell_type": "markdown",
      "metadata": {
        "id": "view-in-github",
        "colab_type": "text"
      },
      "source": [
        "<a href=\"https://colab.research.google.com/github/Bugaro-Angelina/TOD-PI22-3/blob/main/1_1.ipynb\" target=\"_parent\"><img src=\"https://colab.research.google.com/assets/colab-badge.svg\" alt=\"Open In Colab\"/></a>"
      ]
    },
    {
      "cell_type": "markdown",
      "id": "412f8336",
      "metadata": {
        "id": "412f8336"
      },
      "source": [
        "# Семинар №1\n",
        "## __Дата:__ 08.02.2023     \n",
        "__Выполнил:__ Бугаро Ангелина    \n",
        "__Группа:__ ПИ22-3"
      ]
    },
    {
      "cell_type": "markdown",
      "id": "074be81b",
      "metadata": {
        "id": "074be81b"
      },
      "source": [
        "Файл minutes_n_ingredients.csv содержит информацию об идентификаторе рецепта, времени его выполнения в минутах и количестве необходимых ингредиентов.\n",
        "1. Считайте данные из этого файла в виде массива numpy типа int32, используя np.load_txt. Выведите на экран первые 5 строк массива."
      ]
    },
    {
      "cell_type": "code",
      "execution_count": 7,
      "id": "d846da18",
      "metadata": {
        "colab": {
          "base_uri": "https://localhost:8080/"
        },
        "id": "d846da18",
        "outputId": "0e733d3f-5ae8-473f-fd5d-c701bfcc3a62"
      },
      "outputs": [
        {
          "output_type": "execute_result",
          "data": {
            "text/plain": [
              "array([[127244,     60,     16],\n",
              "       [ 23891,     25,      7],\n",
              "       [ 94746,     10,      6],\n",
              "       [ 67660,      5,      6],\n",
              "       [157911,     60,     14]], dtype=int32)"
            ]
          },
          "metadata": {},
          "execution_count": 7
        }
      ],
      "source": [
        "import numpy as np \n",
        " \n",
        "dataset = np.loadtxt(r\"minutes_n_ingredients.csv\", delimiter=\",\", skiprows=1, dtype=np.int32) \n",
        "dataset[:5] "
      ]
    },
    {
      "cell_type": "markdown",
      "id": "4ee8bb82",
      "metadata": {
        "id": "4ee8bb82"
      },
      "source": [
        "2. Вычислите среднее значение, минимум, максимум и медиану по каждому из столбцов, кроме первого."
      ]
    },
    {
      "cell_type": "code",
      "execution_count": 8,
      "id": "2184ef05",
      "metadata": {
        "colab": {
          "base_uri": "https://localhost:8080/"
        },
        "id": "2184ef05",
        "outputId": "fb9588bd-99a3-44b6-fc45-2a18852ced39"
      },
      "outputs": [
        {
          "output_type": "stream",
          "name": "stdout",
          "text": [
            "[2.16010017e+04 9.05528000e+00]\n",
            "[0 1]\n",
            "[2147483647         39]\n",
            "[40.  9.]\n"
          ]
        }
      ],
      "source": [
        "print(dataset[:, 1:].mean(axis=0), \n",
        "      dataset[:, 1:].min(axis=0), \n",
        "      dataset[:, 1:].max(axis=0), \n",
        "      np.median(dataset[:, 1:], axis=0), sep=\"\\n\") "
      ]
    },
    {
      "cell_type": "markdown",
      "id": "9617dbcf",
      "metadata": {
        "id": "9617dbcf"
      },
      "source": [
        "3. Ограничьте сверху значения продолжительности выполнения рецепта значением квантиля  q0.75 ."
      ]
    },
    {
      "cell_type": "code",
      "execution_count": 9,
      "id": "3aaa03c8",
      "metadata": {
        "colab": {
          "base_uri": "https://localhost:8080/"
        },
        "id": "3aaa03c8",
        "outputId": "9c77eb32-dba5-4a5f-8ca2-112f6978323e"
      },
      "outputs": [
        {
          "output_type": "execute_result",
          "data": {
            "text/plain": [
              "array([60, 25, 10, ..., 65,  5, 65], dtype=int32)"
            ]
          },
          "metadata": {},
          "execution_count": 9
        }
      ],
      "source": [
        "q075 = np.quantile(dataset[:, 1], 0.75)\n",
        "dataset[:, 1].clip(max=q075, out=dataset[:, 1])"
      ]
    },
    {
      "cell_type": "markdown",
      "id": "9809c0a7",
      "metadata": {
        "id": "9809c0a7"
      },
      "source": [
        "\n",
        "4. Посчитайте, для скольких рецептов указана продолжительность, равная нулю. Замените для таких строк значение в данном столбце на 1."
      ]
    },
    {
      "cell_type": "code",
      "execution_count": 10,
      "id": "fe66553c",
      "metadata": {
        "colab": {
          "base_uri": "https://localhost:8080/"
        },
        "id": "fe66553c",
        "outputId": "2eee707f-e693-4f56-b0da-7965efec2e7d"
      },
      "outputs": [
        {
          "output_type": "stream",
          "name": "stdout",
          "text": [
            "479\n"
          ]
        },
        {
          "output_type": "execute_result",
          "data": {
            "text/plain": [
              "array([30, 65,  1, 45], dtype=int32)"
            ]
          },
          "metadata": {},
          "execution_count": 10
        }
      ],
      "source": [
        "print(len(dataset[:,1]) - np.count_nonzero(dataset[:,1])) \n",
        "dataset[:,1][dataset[:,1] == 0 ] = 1\n",
        "dataset[409:413,1]"
      ]
    },
    {
      "cell_type": "markdown",
      "id": "cfa31c8a",
      "metadata": {
        "id": "cfa31c8a"
      },
      "source": [
        "5. Посчитайте, сколько уникальных рецептов находится в датасете.\n"
      ]
    },
    {
      "cell_type": "code",
      "execution_count": 11,
      "id": "f523ac16",
      "metadata": {
        "colab": {
          "base_uri": "https://localhost:8080/"
        },
        "id": "f523ac16",
        "outputId": "8ab094a0-54b9-4d1b-ee92-910bd686b522"
      },
      "outputs": [
        {
          "output_type": "execute_result",
          "data": {
            "text/plain": [
              "100000"
            ]
          },
          "metadata": {},
          "execution_count": 11
        }
      ],
      "source": [
        "np.unique(dataset[:, 0]).shape[0]"
      ]
    },
    {
      "cell_type": "markdown",
      "id": "cde8d245",
      "metadata": {
        "id": "cde8d245"
      },
      "source": [
        "6. Сколько и каких различных значений кол-ва ингредиентов присутвует в рецептах из датасета?\n"
      ]
    },
    {
      "cell_type": "code",
      "execution_count": 12,
      "id": "23e71137",
      "metadata": {
        "colab": {
          "base_uri": "https://localhost:8080/"
        },
        "id": "23e71137",
        "outputId": "36a876e8-b22a-4281-c67c-7a44c1ca159a"
      },
      "outputs": [
        {
          "output_type": "stream",
          "name": "stdout",
          "text": [
            "37 [ 1  2  3  4  5  6  7  8  9 10 11 12 13 14 15 16 17 18 19 20 21 22 23 24\n",
            " 25 26 27 28 29 30 31 32 33 34 35 37 39]\n"
          ]
        }
      ],
      "source": [
        "arr = np.unique(dataset[:,2])\n",
        "print(np.size(arr),arr)"
      ]
    },
    {
      "cell_type": "markdown",
      "id": "2b8258c0",
      "metadata": {
        "id": "2b8258c0"
      },
      "source": [
        "7. Создайте версию массива, содержащую информацию только о рецептах, состоящих не более чем из 5 ингредиентов."
      ]
    },
    {
      "cell_type": "code",
      "execution_count": 13,
      "id": "7e9ebff3",
      "metadata": {
        "colab": {
          "base_uri": "https://localhost:8080/"
        },
        "id": "7e9ebff3",
        "outputId": "0aef70ef-a78c-4641-a1ce-fe90d251ac64"
      },
      "outputs": [
        {
          "output_type": "execute_result",
          "data": {
            "text/plain": [
              "array([[446597,     15,      5],\n",
              "       [204134,      5,      3],\n",
              "       [ 25623,      6,      4],\n",
              "       ...,\n",
              "       [ 52088,     60,      5],\n",
              "       [128811,     15,      4],\n",
              "       [370915,      5,      4]], dtype=int32)"
            ]
          },
          "metadata": {},
          "execution_count": 13
        }
      ],
      "source": [
        "recipes5 = dataset[dataset[:, 2] <= 5]\n",
        "recipes5"
      ]
    },
    {
      "cell_type": "markdown",
      "id": "3e38fab0",
      "metadata": {
        "id": "3e38fab0"
      },
      "source": [
        "8. Для каждого рецепта посчитайте, сколько в среднем ингредиентов приходится на одну минуту рецепта. Найдите максимальное значение этой величины для всего датасета"
      ]
    },
    {
      "cell_type": "code",
      "execution_count": 14,
      "id": "40df5a41",
      "metadata": {
        "colab": {
          "base_uri": "https://localhost:8080/"
        },
        "id": "40df5a41",
        "outputId": "84c8cf61-b978-40ae-fd81-3979553c0a47"
      },
      "outputs": [
        {
          "output_type": "stream",
          "name": "stdout",
          "text": [
            "[0.26666667 0.28       0.6        ... 0.23076923 0.8        0.21538462] \n",
            "Максимальное значение: 24.0\n"
          ]
        }
      ],
      "source": [
        "v = np.divide(dataset[:,2], dataset[:,1])\n",
        "print(v,'\\nМаксимальное значение:',v.max(axis=0))"
      ]
    },
    {
      "cell_type": "markdown",
      "id": "28ac3797",
      "metadata": {
        "id": "28ac3797"
      },
      "source": [
        "9. Вычислите среднее количество ингредиентов для топ-100 рецептов с наибольшей продолжительностью"
      ]
    },
    {
      "cell_type": "code",
      "execution_count": 15,
      "id": "fd674ad0",
      "metadata": {
        "colab": {
          "base_uri": "https://localhost:8080/"
        },
        "id": "fd674ad0",
        "outputId": "cea4a6d0-874a-4f57-a66b-c47d932bd1ee"
      },
      "outputs": [
        {
          "output_type": "execute_result",
          "data": {
            "text/plain": [
              "9.96"
            ]
          },
          "metadata": {},
          "execution_count": 15
        }
      ],
      "source": [
        "dataset[dataset[:, 1].argsort()][:, 2][-100:].mean()"
      ]
    },
    {
      "cell_type": "markdown",
      "id": "32708557",
      "metadata": {
        "id": "32708557"
      },
      "source": [
        "10. Выберите случайным образом и выведите информацию о 10 различных рецептах"
      ]
    },
    {
      "cell_type": "code",
      "execution_count": 16,
      "id": "38e8af23",
      "metadata": {
        "colab": {
          "base_uri": "https://localhost:8080/"
        },
        "id": "38e8af23",
        "outputId": "c32f9793-6287-45d2-fb73-82cbc6580bf1"
      },
      "outputs": [
        {
          "output_type": "execute_result",
          "data": {
            "text/plain": [
              "array([[ 74516,     65,     12],\n",
              "       [118499,     65,     12],\n",
              "       [ 53402,     65,     15],\n",
              "       [ 27451,     25,     17],\n",
              "       [196104,     65,      6],\n",
              "       [167467,     40,      8],\n",
              "       [ 70942,     50,     10],\n",
              "       [367226,     30,      7],\n",
              "       [154896,     65,      4],\n",
              "       [472994,     65,     14]], dtype=int32)"
            ]
          },
          "metadata": {},
          "execution_count": 16
        }
      ],
      "source": [
        "dataset[np.random.randint(dataset.shape[0], size=10)]"
      ]
    },
    {
      "cell_type": "markdown",
      "id": "a140cf03",
      "metadata": {
        "id": "a140cf03"
      },
      "source": [
        "11. Выведите процент рецептов, кол-во ингредиентов в которых меньше среднего."
      ]
    },
    {
      "cell_type": "code",
      "execution_count": 17,
      "id": "1c04eccf",
      "metadata": {
        "colab": {
          "base_uri": "https://localhost:8080/"
        },
        "id": "1c04eccf",
        "outputId": "c537defd-0fb4-4fc8-e9b4-7d2d8f5869e6"
      },
      "outputs": [
        {
          "output_type": "execute_result",
          "data": {
            "text/plain": [
              "58.802"
            ]
          },
          "metadata": {},
          "execution_count": 17
        }
      ],
      "source": [
        "np.where(dataset[:, 2] < dataset[:, 2].mean())[0].shape[0] / dataset.shape[0] * 100"
      ]
    },
    {
      "cell_type": "markdown",
      "id": "bf48a25b",
      "metadata": {
        "id": "bf48a25b"
      },
      "source": [
        "12. Назовем \"простым\" такой рецепт, длительность выполнения которого не больше 20 минут и кол-во ингредиентов в котором не больше 5. Создайте версию датасета с дополнительным столбцом, значениями которого являются 1, если рецепт простой, и 0 в противном случае."
      ]
    },
    {
      "cell_type": "code",
      "execution_count": 22,
      "id": "871f91e1",
      "metadata": {
        "colab": {
          "base_uri": "https://localhost:8080/"
        },
        "id": "871f91e1",
        "outputId": "3efc286c-ddca-422f-a27d-93def900d3da"
      },
      "outputs": [
        {
          "output_type": "stream",
          "name": "stdout",
          "text": [
            "[[127244     60     16      0      0]\n",
            " [ 23891     25      7      0      0]\n",
            " [ 94746     10      6      0      0]\n",
            " ...\n",
            " [498432     65     15      0      0]\n",
            " [     1      1      1      1      1]\n",
            " [ 81993     65     14      0      0]]\n"
          ]
        }
      ],
      "source": [
        "new_recipe = np.append(recipe, np.zeros((recipe.shape[0],1), dtype = 'int32'), axis = 1)\n",
        "new_recipe[np.logical_and(new_recipe[:,1]<=20,new_recipe[:,2]<=5)] = 1\n",
        "new_recipe = new_recipe.copy()\n",
        "print(new_recipe)"
      ]
    },
    {
      "cell_type": "markdown",
      "id": "de002655",
      "metadata": {
        "id": "de002655"
      },
      "source": [
        "13. Выведите процент \"простых\" рецептов в датасете"
      ]
    },
    {
      "cell_type": "code",
      "execution_count": 23,
      "id": "714960af",
      "metadata": {
        "colab": {
          "base_uri": "https://localhost:8080/"
        },
        "id": "714960af",
        "outputId": "bc05d7bb-aa1d-4a60-faa3-d2be19148f0b"
      },
      "outputs": [
        {
          "output_type": "stream",
          "name": "stdout",
          "text": [
            "9.552\n"
          ]
        }
      ],
      "source": [
        "print((100*len(new_recipe[new_recipe[:,3] == 1]))/len(recipe))"
      ]
    },
    {
      "cell_type": "markdown",
      "id": "b37ef20b",
      "metadata": {
        "id": "b37ef20b"
      },
      "source": [
        "14. Разделим рецепты на группы по следующему правилу. Назовем рецепты короткими, если их продолжительность составляет менее 10 минут; стандартными, если их продолжительность составляет более 10, но менее 20 минут; и длинными, если их продолжительность составляет не менее 20 минут. Создайте трехмерный массив, где нулевая ось отвечает за номер группы (короткий, стандартный или длинный рецепт), первая ось - за сам рецепт и вторая ось - за характеристики рецепта. Выберите максимальное количество рецептов из каждой группы таким образом, чтобы было возможно сформировать трехмерный массив. Выведите форму полученного массива."
      ]
    },
    {
      "cell_type": "code",
      "execution_count": 20,
      "id": "2b48af1c",
      "metadata": {
        "colab": {
          "base_uri": "https://localhost:8080/"
        },
        "id": "2b48af1c",
        "outputId": "a9ae5d3c-b75f-4e01-91e7-5564c64db386"
      },
      "outputs": [
        {
          "output_type": "execute_result",
          "data": {
            "text/plain": [
              "array([[[ 67660,      5,      6],\n",
              "        [366174,      7,      9],\n",
              "        [204134,      5,      3],\n",
              "        ...,\n",
              "        [420725,      5,      3],\n",
              "        [  4747,      1,      9],\n",
              "        [370915,      5,      4]],\n",
              "\n",
              "       [[ 33941,     18,      9],\n",
              "        [446597,     15,      5],\n",
              "        [ 81006,     12,      7],\n",
              "        ...,\n",
              "        [278297,     12,      7],\n",
              "        [ 66970,     15,      8],\n",
              "        [ 90921,     18,      8]],\n",
              "\n",
              "       [[127244,     60,     16],\n",
              "        [ 23891,     25,      7],\n",
              "        [157911,     60,     14],\n",
              "        ...,\n",
              "        [168901,     25,      7],\n",
              "        [392339,     35,     13],\n",
              "        [206732,     45,     10]]], dtype=int32)"
            ]
          },
          "metadata": {},
          "execution_count": 20
        }
      ],
      "source": [
        "rshort = dataset[dataset[:, 1] < 10]\n",
        "rnormal = dataset[(dataset[:, 1] > 10) & (dataset[:, 1] < 20)]\n",
        "rlong = dataset[dataset[:, 1] >= 20]\n",
        "\n",
        "maximum = min([rshort.shape[0], rnormal.shape[0], rlong.shape[0]])\n",
        "np.array([rshort[:maximum], rnormal[:maximum], rlong[:maximum]])"
      ]
    }
  ],
  "metadata": {
    "kernelspec": {
      "display_name": "Python 3 (ipykernel)",
      "language": "python",
      "name": "python3"
    },
    "language_info": {
      "codemirror_mode": {
        "name": "ipython",
        "version": 3
      },
      "file_extension": ".py",
      "mimetype": "text/x-python",
      "name": "python",
      "nbconvert_exporter": "python",
      "pygments_lexer": "ipython3",
      "version": "3.9.7"
    },
    "colab": {
      "provenance": [],
      "include_colab_link": true
    }
  },
  "nbformat": 4,
  "nbformat_minor": 5
}