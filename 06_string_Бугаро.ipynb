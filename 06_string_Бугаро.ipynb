{
  "cells": [
    {
      "cell_type": "markdown",
      "metadata": {
        "id": "w_P1pYjdsQ80"
      },
      "source": [
        "# Работа со строковыми значениями"
      ]
    },
    {
      "cell_type": "markdown",
      "metadata": {
        "id": "Lg5TURnOsQ83"
      },
      "source": [
        "__Автор задач: Блохин Н.В. (NVBlokhin@fa.ru)__\n",
        "\n",
        "Материалы:\n",
        "* Макрушин С.В. Лекция \"Работа со строковыми значениям\"\n",
        "* https://pyformat.info/\n",
        "* https://docs.python.org/3/library/re.html\n",
        "    * https://docs.python.org/3/library/re.html#flags\n",
        "    * https://docs.python.org/3/library/re.html#functions\n",
        "* https://pythonru.com/primery/primery-primeneniya-regulyarnyh-vyrazheniy-v-python\n",
        "* https://kanoki.org/2019/11/12/how-to-use-regex-in-pandas/\n",
        "* https://realpython.com/nltk-nlp-python/"
      ]
    },
    {
      "cell_type": "markdown",
      "metadata": {
        "id": "rrI6Se5asQ84"
      },
      "source": [
        "## Задачи для совместного разбора"
      ]
    },
    {
      "cell_type": "markdown",
      "metadata": {
        "id": "IxEW4_A8sQ84"
      },
      "source": [
        "1. Вывести на экран данные из словаря `obj` построчно в виде `k = v`, задав формат таким образом, чтобы знак равенства оказался на одной и той же позиции во всех строках. Строковые литералы обернуть в кавычки."
      ]
    },
    {
      "cell_type": "code",
      "execution_count": null,
      "metadata": {
        "id": "2le2twjxsQ84"
      },
      "outputs": [],
      "source": [
        "obj = {\n",
        "    \"home_page\": \"https://github.com/pypa/sampleproject\",\n",
        "    \"keywords\": \"sample setuptools development\",\n",
        "    \"license\": \"MIT\",\n",
        "}"
      ]
    },
    {
      "cell_type": "markdown",
      "metadata": {
        "id": "pzBW0jP5sQ85"
      },
      "source": [
        "2. Написать регулярное выражение,которое позволит найти номера групп студентов."
      ]
    },
    {
      "cell_type": "code",
      "execution_count": null,
      "metadata": {
        "colab": {
          "base_uri": "https://localhost:8080/",
          "height": 182
        },
        "id": "T7vUuTeksQ85",
        "outputId": "f718a232-9742-4492-9a87-dd5f37ccb449"
      },
      "outputs": [
        {
          "ename": "NameError",
          "evalue": "ignored",
          "output_type": "error",
          "traceback": [
            "\u001b[0;31m---------------------------------------------------------------------------\u001b[0m",
            "\u001b[0;31mNameError\u001b[0m                                 Traceback (most recent call last)",
            "\u001b[0;32m<ipython-input-19-9926588a5500>\u001b[0m in \u001b[0;36m<module>\u001b[0;34m\u001b[0m\n\u001b[0;32m----> 1\u001b[0;31m \u001b[0mobj\u001b[0m \u001b[0;34m=\u001b[0m \u001b[0mpd\u001b[0m\u001b[0;34m.\u001b[0m\u001b[0mSeries\u001b[0m\u001b[0;34m(\u001b[0m\u001b[0;34m[\u001b[0m\u001b[0;34m\"Евгения гр.ПМ19-1\"\u001b[0m\u001b[0;34m,\u001b[0m \u001b[0;34m\"Илья пм 20-4\"\u001b[0m\u001b[0;34m,\u001b[0m \u001b[0;34m\"Анна 20-3\"\u001b[0m\u001b[0;34m]\u001b[0m\u001b[0;34m)\u001b[0m\u001b[0;34m\u001b[0m\u001b[0;34m\u001b[0m\u001b[0m\n\u001b[0m\u001b[1;32m      2\u001b[0m \u001b[0mobj\u001b[0m\u001b[0;34m\u001b[0m\u001b[0;34m\u001b[0m\u001b[0m\n",
            "\u001b[0;31mNameError\u001b[0m: name 'pd' is not defined"
          ]
        }
      ],
      "source": [
        "obj = pd.Series([\"Евгения гр.ПМ19-1\", \"Илья пм 20-4\", \"Анна 20-3\"])\n",
        "obj"
      ]
    },
    {
      "cell_type": "markdown",
      "metadata": {
        "id": "F9SmnTb_sQ86"
      },
      "source": [
        "3. Разбейте текст формулировки задачи 2 на слова."
      ]
    },
    {
      "cell_type": "markdown",
      "metadata": {
        "id": "4zQRtvbTsQ86"
      },
      "source": [
        "## Лабораторная работа 6"
      ]
    },
    {
      "cell_type": "markdown",
      "metadata": {
        "id": "TR_eGHUSsQ86"
      },
      "source": [
        "### Форматирование строк"
      ]
    },
    {
      "cell_type": "code",
      "execution_count": 1,
      "metadata": {
        "id": "ZNF2p_YBGqX-"
      },
      "outputs": [],
      "source": [
        "import pandas as pd\n"
      ]
    },
    {
      "cell_type": "code",
      "execution_count": 3,
      "metadata": {
        "id": "46qubOxcHAPn"
      },
      "outputs": [],
      "source": [
        "data = pd.read_csv('recipes_sample.csv')\n",
        "a = data[[\"id\",\"minutes\"]].sample (n= 5 )\n",
        "a = a.reset_index(drop=True)\n",
        "# a = data[data[\"id\"] == 67664]\n",
        "a.reset_index(drop= True , inplace= True )\n",
        "# a[\"name\"][0]f"
      ]
    },
    {
      "cell_type": "code",
      "execution_count": null,
      "metadata": {
        "id": "fYB3F-ugRhse"
      },
      "outputs": [],
      "source": [
        "a"
      ]
    },
    {
      "cell_type": "code",
      "execution_count": 7,
      "metadata": {
        "id": "-g68KVS3ofLS"
      },
      "outputs": [],
      "source": [
        "data_copy"
      ]
    },
    {
      "cell_type": "markdown",
      "metadata": {
        "id": "wWvOtJ-6sQ87"
      },
      "source": [
        "1\\. Загрузите данные из файла `recipes_sample.csv` (__ЛР2__) в виде `pd.DataFrame` `recipes` При помощи форматирования строк выведите информацию об id рецепта и времени выполнения 5 случайных рецептов в виде таблицы следующего вида:\n",
        "\n",
        "    \n",
        "    |      id      |  minutes  |\n",
        "    |--------------------------|\n",
        "    |    61178     |    65     |\n",
        "    |    202352    |    80     |\n",
        "    |    364322    |    150    |\n",
        "    |    26177     |    20     |\n",
        "    |    224785    |    35     |\n",
        "    \n",
        "Обратите внимание, что ширина столбцов заранее неизвестна и должна рассчитываться динамически, в зависимости от тех данных, которые были выбраны. "
      ]
    },
    {
      "cell_type": "code",
      "execution_count": 4,
      "metadata": {
        "colab": {
          "base_uri": "https://localhost:8080/"
        },
        "id": "DGY4oi2SLYPx",
        "outputId": "5a78785a-d142-40b8-8c12-9efc984d3601"
      },
      "outputs": [
        {
          "output_type": "stream",
          "name": "stdout",
          "text": [
            "|      id      |  minutes  |\n",
            "|--------------------------|\n",
            "|    368115    |     5     |\n",
            "|    291687    |    90     |\n",
            "|    118965    |    25     |\n",
            "|    315843    |    60     |\n",
            "|    56621     |    65     |\n"
          ]
        }
      ],
      "source": [
        "print(\"|      id      |  minutes  |\")\n",
        "print(\"|--------------------------|\")\n",
        "for j in range(5):\n",
        "    print(f\"|{a.iloc[j,0]: ^14}|{a.iloc[j,1]: ^11}|\")\n",
        " "
      ]
    },
    {
      "cell_type": "markdown",
      "metadata": {
        "id": "By2EHJ7PsQ87"
      },
      "source": [
        "2\\. Напишите функцию `show_info`, которая по данным о рецепте создает строку (в смысле объекта python) с описанием следующего вида:\n",
        "\n",
        "```\n",
        "\"Название Из Нескольких Слов\"\n",
        "\n",
        "1. Шаг 1\n",
        "2. Шаг 2\n",
        "----------\n",
        "Автор: contributor_id\n",
        "Среднее время приготовления: minutes минут\n",
        "```\n",
        "\n",
        "    \n",
        "Данные для создания строки получите из файлов `recipes_sample.csv` (__ЛР2__) и `steps_sample.xml` (__ЛР3__). \n",
        "Вызовите данную функцию для рецепта с id `170895` и выведите (через `print`) полученную строку на экран."
      ]
    },
    {
      "cell_type": "code",
      "execution_count": 5,
      "metadata": {
        "id": "Y8QTAVHmYZOi"
      },
      "outputs": [],
      "source": [
        "from bs4 import BeautifulSoup"
      ]
    },
    {
      "cell_type": "code",
      "source": [
        "with open('steps_sample.xml', 'r') as f:\n",
        "  data2 = BeautifulSoup(f, 'xml')"
      ],
      "metadata": {
        "id": "_2ZYVJXW9Zpy"
      },
      "execution_count": 9,
      "outputs": []
    },
    {
      "cell_type": "code",
      "execution_count": 10,
      "metadata": {
        "colab": {
          "base_uri": "https://localhost:8080/"
        },
        "id": "y_Fkzh0X7387",
        "outputId": "6361aa47-7ca6-4def-e6e9-df89a33d888f"
      },
      "outputs": [
        {
          "output_type": "execute_result",
          "data": {
            "text/plain": [
              "['mix all the ingredients using a blender',\n",
              " 'pour into popsicle molds',\n",
              " 'freeze and enjoy !']"
            ]
          },
          "metadata": {},
          "execution_count": 10
        }
      ],
      "source": [
        "data_rec = data2.recipe\n",
        "data_rec = data_rec.nextSibling.nextSibling\n",
        "data_rec_step = data_rec.step\n",
        "a = []\n",
        "for i in data_rec.steps:\n",
        "  a.append(i.next)\n",
        "b= []\n",
        "for j in range(1,len(a), 2):\n",
        "  b.append(a[j])\n",
        "b"
      ]
    },
    {
      "cell_type": "code",
      "execution_count": 11,
      "metadata": {
        "colab": {
          "base_uri": "https://localhost:8080/"
        },
        "id": "0PCuwoLETKmC",
        "outputId": "bdee624e-0a59-4462-80c0-404214833de6"
      },
      "outputs": [
        {
          "output_type": "stream",
          "name": "stdout",
          "text": [
            "Название: bavarian apple cheese cake tart\n",
            "\n",
            "1. Шаг 1 mix butter , flour , 1 / 3 c\n",
            "2. Шаг 2 sugar and 1-1 / 4 t\n",
            "3. Шаг 3 vanilla\n",
            "4. Шаг 4 press into greased 9\" springform pan\n",
            "5. Шаг 5 mix cream cheese , 1 / 4 c\n",
            "6. Шаг 6 sugar , eggs and 1 / 2 t\n",
            "7. Шаг 7 vanilla beating until fluffy\n",
            "8. Шаг 8 pour over dough\n",
            "9. Шаг 9 combine apples , 1 / 3 c\n",
            "10. Шаг 10 sugar and cinnamon\n",
            "11. Шаг 11 arrange on top of cream cheese mixture and sprinkle with almonds\n",
            "12. Шаг 12 bake at 350 for 45-55 minutes , or until tester comes out clean\n",
            "----------\n",
            "Автор: 93006\n",
            "Среднее время приготовления: 65 минут\n"
          ]
        }
      ],
      "source": [
        "def show_info(num):\n",
        "  data_rec = data2.recipe\n",
        "  \n",
        "  while True:\n",
        "    if data_rec.id.next == str(num):\n",
        "      strr = data[data[\"id\"] == num]\n",
        "      strr.reset_index(drop= True , inplace= True )\n",
        "      print(f'Название: {strr[\"name\"][0]}')\n",
        "      print()\n",
        "      a = []\n",
        "      for i in data_rec.steps:\n",
        "        a.append(i.next)\n",
        "      global b\n",
        "      b= []\n",
        "      for j in range(1,len(a), 2):\n",
        "        b.append(a[j])\n",
        "      for i in range(len(b)):\n",
        "        print(f\"{i+1}. Шаг {i+1} {b[i]}\")\n",
        "      print(\"----------\")\n",
        "      print(f'Автор: {strr[\"contributor_id\"][0]}')\n",
        "      print(f'Среднее время приготовления: {strr[\"minutes\"][0]} минут')\n",
        "      break\n",
        "      \n",
        "      \n",
        "    else:\n",
        "      data_rec = data_rec.nextSibling.nextSibling\n",
        "\n",
        "show_info(72367)\n"
      ]
    },
    {
      "cell_type": "code",
      "execution_count": null,
      "metadata": {
        "colab": {
          "base_uri": "https://localhost:8080/",
          "height": 235
        },
        "id": "BMm9zlYFsQ87",
        "outputId": "fba76cb8-f338-4a53-b86e-d24fcf28e5c7"
      },
      "outputs": [
        {
          "ename": "TypeError",
          "evalue": "ignored",
          "output_type": "error",
          "traceback": [
            "\u001b[0;31m---------------------------------------------------------------------------\u001b[0m",
            "\u001b[0;31mTypeError\u001b[0m                                 Traceback (most recent call last)",
            "\u001b[0;32m<ipython-input-181-4f774dfc1f58>\u001b[0m in \u001b[0;36m<module>\u001b[0;34m\u001b[0m\n\u001b[1;32m      1\u001b[0m assert (\n\u001b[0;32m----> 2\u001b[0;31m     show_info(\n\u001b[0m\u001b[1;32m      3\u001b[0m         \u001b[0mname\u001b[0m\u001b[0;34m=\u001b[0m\u001b[0;34m\"george s at the cove black bean soup\"\u001b[0m\u001b[0;34m,\u001b[0m\u001b[0;34m\u001b[0m\u001b[0;34m\u001b[0m\u001b[0m\n\u001b[1;32m      4\u001b[0m         steps=[\n\u001b[1;32m      5\u001b[0m             \u001b[0;34m\"clean the leeks and discard the dark green portions\"\u001b[0m\u001b[0;34m,\u001b[0m\u001b[0;34m\u001b[0m\u001b[0;34m\u001b[0m\u001b[0m\n",
            "\u001b[0;31mTypeError\u001b[0m: show_info() got an unexpected keyword argument 'name'"
          ]
        }
      ],
      "source": [
        "assert (\n",
        "    show_info(\n",
        "        name=\"george s at the cove black bean soup\",\n",
        "        steps=[\n",
        "            \"clean the leeks and discard the dark green portions\",\n",
        "            \"cut the leeks lengthwise then into one-inch pieces\",\n",
        "            \"melt the butter in a medium skillet , med\",\n",
        "        ],\n",
        "        minutes=90,\n",
        "        author_id=35193,\n",
        "    )\n",
        "    == '\"George S At The Cove Black Bean Soup\"\\n\\n1. Clean the leeks and discard the dark green portions\\n2. Cut the leeks lengthwise then into one-inch pieces\\n3. Melt the butter in a medium skillet , med\\n----------\\nАвтор: 35193\\nСреднее время приготовления: 90 минут\\n'\n",
        ")"
      ]
    },
    {
      "cell_type": "code",
      "execution_count": null,
      "metadata": {
        "id": "pJihJ36oVPO6"
      },
      "outputs": [],
      "source": [
        "with open(\"steps_sample.xml\") as f:\n",
        "  data2 = BeautifulSoup(f,\"xml\")\n",
        "data2\n"
      ]
    },
    {
      "cell_type": "markdown",
      "metadata": {
        "id": "nVm42TUQsQ88"
      },
      "source": [
        "## Работа с регулярными выражениями"
      ]
    },
    {
      "cell_type": "markdown",
      "metadata": {
        "id": "TevbSJiWsQ88"
      },
      "source": [
        "3\\. Напишите регулярное выражение, которое ищет следующий паттерн в строке: число (1 цифра или более), затем пробел, затем слова: hour или hours или minute или minutes. Произведите поиск по данному регулярному выражению в каждом шаге рецепта с id 25082. Выведите на экран все непустые результаты, найденные по данному шаблону."
      ]
    },
    {
      "cell_type": "code",
      "execution_count": null,
      "metadata": {
        "id": "69WXXMADPc1l"
      },
      "outputs": [],
      "source": [
        "import re"
      ]
    },
    {
      "cell_type": "code",
      "execution_count": null,
      "metadata": {
        "colab": {
          "base_uri": "https://localhost:8080/"
        },
        "id": "ArTWEwBMPdPa",
        "outputId": "fc3a81a8-7bc6-4ccc-c4dd-708f2a8f8ffa"
      },
      "outputs": [
        {
          "name": "stdout",
          "output_type": "stream",
          "text": [
            "Название: basic whole wheat bread\n",
            "\n",
            "1. Шаг 1 proof yeast in half a cup of the water , with about a teaspoon of flour- let it sit , covered , until it becomes bubbly& active\n",
            "2. Шаг 2 combine the rest of the water with the yeast / water in a large bowl , and gradually add about half of the flour\n",
            "3. Шаг 3 stir the mixture about 100 times in the same direction , until it is well-mixed and strands are beginning to form\n",
            "4. Шаг 4 stir in the salt and oil\n",
            "5. Шаг 5 add the remaining flour half a cup at a time , stirring well , until it is too stiff to stir with a spoon\n",
            "6. Шаг 6 turn out onto a lightly floured board and knead for about 20 minutes , adding flour as nescessary to keep the dough from sticking to the board\n",
            "7. Шаг 7 the dough should be springy and nice to work with\n",
            "8. Шаг 8 when it has been sufficiently kneaded , cover it with a damp cloth for about 10 minutes and wash and grease the bowl lightly\n",
            "9. Шаг 9 after it has rested , knead the dough a few more times and place it in the bowl , covered with the damp cloth , a plastic bag , and maybe a plate\n",
            "10. Шаг 10 let the dough rise until it springs back when you stick your finger in it , and it is about twice the size as it was before (this takes about 2 hours\n",
            "11. Шаг 11 longer or shorter depending on the room temperature- i prefer a longer rise , because it allows the flavour to develop more\n",
            "12. Шаг 12 but sometimes you just don't have time for that sort of thing)\n",
            "13. Шаг 13 deflate the dough by punching or kneading it a few times , and let it rise again- this time , it should take about half the amount of time as it did before\n",
            "14. Шаг 14 when the dough has risen twice , deflate it again and cover it with the damp cloth again for about 10 minutes , then divide it into and shape it into loaves , buns , etc\n",
            "15. Шаг 15 let the shaped dough rise on a baking sheet or in a loaf-pan for about an hour maybe- it will rise a bit more in the oven\n",
            "16. Шаг 16 slash the top of the bread if you want , so that it doesn't bust open in the oven\n",
            "17. Шаг 17 bake at 400 for 20 minutes , and then turn the oven down to 350 and bake for 20-30 minutes longer , until the loaf is a lovely brown and sounds hollow when you thump it on the bottom\n",
            "18. Шаг 18 try to let the loaf cool before you tear into it\n",
            "----------\n",
            "Автор: 25483\n",
            "Среднее время приготовления: 290 минут\n",
            "\n",
            "turn out onto a lightly floured board and knead for about 20 minutes , adding flour as nescessary to keep the dough from sticking to the board\n",
            "when it has been sufficiently kneaded , cover it with a damp cloth for about 10 minutes and wash and grease the bowl lightly\n",
            "let the dough rise until it springs back when you stick your finger in it , and it is about twice the size as it was before (this takes about 2 hours\n",
            "when the dough has risen twice , deflate it again and cover it with the damp cloth again for about 10 minutes , then divide it into and shape it into loaves , buns , etc\n",
            "bake at 400 for 20 minutes , and then turn the oven down to 350 and bake for 20-30 minutes longer , until the loaf is a lovely brown and sounds hollow when you thump it on the bottom\n"
          ]
        }
      ],
      "source": [
        "pattern = r\"\\d+\\s(hours?|minutes?)\"\n",
        "show_info(25082)\n",
        "print()\n",
        "match = re.search(pattern, text)\n",
        "for i in b:\n",
        "  if bool(re.search(pattern, str(i))) == True:\n",
        "    print(i)\n"
      ]
    },
    {
      "cell_type": "code",
      "execution_count": null,
      "metadata": {
        "colab": {
          "base_uri": "https://localhost:8080/",
          "height": 423
        },
        "id": "oEP0uhNSPdR0",
        "outputId": "c230781d-aeb0-4cf9-c7e9-f91ad97a5130"
      },
      "outputs": [
        {
          "data": {
            "text/html": [
              "\n",
              "  <div id=\"df-c3c720ff-6e75-4ec4-ac39-e29579eda3e9\">\n",
              "    <div class=\"colab-df-container\">\n",
              "      <div>\n",
              "<style scoped>\n",
              "    .dataframe tbody tr th:only-of-type {\n",
              "        vertical-align: middle;\n",
              "    }\n",
              "\n",
              "    .dataframe tbody tr th {\n",
              "        vertical-align: top;\n",
              "    }\n",
              "\n",
              "    .dataframe thead th {\n",
              "        text-align: right;\n",
              "    }\n",
              "</style>\n",
              "<table border=\"1\" class=\"dataframe\">\n",
              "  <thead>\n",
              "    <tr style=\"text-align: right;\">\n",
              "      <th></th>\n",
              "      <th>id</th>\n",
              "      <th>description</th>\n",
              "    </tr>\n",
              "  </thead>\n",
              "  <tbody>\n",
              "    <tr>\n",
              "      <th>0</th>\n",
              "      <td>44123</td>\n",
              "      <td>an original recipe created by chef scott meska...</td>\n",
              "    </tr>\n",
              "    <tr>\n",
              "      <th>1</th>\n",
              "      <td>67664</td>\n",
              "      <td>my children and their friends ask for my homem...</td>\n",
              "    </tr>\n",
              "    <tr>\n",
              "      <th>2</th>\n",
              "      <td>38798</td>\n",
              "      <td>these were so go, it surprised even me.</td>\n",
              "    </tr>\n",
              "    <tr>\n",
              "      <th>3</th>\n",
              "      <td>35173</td>\n",
              "      <td>my sister-in-law made these for us at a family...</td>\n",
              "    </tr>\n",
              "    <tr>\n",
              "      <th>4</th>\n",
              "      <td>84797</td>\n",
              "      <td>i think a fondue is a very romantic casual din...</td>\n",
              "    </tr>\n",
              "    <tr>\n",
              "      <th>...</th>\n",
              "      <td>...</td>\n",
              "      <td>...</td>\n",
              "    </tr>\n",
              "    <tr>\n",
              "      <th>29995</th>\n",
              "      <td>267661</td>\n",
              "      <td>this is based on a french recipe but i changed...</td>\n",
              "    </tr>\n",
              "    <tr>\n",
              "      <th>29996</th>\n",
              "      <td>386977</td>\n",
              "      <td>this is a traditional fresh plum cake, thought...</td>\n",
              "    </tr>\n",
              "    <tr>\n",
              "      <th>29997</th>\n",
              "      <td>103312</td>\n",
              "      <td>this is a traditional late summer early fall s...</td>\n",
              "    </tr>\n",
              "    <tr>\n",
              "      <th>29998</th>\n",
              "      <td>486161</td>\n",
              "      <td>this is a delicious soup that i originally fou...</td>\n",
              "    </tr>\n",
              "    <tr>\n",
              "      <th>29999</th>\n",
              "      <td>298512</td>\n",
              "      <td>i've heard of the 'cookies by design' company,...</td>\n",
              "    </tr>\n",
              "  </tbody>\n",
              "</table>\n",
              "<p>30000 rows × 2 columns</p>\n",
              "</div>\n",
              "      <button class=\"colab-df-convert\" onclick=\"convertToInteractive('df-c3c720ff-6e75-4ec4-ac39-e29579eda3e9')\"\n",
              "              title=\"Convert this dataframe to an interactive table.\"\n",
              "              style=\"display:none;\">\n",
              "        \n",
              "  <svg xmlns=\"http://www.w3.org/2000/svg\" height=\"24px\"viewBox=\"0 0 24 24\"\n",
              "       width=\"24px\">\n",
              "    <path d=\"M0 0h24v24H0V0z\" fill=\"none\"/>\n",
              "    <path d=\"M18.56 5.44l.94 2.06.94-2.06 2.06-.94-2.06-.94-.94-2.06-.94 2.06-2.06.94zm-11 1L8.5 8.5l.94-2.06 2.06-.94-2.06-.94L8.5 2.5l-.94 2.06-2.06.94zm10 10l.94 2.06.94-2.06 2.06-.94-2.06-.94-.94-2.06-.94 2.06-2.06.94z\"/><path d=\"M17.41 7.96l-1.37-1.37c-.4-.4-.92-.59-1.43-.59-.52 0-1.04.2-1.43.59L10.3 9.45l-7.72 7.72c-.78.78-.78 2.05 0 2.83L4 21.41c.39.39.9.59 1.41.59.51 0 1.02-.2 1.41-.59l7.78-7.78 2.81-2.81c.8-.78.8-2.07 0-2.86zM5.41 20L4 18.59l7.72-7.72 1.47 1.35L5.41 20z\"/>\n",
              "  </svg>\n",
              "      </button>\n",
              "      \n",
              "  <style>\n",
              "    .colab-df-container {\n",
              "      display:flex;\n",
              "      flex-wrap:wrap;\n",
              "      gap: 12px;\n",
              "    }\n",
              "\n",
              "    .colab-df-convert {\n",
              "      background-color: #E8F0FE;\n",
              "      border: none;\n",
              "      border-radius: 50%;\n",
              "      cursor: pointer;\n",
              "      display: none;\n",
              "      fill: #1967D2;\n",
              "      height: 32px;\n",
              "      padding: 0 0 0 0;\n",
              "      width: 32px;\n",
              "    }\n",
              "\n",
              "    .colab-df-convert:hover {\n",
              "      background-color: #E2EBFA;\n",
              "      box-shadow: 0px 1px 2px rgba(60, 64, 67, 0.3), 0px 1px 3px 1px rgba(60, 64, 67, 0.15);\n",
              "      fill: #174EA6;\n",
              "    }\n",
              "\n",
              "    [theme=dark] .colab-df-convert {\n",
              "      background-color: #3B4455;\n",
              "      fill: #D2E3FC;\n",
              "    }\n",
              "\n",
              "    [theme=dark] .colab-df-convert:hover {\n",
              "      background-color: #434B5C;\n",
              "      box-shadow: 0px 1px 3px 1px rgba(0, 0, 0, 0.15);\n",
              "      filter: drop-shadow(0px 1px 2px rgba(0, 0, 0, 0.3));\n",
              "      fill: #FFFFFF;\n",
              "    }\n",
              "  </style>\n",
              "\n",
              "      <script>\n",
              "        const buttonEl =\n",
              "          document.querySelector('#df-c3c720ff-6e75-4ec4-ac39-e29579eda3e9 button.colab-df-convert');\n",
              "        buttonEl.style.display =\n",
              "          google.colab.kernel.accessAllowed ? 'block' : 'none';\n",
              "\n",
              "        async function convertToInteractive(key) {\n",
              "          const element = document.querySelector('#df-c3c720ff-6e75-4ec4-ac39-e29579eda3e9');\n",
              "          const dataTable =\n",
              "            await google.colab.kernel.invokeFunction('convertToInteractive',\n",
              "                                                     [key], {});\n",
              "          if (!dataTable) return;\n",
              "\n",
              "          const docLinkHtml = 'Like what you see? Visit the ' +\n",
              "            '<a target=\"_blank\" href=https://colab.research.google.com/notebooks/data_table.ipynb>data table notebook</a>'\n",
              "            + ' to learn more about interactive tables.';\n",
              "          element.innerHTML = '';\n",
              "          dataTable['output_type'] = 'display_data';\n",
              "          await google.colab.output.renderOutput(dataTable, element);\n",
              "          const docLink = document.createElement('div');\n",
              "          docLink.innerHTML = docLinkHtml;\n",
              "          element.appendChild(docLink);\n",
              "        }\n",
              "      </script>\n",
              "    </div>\n",
              "  </div>\n",
              "  "
            ],
            "text/plain": [
              "           id                                        description\n",
              "0       44123  an original recipe created by chef scott meska...\n",
              "1       67664  my children and their friends ask for my homem...\n",
              "2       38798            these were so go, it surprised even me.\n",
              "3       35173  my sister-in-law made these for us at a family...\n",
              "4       84797  i think a fondue is a very romantic casual din...\n",
              "...       ...                                                ...\n",
              "29995  267661  this is based on a french recipe but i changed...\n",
              "29996  386977  this is a traditional fresh plum cake, thought...\n",
              "29997  103312  this is a traditional late summer early fall s...\n",
              "29998  486161  this is a delicious soup that i originally fou...\n",
              "29999  298512  i've heard of the 'cookies by design' company,...\n",
              "\n",
              "[30000 rows x 2 columns]"
            ]
          },
          "execution_count": 58,
          "metadata": {},
          "output_type": "execute_result"
        }
      ],
      "source": [
        "data_copy"
      ]
    },
    {
      "cell_type": "markdown",
      "metadata": {
        "id": "KZYA8_fnsQ88"
      },
      "source": [
        "4\\. Напишите регулярное выражение, которое ищет шаблон вида \"this..., but\" _в начале строки_ . Между словом \"this\" и частью \", but\" может находиться произвольное число букв, цифр, знаков подчеркивания и пробелов. Никаких других символов вместо многоточия быть не может. Пробел между запятой и словом \"but\" может присутствовать или отсутствовать.\n",
        "\n",
        "Используя строковые методы `pd.Series`, выясните, для каких рецептов данный шаблон содержится в тексте описания. Выведите на экран количество таких рецептов и 3 примера подходящих описаний (текст описания должен быть виден на экране полностью)."
      ]
    },
    {
      "cell_type": "code",
      "execution_count": null,
      "metadata": {
        "colab": {
          "base_uri": "https://localhost:8080/"
        },
        "id": "N1YEwMXMhMtn",
        "outputId": "da98437e-c5a9-407b-b73e-51981cc9b122"
      },
      "outputs": [
        {
          "name": "stdout",
          "output_type": "stream",
          "text": [
            "this is a great meal eaten the same day ,but even better the next day , if you can wait! add your favourite spices, but try it first as it is and i think that you will enjoy the 'vegetable' taste. good for freezing.\n",
            "this was adapted from a recipe i found on the net, but i added julienne onion to the peppers.  this is a meal in itself, or you could have a small slice with a meat dish.  for those that like to have brunch, it's a bit different to your traditional quiche recipes.  if you love cheese, you could add 1/2 cup of your favorite to the egg mixture, then pour over peppers.\n",
            "this is kind of similar to some of the other versions out there, but it is the best and easiest i have found\n",
            "134\n"
          ]
        }
      ],
      "source": [
        "data_copy = data[[\"id\",\"description\"]].copy()\n",
        "pattern = r\"\\d+\\s(hours?|minutes?)\"\n",
        "# text = \"this, but\"\n",
        "pattern = r\"^this[\\w\\s]*,\\s?but\"\n",
        "# pattern = r\"(this)\\w(,)\\s?(but)\"\n",
        "# print(bool(re.search(pattern, text)))\n",
        "# a = [\" \", \" lala \", \"this, but\"]\n",
        "# data_copy[bool(re.search(pattern, data[\"description\"])) == True]\n",
        "mass = []\n",
        "for i in data[\"description\"]:\n",
        "  if str(i) == \"nan\":\n",
        "    continue\n",
        "  if bool(re.search(pattern, i)) == True:\n",
        "    mass.append(i)\n",
        "for i in range(3):\n",
        "  print(mass[i])\n",
        "print(len(mass))"
      ]
    },
    {
      "cell_type": "markdown",
      "metadata": {
        "id": "nPJiZY-2sQ88"
      },
      "source": [
        "5\\. В текстах шагов рецептов обыкновенные дроби имеют вид \"a / b\". Используя регулярные выражения, уберите в тексте шагов рецепта с id 72367 пробелы до и после символа дроби. Выведите на экран шаги этого рецепта после их изменения."
      ]
    },
    {
      "cell_type": "code",
      "execution_count": null,
      "metadata": {
        "colab": {
          "base_uri": "https://localhost:8080/"
        },
        "id": "t3iAbx5Gu8jL",
        "outputId": "776e62c6-e5ef-4fc8-950c-06334466cfd7"
      },
      "outputs": [
        {
          "name": "stdout",
          "output_type": "stream",
          "text": [
            "Название: bavarian apple cheese cake tart\n",
            "\n",
            "1. Шаг 1 mix butter , flour , 1 / 3 c\n",
            "2. Шаг 2 sugar and 1-1 / 4 t\n",
            "3. Шаг 3 vanilla\n",
            "4. Шаг 4 press into greased 9\" springform pan\n",
            "5. Шаг 5 mix cream cheese , 1 / 4 c\n",
            "6. Шаг 6 sugar , eggs and 1 / 2 t\n",
            "7. Шаг 7 vanilla beating until fluffy\n",
            "8. Шаг 8 pour over dough\n",
            "9. Шаг 9 combine apples , 1 / 3 c\n",
            "10. Шаг 10 sugar and cinnamon\n",
            "11. Шаг 11 arrange on top of cream cheese mixture and sprinkle with almonds\n",
            "12. Шаг 12 bake at 350 for 45-55 minutes , or until tester comes out clean\n",
            "----------\n",
            "Автор: 93006\n",
            "Среднее время приготовления: 65 минут\n",
            "\n",
            "mix butter , flour , 1/3 c\n",
            "sugar and 1-1/4 t\n",
            "vanilla\n",
            "press into greased 9\" springform pan\n",
            "mix cream cheese , 1/4 c\n",
            "sugar , eggs and 1/2 t\n",
            "vanilla beating until fluffy\n",
            "pour over dough\n",
            "combine apples , 1/3 c\n",
            "sugar and cinnamon\n",
            "arrange on top of cream cheese mixture and sprinkle with almonds\n",
            "bake at 350 for 45-55 minutes , or until tester comes out clean\n",
            "\n",
            "mix butter , flour , 1/3 c sugar and 1-1/4 t vanilla press into greased 9\" springform pan mix cream cheese , 1/4 c sugar , eggs and 1/2 t vanilla beating until fluffy pour over dough combine apples , 1/3 c sugar and cinnamon arrange on top of cream cheese mixture and sprinkle with almonds bake at 350 for 45-55 minutes , or until tester comes out clean\n"
          ]
        }
      ],
      "source": [
        "show_info(72367)\n",
        "print()\n",
        "# recipe = \" \".join(b)\n",
        "# pattern = r'\\b(\\d+ \\/ \\d+)\\b'\n",
        "# replacement = lambda m: m.group(1).replace(' ', '')\n",
        "\n",
        "# recipe = re.sub(pattern, replacement, recipe)\n",
        "for i in b:\n",
        "  recipe_72367 = re.sub(r'\\s*/\\s*', '/', i)\n",
        "  print(recipe_72367)\n",
        "print()\n",
        "print(recipe)\n"
      ]
    },
    {
      "cell_type": "markdown",
      "metadata": {
        "id": "1MjW9ZR5sQ88"
      },
      "source": [
        "### Сегментация текста"
      ]
    },
    {
      "cell_type": "code",
      "execution_count": 16,
      "metadata": {
        "id": "MLHUWaXK2gHJ"
      },
      "outputs": [],
      "source": [
        "import nltk\n",
        "from nltk.tokenize import sent_tokenize, word_tokenize"
      ]
    },
    {
      "cell_type": "markdown",
      "metadata": {
        "id": "TcuWIzQfsQ88"
      },
      "source": [
        "6\\. Разбейте тексты шагов рецептов на слова при помощи пакета `nltk`. Посчитайте и выведите на экран кол-во уникальных слов среди всех рецептов. Словом называется любая последовательность алфавитных символов (для проверки можно воспользоваться `str.isalpha`). При подсчете количества уникальных слов не учитывайте регистр."
      ]
    },
    {
      "cell_type": "code",
      "source": [
        "import numpy as np"
      ],
      "metadata": {
        "id": "fMYj4zzIW1YU"
      },
      "execution_count": 17,
      "outputs": []
    },
    {
      "cell_type": "code",
      "execution_count": null,
      "metadata": {
        "colab": {
          "base_uri": "https://localhost:8080/"
        },
        "id": "MGStsA0NFzmc",
        "outputId": "239188aa-c30e-4cd7-a9c2-01d99da41c01"
      },
      "outputs": [
        {
          "output_type": "stream",
          "name": "stdout",
          "text": [
            "['head', 'health', 'accurately', 'massage', 'x5', 'puncture', 'seasame', '10-12', 'cachaca', 'instruction', 'm', 'plus', 'cavolo', 'reside', 'back', 'scar', 'lemony', 'find', 'chard', 'mac', 'brine-', 'mix', 'yolkwith', 'double', 'bamba', 'bermuda', 'internal', 'often', 'bringing', 'ham', 'quality', 'chocoate', 'pans', 'pkge', 'paper-do', 'handles', 'refridgerator', '4-inch-thick', 'stabbed', 'mayonaisse', 'filters', 'wooden', 'am', 'handfuls', 'nachos', 'prawns', 'choose-', 'frizzled', 'smoothie', 'old', 'eggplant', 'blade', 'deboned', 'thaw', 'casing', 'approximately', 'cobs', 'pineapple-rum', 'spoil', 'accompaniments', 'generous', 'thyme', 'quantities', 'souffle', 'wiz', 'semi-hollow', 'scallions', 'chipotles', 'peelings', 'ungreased', 'bud', '28cm', 'cellophane', 'stretching', '3-quart', 'pepsi', 'black-eye', 'neely', 'pimentos', 'others', '100g', 'length', 'bagels', 'wire', 'kidney', 'meats', '25-30', 'trout', 'dice', 'neck', 'adjusting', 'filled', 'sprinklng', 'drumsticks', 'even', 'marry', 'never', 'cereal', 'ect', 'chilly', \"7'x3'x2\", '4-qt', 'sachet', 'perculator', '120f', 'refrigeration', 'sour', 'shown', 'wilt', 'wineglass', 'farenheit', 'grandma', 'linguines', 'squashes', 'avocadoes', '8-by-8-by-2-inch', 'space', 'preparationplace', 'brussels', 'begins', 'corner', 'k', 'warming', 'favorite', 'lemonade', 'clams', 'wide', 'fifteen', 'knead', 'bases', 'jus', 'sterilized', 'delicious', 'envelope', 'paper-line', 'kasha', 'cookin', 'fresno', 'jars', '190c', 'frothy', 'v8', 'sliver', 'degree', 'covers', 'whip', 'schnapps', 'duty', 'eggs', 'margerine', 'three-quart', 'crema', 'vindaloo', 'scallops', 'clementine', 'crusts', 'medium-sized', 'smallish', 'dat', 'slurry', 'handling', 'jalapeo', 'asian', 'can', 'called', 'baste', 'appears', 'nam', 'gherkins', 'come', 'sort', 'country', 'border', 'smoooth', 'vent', 'hot', 'circumference', 'shrimp', 're-sealable', '6-oz', 'equal-sized', 'slot', 'singe', 'island', '475f', 'sweat', 'interior', 'buter', 'puddings', 'fulling', 'flame', 'oats', 'alumna', 'firmly', '28', 'skips', '12-inch', 'begin', 'shakes', 'pre-heat', 'vitamix', 'mussel', 'buttermilk', 'keep', 'grates', 'lean', 'halved', 'whey', 'object', 'prik', 'tough', '2-to', 'unoiled', 'pasta', 'cookarolis', 'comes', 'non-vegetable', 'philadelphia', 'wall', 'udon', 'cardamon', 'heaping', 'discolour', 'thermometer', 'purchase', 'said', 'bechamel', 'beef-style', '365', 'obtain', 'pack', 'gas', 'frost', 'rhubarb', 'dropped', '12-count', 'bright', 'tumerik', 'thirty', '12-cup', '100', 'bok', '-ina', '8-inch-thick', 'catalina', 'nutter', 'hard-ball', 'ecpect', 'foams', 'garlicy', 'mellow', 'bands', 'brownie', 'shallow', 'aioli', 'stops', 'results', 'programme', 'spring-form', 'ziploc', 'twenty-four', 'mussels', 'including', 'tang', 'nectar', '11', 'paneer', 'spare', 'hang', '4-cup', 'jello', 'corn', 'yams', 'critical', 'ouside', 'shoe', '-preheat', 'topping', 'those', 'downward', '|stir', 'rinsing', 'timet', 'bend', 'adds', 'clementines', 'sweetener', 'chew', 'coarse', '3-inch-long', 'brown', 'dhal', 'requires', 'tomatoesand', 'poltry', '3-inch', 'strip', 'tied', 'marshmallow', 'kethcup', 'paint', 'processsor', 'cake', 'spatzle', 'going', 'cut-up', 'marinate', 'tenderizer', '2-quarter', 'syringe', 'flip', 'now', 'transfer', 'spout', 'towelling', 'powdered', 'balloon', 'mixer-beat', 'cheerios', 'dredge', 'bottle', 'assemble', 'little', 'fiber', 'chunkiness', 'kaiserschmarren', 'sauti', 'briquettes', 'amarula', 'controlled', 'places', 'avacoda', '5-10ml', 'flame-prrof', '170oc', '4-', '320f', \"n't\", 'ccream', 'secure', 'strips', 'body', 'tend', 'first-', 'fritters', 'bitterness', 'wonton', 'microwavable', 'spanish', 'striped', 'miso', 'shin', 'marnier', 'material', 'extractor', 'sixths', 'rapid', 'preceding', 'cream', 'capsicums', 'extra-ripe', 'caster', '312986', 'freezing', 'fun', 'roaster', 'saucepam', 'nugget', 'too', 'peppermint', 'prosecco', 'skirlie', 'condiments', 'softening', '275f', 'air-tight', 'quesadilla', 'inces', 'ovals', 'crabs', 'boils', 'virgin', 'saffron', 'decide', 'ingediants', 'hog', 'cornflake', 'tacos', 'sansho', '400-degree', 'itself', 'pass', 'chiltomate', 'pea-sized', 'raspberry', 'work', 'allspice', 'liquefy', 'adjust', 'sproats', 'kefir', 'so', 'gallon', 'accordingly', 'tortilla', 'but', 'blackberries', 'burgundy', 'insides', 'quick', 'coffee', 'herbes', '913', 'explode', '8-in', 'pan-fried', 'crushed', 'strings', 'smaller', 'let', 'bought', 'by', 'nothing', 'deep-fryer', 'thing', 'amout', 'tightly', 'inner', 'solids', 'tofu', 'oranges', 'arranged', 'sunchokes', 'preheat', 'edges', 'roll', 'mixture', 'need', 'my', 'beer', 'link', 'pear', 'soaked', 'scrambled', 'depends', 'dot', 'steelhead', '330', 'buffalo', 'membranes', 'transparent', 'create', 'hard', 'chopper', 'paper-thin', 'ap', 'manufactuer', 'xylitol', 'because', 'george', 'peics', 'grip', 'angle', 'boling', 'glaze', 'bugles', '190', 'browns', 'julienned', 'avacados', 'standing', 'thinkness', 'crowd', 'perserves', 'cardamom', 'scorch', 'steviva', 'disolve', 'filter-lined', 'bouquet', 'succhini', 'feta', 'okra', 'rising', 'jelly-roll', 'unblemished', 'brown-butter', 'bran', 'nondairy', 'the', 'heavy-', 'hours', 'shaken', 'each', 'sparkling', 'uncooked', 'pineapples', 'rotelli', 'gather', 'anaheim', '315df', 'serrated', 'good', 'mugs', 'layers', 'tail', 'imitation', 'along', '5-7', 'freezer', 'haddock', 'sprigs', 'paprika', 'slide', 'skip', 'omitting', 'stewed', 'mariner', 'blueberries', '9x12', 'litres', '30', 'upper', 'continously', 'recipes', 'trace', 'whir', 'peeling', 'bottoms', 'castellane', 'sage', 'turning', 'bowls', 'lumpy', 'tblsp', 'dutch-oven', 'grows', 'mcd', 'needle', 'oxtail', 'defrost', 'cheesecloth-lined', 'slices', 'been', 'papers', 'scale', 'sandwiches', 'diet', 'moderate', 'ratio', 'lardon', 'untill', 'dente-drain-plunge', 'produce', '48-72', 'chuck', 'tofuand', 'al', 'finest', 'drizzle', 'galangal', 'sriracha', 'ice-cream', '225c', 'turnip', 'watts', 'crack', 'lge', 'weiners', 'essential', 'ears', 'butcher', 'under-cook', 'barbecue', 'attachment', 'pop', 'overnight', 'nonmetallic', 'ye', 'light', 'bundle', 'case', 'ovr', 'breaking', 'oil-wipe', 'charcoal', 'crock', 'mark7', 'pepper', 'ovent', 'thousand', 'apprx', 'candy', 'incorporating', '32', 'purposes', 'medium-', 'feed', 'portabella', 'limp', 'omit', 'easiest', 'snapper', 'decorated', 'caramilsed', 'fit', 'sirloin', 'fork-', 'smear', 'process', 'forced', 'like', '350^f', 'starter', 'ball', 'refrigerator', 'red-pepper', 'juniper', 'oeven', 'crisp-tender', 'dregees', 'snickers', 'cantaloupe', 'cognac', 'hieat', 'paper', 'braid', 'nori', 'stew', 'dispersed', 'half-and-half', 'splah', 'non-metallic', 'creamer', 'stretch', 'them', 'bruise', 'alternating', '240c', '3', '30358', 'fixing', 'previous', 'guacamole', 'trash', 'all-bran', 'kale', '1015x1', 'cummin', 'pestle', 'positon', 'nearly', '3qt', 'frying-pan', 'vidalia', 'sole', 'veal', '500', 'sand', 'preparing', 'regular', 'arms', 'hokkaido', 'flour-', 'bourbon', 'penne', 'salty', 'tub', 'medallions', 'caramelize', 'accoring', 'crumbled', 'harina', 'pilsner', '0', 'seeds', 'degres', 'months', 'necessary', 'dishes', 'margarine', 'kool-aid', 'fryer', 'shao', 'problems', 'garnish', 'cheerwine', 'frank', '18', 'lid', '500f', 'smells', 'raising', 'optional', 'fat', 'codfish', 'leave', 'bun', 'ts', 'berrie', 'earth', 'steps', 'gingeroot', 'deg', '115', 'there', 'tomatillo', 'pannacotta', 'food-processor', '30-40min', 'nuts', 'al-hanout', 'citrus', 'rib', 'eat', 'manufactor', 'helps', 'marinating', 'octopus', 'creations', '300c', 'disks', 'beetroot', 'squeeze', 'caramelisation', 'med-low', 'roastin', 'chopped', 'mat', 'mozzarella', 'melt-in-your', 'ala', 'shoots', 'sideboys', 'placed', 'kahlua', 'morels', 'defrosted', 'hoisin', 'briskly', 'easy', 'infusion', 'ornstarch', 'cooling', 'release', 'pies', 'prune', 'togeth', '4-quart', 'marie', '-measure', 'appear', 'cottage', '4+', 'bite-size', 'carrots', 'bailey', 'layer', '115f', 'coats', 'kernals', 'exposed', '1-quart', 'serve', 'potatos', 'sizzling', 'garlic', 'miracle', 'banana', 'pretzel', 'stuffing', 'yoghurt', 'mixing', 'ceyenne', 'added', 'pie', 'quark', 'decrease', 'thicken', 'packages', 'thought', 'fridge', 'sponges', 'tbsps', 'scraping', 'pulverized', 'shriveled', 'buckwheat', 'plank', 'three', 'garbanzo', 'hazel', 'every', 'gatorade', 'elk', \"'til\", 'candied', 'smooch', 'bonnet', 'enough', '3-1', 'list', '15-30', 'stove', 'liqueurs', 'rehydrate', 'unsliced', '15-', 'lukewarm', 'unfilled', 'beating', 'corned', 'forming', 'squares', '9', 'wear', 'between', 'unpackage', 'gras', 'vinegar', '110f', '13x9x2-inch', 'tblsps', 'heat', 'liquid', 'prime', 'flavors', 'explain', 'corriander', 'behind', 'starts', 'herb', 'precooked', 'nonpareils', 'read', 'barley', 'without', '2-5', 'chow', '8', 'spaghettini', 'syrup', 'shorter', '350-deg', 'soapy', 'dishwasher', 'mandren', 'skins', 'computer', 'wheat', '1-inch', 'extract', 'meanwhile', 'feeds', 'main', 'skillets', 'egg', 'quiche', 'bibb', 'perfect', 'fibrous', 'merangue', 'absorb', 'bacardi', 'finger', 'chiles', 'serrano', 'holder', 'preferable', 'bowl', 'blendedmash', 'air', 'breats', 'di', 'salsa', 'coleslaw', '-gumbo', 'crush', 'rag', 'caps', 'min', 'flameproof', 'cavity', 'that', 'curl', 'specifications', 'containers', 'yogurt', 'overlap', 'feathery', '12-24', 'calling', 'secret', 'caraway', 'interval', 'tomatillos', 'rise', 'rinserice', 'hidden', 'sause', 'saturday', 'one-inch', 'gnocchi', 'last', 'pan-fry', 'peas', 'winged', '45', 'centigrade', 'parmazano', 'render', 'fine', 'smashed', 'largest', 'soap', 'sides', 'scallion', '170f', 'built-in', 'prevent', 'raw', 'salt', 'greased', 'seaon', 'meaty', 'rollups', 'ras', 'sugared', 'bird', '13-15', 'aquare', '300f', 'reese', 'overn', 'shaking', 'clean', 'sticking', 'shucked', '25mins', 'balls', 'abodo', 'drain', 'strain', 'scorched', 'carton', 'cleaning', 'zippered', 'prheat', 'lumps', 'tamari', 'spike', 'whose', '210', 'micro-wave', 'cores', 'sections', 'accent', 'twine', 'chutney', 'nose', 'opaque', 'x8', 'lemon-herb', 'twos', 'broiler', 'rest', 'au', 'cooled', 'oz', 'texas', '200deg', 'sorbet', 'yolks', 'heads', '450-degree', 'mirin', 'consistently', 'grit', 'firs', 'heinz', 'daikon', 'toothpaste', 'peppered', 'crepes', 'crustless', 'foccacia', '19cm', 'chana', 'colesalw', 'pan-searing', 'measure', 'milks', 'wrapped', 'vitamins', 'lamington', 'shaver', '425', 'short', 'reaches', 'free', 'second-highest', 'breeze', 'soymilk', 'refer', 'skinned', 'tall-sided', 'safety-first', 'meat-mixture', 'lump', 'loose', 'permit', 'buttered', \"'d\", 'dehydrated', 'krimpets', 'bath', 'peper', 'shallot', 'pair', 'broiled', '220oc', 'aussie', 'kisses', 'manufacturer', '25', 'thawed', 'believe', 'chute', 'eagle', 'button', 'alternative', 'dishing', 'components', 'jack-o-lantern', 'tuperware', 'vagueness', 'gets', 'unflavoured', 'prepararation', '10x7', 'rose', 'other', 'hrs', 'fudge-like', 'lol', 'ready-crust', 'sufficient', 'cucumbers', '130', 'currant', 'areas', 'lengthways', 'blind', 'erserving', 'peppercors', 'day', 'stated', 'intensity-', 'mints', 'muscle', 'planks', 'were', 'blending', 'rounded', 'promegranate', '57', 'combien', 'coca', 'underneath', 'pigs', 'roughly', 'bain', 'special', 'took', 'desserts', 'chunky', 'diving', 'ripe', 'bind', 'deep-fry', 'creme', 'twinkies', 'measurements', 'strps', 'post', '9x9x2-inch', 'sugar-gradually', 'one-second', '-bring', 'soome', 'healthy', 'highest', 'extending', 'used', 'campari', 'put', 'scrape', 'nonreactive', 'set-up', 'pm', 'weighting', 'lime-garlic', ':', 'stirred', 'grapes', 'champagne', 'fitting', 'change', 'charredblack', '6-250', 'pre-bake', 'mousse', 'enought', 'disaronno', 'pipe', 'leek', '40265', 'coloured', 'stemmed', 'canes', 'curacao', 'provence', 'poke', 'fideo', 'angelfood', 'tb', 'tilapia', 'non-', 'crisco', 'microwave-proof', 'oven', 'sprinkle', '325f', 'pale', 'rinse', 'seriously', 'pearls', '2t', 'keeps', 'cheddar', 'chipotle', 'debris', 'picking', '340f', 'usual', 'star', 'scales', 'colouring', 'panfry', 'flakes', 'pinto', 'splenda', 'quartered', 'burns', 'juices', 'while', 'variation', 'dissoved', 'carmelise', 'herbed', 'hoizontally', 'brisket', 'silken', 'enoough', 'falls', 'basil', 'pulverize', 'asian-inspired', 'microplane', 'strong', 'cover', 'fahrneheit', 'potatoes', '309834', 'melt', 'nine', 'crispness', 'mutton', 'excessive', 'presoak', 'additionally', 'stakes', 'attractively', 'one-sixteenth-inch', 'mixes', 'manocotti', 'rare', 'rack', 'freezable', 'spaghetti', 'vein', '30-45', 'recipe', 'bulghur', 'cut-side', 'utensil', 'trimmings', 'slotted', 'mornings', 'chanterelles', 'stewing', 'pinfeathers', 'zinger', 'kathie', '2-layer', 'broilerproof', 'shots', 'away', 'bakers', 'germ', 'teaspoonfuls', 'indgredients', 'ear', '6:1', 't', 'stovetop', 'prebake', 'near', 'infused', 'grab', 'rol', 'im', 'minute', 'vol-au-vent', 'toss', 'different', 'fix', 'beneath', 'risotto', 'enamel', 'theoven', 'alumium', '400^', 'spreading', \"'m\", '10x8', 'tortellini', 'smoky', 'boxed', 'mallet', 'pairs', 'inevitable', 'three-quarters', 'dungeness', 'wonderful', 'chip', 'perpare', '1-2', 'briskett', 'neufchatel', 'piecrusts', 'wood', 'leaving', 'filets', 'quarter', 'tahini', 'cherries', 'shuck', 'dressing-', 'surfaces', 'kraft', 'shredder', 'bubbles', 'half-filled', 'down', 'rye', 'semi', 'lift', 'staples', 'tie', 'par', 'carmelized', 'photo', 'dry', 'wing', 'quart', 'picture', 'halves', \"'re\", 'low-med', 'dream', '13-x9-inch', 'cannellini', '10-inch', 'untoasted', 'nutmeg', 'crystal', 'x', 'mustards', 'ending', 'higher', 'smoothie-ize', 'leavesand', 'deer', 'finished', 'danish', 'ingredeints', 'lower', 'oven-proof', 'lime', 'moto', 'whiskey', 'slightly', 'l', 'precisely', 'v-8', 'mandarin', 'batches', 'capers', 'unthawed', 'juicer', 'moderately', 'highball', 'rimmed', 'briefly', 'chipotle-powder', 'cob', 'combune', '2-tablespoon', 'farro', '72', 'medum-sized', 'ppowder', 'week', 'funnel', 'blender', 'jalapenos', 'extend', 'carcass', 'salisbury', 'slivers', '8-inch', 'shredding', '40', 'lower-middle', 'sizzle', '16-inch', 'micro-safe', 'plunging', 'bladed', 'slashes', 'low-salt', 'lump-free', '-to', 'steaks', 'turns', 'combina', 'icxe', 'tinfoil', '9x5x3-inch', '5-6', 'ad', '5-quart', 'shitake', 'basket', '12x14', 'acini', 'meld', '13x9-inch', 'prepping', 'order', 'remain', '350-400', 'soups', 'quinoa', 'thickens', 'support', 'manual', 'together', 'adente', '7-9', 'piece', 'kiwifruit', 'fluid', '300-degrees', 'bubbly', 'card', 'agar', '200ml', 'or', 'romaine', 'keeping', 'cobbler', '8x8x2', 'caked', 'well-coated', 'get', 'snicker', 'securely', 'shaker', 'mochiko', '325-degree', 'heat-proof', 'innards', 'platetofu', 'brandy', 'eggbeaters', 'preiheat', 'jellyroll', 'prosciutto', 'kuchen', 'film', 'large', 'decent', 'noodle', 'pieces', 'fries', 'flatten', 'hotdog', 'buy', 'year', 'colander', 'pasty', 'further', 'all', 'rib-eye', 'raised-based', 'resemble', 'shy', 'aji', 'lock', 'plan', 'fulls', 'passion', 'evenly', 'overcooked', 'dicing', 'depression', 'emptied', 'knead-', 'gm', 'chill', 'checca', 'two', 'filter', 'darken', 'best', 'chocoloate', 'softer', 'togther', 'stalk', 'same', 'rid', 'bangers', 'oilin', '56', 'extends', 'loc', '43', 'shock', 'pliers', 'mayo', 'thinnest', 'habanero', 'layered', 'x10', 'beetroots', 'mashmallow', 'ca', 'seam', '50-60', 'pretzels', 'drape', 'blackens', 'reduced-fat', 'baby', 'combination', 'burgers', 'below', 'belpepper', 'pita', 'nog', '11x7', \"'s\", 'red-hots', 'corning', 'tbs', 'thoroghly', 'just-boiled', '32-oz', 'snug', 'safety', 'almost', 'scrub', 'waxed', 'latkes', 'setting', 'uses', 'proccessor', 'hollow', 'daiquiri', 'tablespoons', 'bags', 'pit', 'many', 'fabric', 'dist', 'replace', 'of', 'merlot', 'apricot', 'raisin', 'blood', '[', 'shade', 'thouroughly', 'flowerets', 'mahi', 'a', 'draw', 'rim', 'waffle', 'skew', 'damp', 'occasionally', 'gone', 'maple', 'next', '8-qt', 'proportional', 'sliced', '15x10', 'breast', 'hershey', 'kashmiri', 'two-or', 'valley', 'tray', 'quinces', 'reccomendations', 'pizzas', 'bananas', 'control', 'minimuffin', 'sorta', 'see', 'avocados', 'liqeuors', '110', 'indicated', 'farina', 'gobs', 'enchilada', 'cleanup', '5-qt', 'lavash', 'ing', 'cicln', 'non-dairy', 'unwrap', '730', '5-10', 'mini', 'stick-blender', 'me', 'takmaria', 'ea', 'medium-hi', 'reggiano', 'smokng', 'licorice', 'hen', 'sized', 'substitute', 'does', 'abundant', 'rich', 'ingredidients', 'crabmeat', 'apply', 'pinch', 'spill', 'halibut', 'soyabeans', 'listed-the', 'sea', 'g', 'course', 'giner', 'house', '8-12', 'suagr', 'tenders', 'plump', '2', 'bean', '23', 'electic', 'worchestershire', 'over', 'tony', 'heate', 'medium-heat', 'craisins', 'zucchinis', '210ml', 'load', '139', 'chianti', 'shallots', 'ta', 'bows', 'r', 'chamomile', 'still', 'jambalaya', 'floating', '30-', 'sprig', 'continue', \"''\", 'drambuie', 'bordeaux', 'hollandaise', 'blisters', 'sparingly', '13x', 'jicama', 'crosswise', 'only-go', 'serving', 'sunflower', 'enhancer', 'already', 'tidbits', 'was', 'measured', 'could', 'sifting', 'cent', 'ounces', 'sucepan', 'madeira', 'maria', 'hits', 'supreme', 'greaseproof', 'chop', 'elderflower', 'heat-safe', 'reads', 'heat-drain', 'tamarind', 'seven', 'undercooked', 'clarified', 'baker', 'seed', 'core', 'cling', '9x9x2', 'technique', 'foie', '12ct', 'romano', 'goats', 'steralize', 'based', 'period', 'spray', 'slides', 'mojo', 'stand-up', 'sprinkled', 'removed', 'incorporate', 'miniature', '10-20', 'swede', 'lettuces', 'leaf', 'filo', 'saucepot', 'crumbles', 'frosting', 'fructevia', '9x', '5min', 'zip', 'brownies', 'liquor', 'orange', 'ice', 'food-storage', 'toward', 'dips', 'separately', 'mostly', 'cilanto', 'pulled', 'make-a-roux', 'snaps', 'muffins', 'stock', 'crumbly', 'second-lowest', 'hamburger', '75', 'med', 'score', 'cracker', '200oc', 'ingredient', 'dew', 'swish', 'whiskers', 'super-hot', 'real', 'hammer', 'instant', 'canadian', 'sweet', 'mediumheat', 'lg', 'fast', 'dough', 'immediately', 'jug', 'ribs', 'marbles', '90', 'gin', 'onion-mushroom', 'grapefruit', 'powderand', 'portions', 'doing', 'b', 'ropes', 'nutty', 'german', 'distribute', 'clumps', 'shoulder', 'sweet-sour', 'pimientos', 'nutella', 'sandwich', '360ml', 'cheez', 'boiled', 'tassies', 'tenderloin', 'peak', 'lines', '10qt', 'heart', '50g', 'vegan', 'foreman', 'whisky', 'seasonall', 'hazelnuts', 'exterior', 'peeled', 'tomatoe', 'translucent15-20', 'carmilize', 'sacue', '350', 'length-wise', 'mexican', '-cinnamonraisin', \"'marinade\", 'balled', 'poblanos', 'twisted', 'vegetables-', 'whits', 'sauces', 'meium', 'saucepan', 'second', 'leg', 'plastic', 'teaspoonsful', 'porcini', 'truffles', 'entire', 'pickled', 'cherry', 'punch', 'galanga', 'flaxseed', 'soy', 'upside', 'odd', 'grounded', 'his', 'bottom-of-the-bowl', '2-inch', 'minimum', 'fan-forced', 'maching', 'corer', '2-', 'turkey', 'fall', 'upon', 'found', 'enjoy', 'firmer', 'mounds', 'finally', '450', 'block', 'adobe', 'melted', 'an', 'sissors', 'minutes-', '@', 'unril', 'dices', 'spraying', 'prehaet', '14oz', 'longer', 'curd', 'tails', 'batter', 'coffeemaker', 'bown', 'strips-', 'marinade-combine', 'tiger', 'hearts', 'silicone', '7-10', 'undissolved', 'glutinous', 'utensils', 'include', 'braising', 'salt-free', 'pounds', 'depend', '9x5x3', 'right', 'rectangles', 'saltines', '12mm', 'scrubbed', 'de-vein', 'collins', 'het', 'wood-ash', 'bruised', 'pointing', 'spinach', 'difficult', 'jelly', 'spoke', 'seasonings', 'loaves', 'two-crust', '190oc-200oc', 'sludgy', 'brats', 'streusel', 'noncorrosive', 'kernel', 'sit', 'vanill', 'skinless', '350-', 'papery', 'garlice', '200f', 'ziptop', 'compress', 'shimmers', 'sticy', 'pot', '9x13', 'crispy', 'smokie', 'form', 'cartilage', 'available', 'such', 'cashews', 'ok', 'sprinkling', 'continuously', 'levels', 'wo', '140', 'stale', '20g', 'top', 'creating', 'spring', 'ducth', 'allowing', 'guavas', '13x9', '9x13-inch', 'disk', 'ill', 'theyre', 'figs', '12x8x2', 'mediun', 'unser', 'zip-loc', 'double-strength', 'did', 'non', 'out', 'slip', '2-3-quart', 'ground', 'perheat', 'vermicelli', 'bow', '24', 'chokecherry', 're-hydrate', 'bowl-', '3cm', 'ghee', 'dressings', 'springs', '2-count', 'seeasonings', 'silk', 'ladyfingers', 'flat-top', 'thick', 'gallo', 'plate', 'til', 'croutons', 'wide-mouth', 'cheeze', 'liqueur', 'slicer', 'french', '8x8', 'slaw', 'pound', 'exactly', 'rices', 'instead', 'storing', 'unflavored', 'chewy', 'sweetcorn', 'apart', 'vanilla-', 'against', 'yum', 'flan', 'trim', 'milk', '-mix', 'fallowed', ')', 'in', 'barbecue-medium', 'power', 'would', 'undrained', '5c', 'undiluted', '16-ounce', 'boiling-water', 'instructed', 'carefully', 'recipe-', 'breadmaker', 'golf', 'firm', 'processing', 'sprout', 'plum', 'commercial', 'similar', 'partly', 'cut', 'lenthwise', 'opening', 'benefits', 'off', 'be', 'done', 'balsamic', 'resemles', 'you', 'takes', 'mixingand', 'half-filets', 'widthwise', 'shredded', 'pcs', 'rince', 'wasting', 'specified', 'char', 'zuccini', 'wrist', '54-quart', 'dashi', 'ton', 'pared', 'southern', 'blocks', 'hope', 'packets', 'alternatively', 'fava', 'bread', '8x8x2-inch', 'dampen', '325^f', 'cocktail', 's', 'industrial', 'prepare', 'crowding', 'countertop', 'brushing', 'lemon', 'middle', 'baked', 'flavor', 'breasts', '135f', 'door', 'flowers', 'essence', 'mark-do', 'smoked', 'nuggets', 'stones', 'nedium', 'butter-side', 'wearing', 'prehart', 'grinder', 'very', 'half-half', 'eggnog', 'meringues', 'cm', 'inch', 'although', 'explanatory', 'chive', 'skewer', 'experiment', 'vegetable', 'thouroghly', 'pricked', 'dipping', 'pkg', '8oz', 'frangelico', 'mould', '4-6oz', 'presentation', 'loosen', 'potential', 'self', 'monty', '6', '4-1', 'shape', 'saltpeter', 'coloring', 'biggest', 'cuts', 'cloth', 'oi', 'not', 'burn', 'garnis', 'oven-safe', 'extracts', 'dove', 'packed', 'toothpick', '10x6', 'bisquick', 'omto', 'steaming', 'combine', 'watch', 'plant', 'chimichurri', 'butters', 'contain', 'blend', '12-in', 'alfredo', 'originally', 'stir', 'flour-like', 'oamc', 'reserve', 'de-seed', 'though', 'lightly', 'only', 'chili-garlic', 'capacity', 'grain', 'stamens', 'puree', 'mode', 'comprise', 'original', 'bm', '350-degrees', 'ritz', 'want', 'toaster', 'dissolve', '1-teaspoon', '125c', '180', '5-cup', 'their', '8-inch-square', 'totally', 'foil', 'removable', 'blanch', 'riesling', 'steak', 'tropical', 'skillet-', 'portobello', 'chilled', 'frais', 'burritos', 'punchbowl', 'traditional', 'half-hour', 'increments', 'treat', 'total', 'ingerdients', 'prior', '1-in', 'montreal', 'machines', 'favourite', 'basin', 'combined', 'blowing', 'wish-this', 'avodcadoes', 'yet', 'breadcrumbs', 'crust-', 'flavoring', 'straight-sided', 'partially', 'cruet', 'constantly', 'redness', 'x15', 'morsels', 'store', 'ravioli', 'standard-size', 'dissolving', 'liquours', 'oj', 'sweating', 'shrivled', 'thawing', 'olives', 'rounds', 'monde', 'mean', 'butterfly', 'smokies', 'curry', 'butternut', 'tripe', 'separate', 'radiatore', 'they', 'steep', 'yeast', 'paralyzer', 'tartar', 'skim', 'simmer', 'saltine', 'shoyu', '2-6', 'pad', 'says', 'are', 'placing', 'following', 'pepperoncini', '2-quart', 'medium-low', 'way', 'stable', '6-qt', 'honey-chipotle', 'bittersweet', 'goreng', 'cupcakes', 'heavy-bottomed', 'midribs', 'smoking', 'beets', '105f', 'coarse-ground', 'condiment', 'gently', 'scum', 'gladware', 'toll', 'paddle', 'veggie', 'equal', 'window-', 'taste', 'people', 'cutter', 'crystallized', 'written', 'filling-preheat', 'looking', 'jalepeno', 'select', 'pine', 'med-hi', 'coating', 'appox', 'popper', 'breakfast', 'mini-loaf', 'equipment', 'gallon-sized', 'mangos', 'canola', 'sponge', 'weed', 'tube', 'flavorings', 'half-inch', 'underside', 'extremely', '1-1', 'chunk', '9-1', 'water-do', 'crackly', 'ginger-garlic', 'cran-raspberry', 'buttons', 'bag', 'caraelise', 'somewhere', 'wedges', 'peels', 'spirits', 'hamburg', 'cans', 'hole', 'oiled', 'moons', 'abuot', 'who', 'sprinform', '200g', 'fingerlength', 'opposite', '9-x-5-inch', '350ff', 'guar', 'kohlrabi', 'scoops', 'is', 'horizontally', 'wilted', 'gum', 'disintegrates', 'weenies', 'shell', '8x8in', 'ahead', 'frosty', 'trays', 'minsuntil', '5-pound', 'example', 'develop', 'strainer', '#', 'safe', 'cacao', 'excess', 'facing', 'thickened', 'pre-soak', 'cheese-cloth', 'tomato', 'togethet', 'brew', 'par-boil', 'rock', 'cashew', 'celcius', 'onto', 'occassionally', 'pocket', 'unit', 'fatback', 'defrosting', 'icy', 'peeking', 'stiff', 'hydrogenated', 'assembled', 'poaching', 'diagonally', '2-litre', 'hash', 'result', 'ziplock', 'flours', 'browned', 'camembert', 'expensive', 'falling', 'caution', 'ingreedients', 'bundles', 'smoother', 'max', 'tender-firm', 'palm', 'lay', 'stays', 'fenugreek', 'nonstock', 'pimiento', 'box', 'ingrients', 'chili', 'joe', 'peanutbutter', 'rotissiere', 'crackers', 'switch', 'container', 'velveeta', 'floor', 'followed', 'crunched', 'scooping', 'think', 'masala', 'pausing', 'style', 'fully', 'bay', 'sambal', 'gazpacho', 'bahmi', '300of', 'boboli', 'double-layered', 'aniseeds', '8x8-inch', 'pero', 'sits', 'equally', 'drumstick', 'for', 'parsnips', 'benedictine', 'may', 'lone', 'draining', '2-4', 'local', 'fruits', 'pitcher', 'rectangular', 'latter', 'preparation-', 'volume', 'petals', 'type', 'crpe', 'larg', \"'liquified\", '5-inch', 'spoons', 'servings', 'hit', 'five', 'w', 'extracting', 'chaat', 'o', 'winter', 'koeksisters', 'vendor', 'pastas', 'zucchini', 'leeks', 'processer', 'glas', 'adobo', 'pint-sized', 'please', '10in', 'medium-size', '9-13', 'mixed', 'browning', 'poultry', 'steamy', 'pre-mixed', 'cracked', 'mignon', 'pulse', 'substitutes', 'bars', 'hob', 'racks', 'threads', 'creamy', '5mm', 'tostada', 'ramen', 'ajino', 'legs', '1-qt', 'furst', 'cook', 'nozzled', '50ml', 'd', 'cold', 'say', 'lemon-if', 'pheasant', 'okras', '8-oz', 'mini-chopper', 'cycle', 'pouring', 'served', 'inch-wide', 'locker', '8x12', 'litre', 'high', '2-inches', 'expose', 'preserving', '23cm', 'mentioned', 'cointreau', 'insturcted', 'tines', 'dumplings', 'loomi', 'apiece', 'smooth', 'pitted', 'zuke', 'ever', 'julienne', 'beaters', 'stevia', 'tamarillos', 'must', 'later', '-quart', 'zigzag', 'blitz', 'inc', 'ramekin', 'risotta-making', 'concentrates', 'tsbp', 'walnut', 'broiling', '30cm', 'oreos', 'deeply', 'rapidly', 'chucks', 'conc', 'belt', 'proportions', 'prosesser', '64', 'it', 'soda', 'tear', 'crostini', 'ingredients', 'polish', '754', 'plumped', 're-form', 'nestl', 'moong', 'ensuring', '220', 'beat', 'toppings', 'evaporates', 'stems', 'de-skin', 'savory', 'tongues', 'somewhat', 'ragu', 'carrot', 'haricots', 'wider', 'forcefully', 'silver', 'tart', '320', 'prep', 'mayonnasise', 'rockmelon', 'sake', 'bunt', 'lot', 'pliable', 'listing', '9x12-inch', 'singing', 'wafers', 'crockery', 'postition', 'adzuki', 'nut', 'combin', '2-pound', 'dissappers', 'counter', 'usually', 'method', 'flame-roast', 'ways', 'sauce', 'nb', '360f', 'icing', 'days', '961', 'spots', 'blueberry', 'lighter', 'glad', \"325f'score\", 'pinenuts', 'mince', 'wine', 'frozen', 'fair-sized', 'wise', 'coursely', 'foor', 'jack', 'straining', 'cast', 'whole-wheat', 'vigourously', 'fourths', 'recommendation', 'translucent', 'tiny', 'hea', 'hazelnut', 'powdery', 'rosemary', 'tri-', 'soup', 'holes', 'shimmering', 'rightaway', 'gloves', 'yummy', 'dissolves', 'feel', 'seas', 'oils', 'escape', 'powders', 'filling', 'punching', 'overwhelmingly', 'ingredieants', 'again', 'half', 'outdoor', 'basmati', 'marsala', 'heatproof', 'florets', 'pastry', 'distilled', 'thin-and-crispy', 'briskets', 'thread', 'wakame', 'sauteing', 'scones', 'tossing', 'ware', 'boards', 'rubber', 'squash', 'pancake', 'cola', 'turmeric', 'runny', 'coarsley', 're', 'pepepr', 'two-bite', 'crock-pot', 'lbs', 'obviously', 'skewers', 'crumble', 'removeas', 'salt-', 'pierogi', 'alice', 'pao', 'links', 'edamame', '3-cup', 'yolk', 'microwaveable', 'cross-wise', 'popover', 'prepared', 'mayonaise', 'no', 'vinaigrette', 'temp', 'loaded', 'luscious', 'brussel', 'lenghthwise', 'reasons', 'acorn', 'active', 'elbows', 'submerged', 'plaace', 'snappers', 'sold', 'relish', 'give', 'partway', 'cases', 'flaky', 'sheets', 'parmigiano', '238f', 'pricking', '/', 'vodkayou', 'haze', 'vertically', 'minimun', 'stop', 'softened', 'mezzaluna', 'posted', 'scalded', 'tenderness', 'extaract', 'tsps', 'lidf', '2qt', 'oinon', 'distributed', 'dog', 'some', 'segments', 'two-burner', 'stopper', 'strained', 'creaming', 'curried', 'cheese', 'joints', 'quantity', 'fine-mesh', 'portebellos', 'hocks', 'pan', 'boneless', 'previously', 'fashioned', 'tp', '325-degrees', 'exess', 'degrease', 'ingreients', 'decreased', 'coins', 'water-', 'cardomom', '5', 'purie', 'unopened', 'asks', 'accommodate', 'procesor', 'vertical', 'fist', 'blanching', 'wanter', 'mashed', 'peppercorns', 'tapioca', 'coconut', 'moisten', 'bitters', 'dariole', 'tbps', 'manufacturers', 'tblspn', '250c', 'mark6', 'powerful', 'cube', '%', 'sundae', 'tabouleh', 'begining', 'breadcrubms', 'depending', 'splitpeas', 'grains', 'drippings', 'teaspoon', '1-', 'qt', 'fluff', 'achieve', 'shows', 'moistened', 'freezer-proof', '5cm', 'wooded', 'appropriate', 'yes', 'myers', 'dust', 'tabasco', 'hopper', 'seseme', 'limes', 'cookies', 'isle', 'blossoms', 'ribbons', 'pourable', 'veinegar', 'ev', 'pluck', 'meringue', 'omelette', 'cavender', 'bones', 'pam', 'facial', 'weetbix', '15x10-inch', '10-14', '20-', 'unpricked', 'chocolate', 'oiluntil', 'savoy', 'greese', 'juice', 'cold-running', 'mung', 'galric', 'navel', 'huckleberries', 'fitted', 'moistens', 'portabellos', 'neatly', 'muffinettes', 'alum', 'saucegarlic', 'bins', 'ww', 'sleeves', 'rings', 'flute', 'patty', 'checkerboard', 'marinated', 'pyrex', '11x7x2', 'suger', '9-inch-diameter', 'redfish', 'alternately', 'sloped', 'ladle', 'peaks', '4000f', 'screw', 'perimeter', 'unwanted', 'seared', 'jalapenoes', 'flavoured', 'ovenproof', '10-quart', 'coarsly', 'pices', 'vodka', '3-', 'dill', 'starbucks', 'beards', 'unbeaten', 'loses', '18x28cm', 'adhere', 'hint', 'pheasants', 'manual-', 'if', 'blackening', 'corners', 'lidded', 'paper-lined', 'blot', 'follows', 'tongs', 'desire', 'particular', 'except', 'puffed', 'sweeter', 'mushroooms', 'rinds', '2in', '7', 'tempered', 'tuna', 'end', 'hairy', 'fry', 'drop', 'marking', 'mapeline', 'margarita-mix', 'sunsets', 'how', 'scuppernongs', 'segment', 'plantains', 'from', 'flat', 'allows', \"'folded\", 'baking-sheet', 'sizes', 'diagonal', 'well-blended', 'loosely', 'prehear', '400f', 'tenderizing', 'beet', 'bowties', 'malt', 'capsicum', 'plain', 'snowpeas', 'bacon', 'pecans', 'triple-wash', 'donate', 'caldo', 'haul', 'spelt', 'top-', 'tupperware', '3-5', 'tarragon', 'cleaned', 'rinses', 'manicotti', 'where', 'squirts', 'camp', '8-or-9', 'herbs', 'reach', 'alternate', 'plavee', '425of', 'steamer', 'hummous', 'fire', 'seer', 'brocolli', 'atop', 'require', 'rabbit', 'crumbs-mix', 'damage', 'time', 'inserted', 'bony', '13x9-in', 'cooler', 'doughy', 'lightly-', 'chops', 'smoker', 'footed', 'lasagna', 'width', '225f', 'amaranth', 'avocado', 'beyond', '1-cup', 'balance', 'rendered', '-tofuscramble', 'pre-', 'degrres', 'full', 'degees', 'disappeared', 'cour', 'careful', 'released', '8in', 'mint-chocolate', 'recommend', 'bad', 'peices', '24-count', 'kielbases', 'choy', '--', 'lasagne', 'tenderloins', 'low', 'griddle', 'bulgar', 'tortillas', 'choice', 'slow-cooker', '1-pound', 'loan', 'under', '227473', 'challah', 'checkpeas', '120f-130f', 'hot-to-the-touch', 'animal', 'taking', 'disjoint', 'baggie', 'soya', 'med-large', 'processed', 'one-crust', 'sultanas', 'ready', '10-1', 'crunble', 'foods', '36', 'sterilised', 'halve', 'meat', 'onoin', 'sweetness', '6-8', 'jcama', 'long', 'butter-flavored', 'superfine', '6-7', 'sauerkraut', 'i', 'edelweiss', '1st', 'small', 'enclose', '3-pound', 'sesame', 'squeezing', 'sauteeing', '220c', 'poured', 'tablespoon', 'refrigerate', 'stove-top', 'hydrated', 'selecting', 'remainder', 'spatula', 'scone', 'horseradish', 'marmalade', 'slect', 'serving-size', '2-10oz', 'creole', 'cabbages', '9x9-inch', 'clinging', 'panini', 'fl', 'bell', 'pre-warmed', 'creamiest', 'bitter', 'reached', 'mintes', 'burst', 'candies', 'whilst', 'which', 'hashbrowns', 'lenghtwise', 'yeat', 'biscuits', 'dent', 'steel-cut', 'semi-sweet', 'oubrowned', 'fresh', 'combinie', 'else', 'macadamia', 'parsnip', 'discarding', 'curling', 'apricots', 'grade', 'recommended', '105', 'horizontal', 'lining', 'minus', 'cleaver', 'membrane', 'justa', 'medium', 'swill', 'sanitize', '2-3cm', 'wisk', '13-', '5-spice', 'cutlet', '}', 'sifted', 'meet', 'peanut', 'zip-top', 'morning', 'sure', 'remove', '10-', 'strawberry-banana', 'immersion', 'qrt', 'wet', 'bake', 'frypan', 'white', 'tin', '_x_', 'collapses', 'as', '13-in', 'husk', 'pith', 'have', 'waxpaper', 'foreign', 'caramel', '-i', 'slushy', 'stuff', 'lowest', 'doughnuts', 'potaoes', 'stem', 'sink', 'dates', 'scatter', 'low-medium', 'anything', 'optimal', 'buds', 'flower', 'pile', 'lifting', '275', 'picante', 'various', 'all-purpose', '35o', '9-inch-square', 'avacado', 'being', 'lye', 'lard', 'shapes', 'bull', 'popcornlike', 'label', 'asiago', 'pod', '16', 'diameter', '8-quart', 'hubbard', 'up', 'hard-boiled', 'goblet', 'home', 'tomate', 'kamut', 'outback', 'crisps', 'inspect', 'unless', 'adults', 'overall', 'alarm', 'dump', 'tenderize', '415', 'bloody', 'buying', 'room', 'buttered-side', 'fireweed', 'foaming', 'pancetta', 'criss', 'limon', 'non-aluminum', 'coals', 'saucers', 'breads', 'infuse', 'liquify', 'kahla', 'mushroon', 'chickens', 'match', '13inch', 'cups-', 'semicircular', '1hr', 'pumpkin-pie', 'redhot', 'netting', 'disovle', 'exception', 'peeler', 'pre', '6-', 'dg', 'hi', 'deep-frying', 'hold', 'mound', 'pam-like', 'artfully', 'noddles', 'item', 'snapping', 'baller', 'quickly', 'set', 'dab', 'creamed', 'glassy', 'scant', 'blemishes', 'much', 'super', 'thighs', 'tomato-paste', 'gelatine', 'sheet', 'flat-bottomed', 'prewash', 'touching', 'bologna', 'skirt', 'ancho', 'look', 'mandolin', 'narrow', 'reasonably', 'kitchen', 'zap', 'slice', 'oinion', 'to', 'colored', '1x2', 'manfacturer', 'done-do', 'almonds', 'wax', 'saute', 'laksa', 'crushing', 'gelatin', 'malibu', 'sloppy', 'dealer', 'chosen', 'open', '4', 'normal', 'laden', 'inches', 'duch', 'mush', 'tava', 'disolves', 'mold', 'variations', 'dissolved', 'discs', 'cornstarch', 'semisweet', 'spreads', 'things', 'asaigo', 'blemished', 'griller', 'hock', '3t', 'dunk', 'silverside', 'persimmon', 'rump', 'whack', 'extreme', 'ounce', '160', 'instructions', 'cookie', 'pounding', 'pectin', 'polow', 'once', 'adult', 'hanging', '81', 'x1', 'hotdogs', 'dessert', 'wraps', 'prehat', 'pk', 'evening', 'combining', 'feijoas', 'worcestershire', 'medium-hot', 'strawberrys', 'chestnuts', 'hear', 'escarole', 'burrito', 'ovens', 'book', '17', 'bubbling', 'mustard', 'supplies', 'cajun', 'stilton', 'chambord', 'cornfour', 'hands', 'krispies', 'cooks', 'mircowave-safe', 'chinese', 'stopping', 'rather', 'bi-carb', '180c', 'veg', 'jalapeno', 'aples', 'preferred', 'splitting', 'worteshire', 'dark', 'bring', 'indirect', 'rims', 'campfire', 'splinter', 'pail', \"'bill\", '13x9x2', 'stab', 'fritter-', 'philly', 'hydodermic', 'gorgonzola', 'spoonfuls', 'then', '175', 'walnuts', 'whizz', 'given', 'ingredsients', 'scramble', 'eye', 'towels', 'use', 'meatball', 'samp', '6x6x3inches', 'spicy', 'hasten', 'brown-', '!', 'reynolds', 'know', 'blossom', 'saved', 'charmoula', 'colours', 'acid', 'dal', '11-12', '7-8', '75c', 'dente', 'pepperoni', 'buttering', 'purple', 'opt', 'abm', 'irish', 'cocoa', 'giving', 'unfreeze', 'folded', '15x10x1', 'thumb', 'knives', 'incisions', 'ingrediens', 'ingrediendts', 'nozzle', 'minuts', 'press', 'smooth-', 'non-stick', 'drained', 'pistils', 'easily', 'blanche', 'cheeks', 'glide', 'peaked', 'crepe', '9-', 'return', 'contents', 'curaao', 'wok', 'putting', 'sterilize', 'story', 'shave', 'tea', '13x5', 'mine', 'bresaola', 'decorative', 'steam', '12-oz', 'diced', 'dillweed', 'macaroni', 'disappear', 'alongwith', 'thinly', 'intensity', 'mingle', 'bubble', 'stuffed', 'aware', 'handle', 'looks', '9-10', 'test', 'charred', 'root', 'saucepat', 'care', '35', 'infredients', 'sir', 'crullers', 'bragg', 'changes', 'sharpening', 'approx', 'freeze', 'handful', '400', 'cubing', 'slanted', 'murky', 'toothpicks', 'tv', 'beland', 'honey', 'excluding', '350f', '445f', 'heightwise', 'breath', 'brie', 'thoroughly', 'watermix', 'chilli', 'golden', 'big', 'darkens', 'paella', 'tight-fitting', 'grater', 'touch', 'spin', 'inside', 'anywhere', 'wiping', 'black', 'limoncello', 'hour', 'wrappers', 'gas5', 'half-pint', '24cm', '215', 'softens', 'provolone', 'roni', '?', 'galliano', 'syup', 'gravel', '12-hole', 'evaporated', 'grilling', 'salted', 'direction', 'practical', 'sip', 'floured', 'durkee', '20oz', 'simply', 'liner', 'almunim', 'salting', 'owl', 'ring', 'asafoetida', 'seconds', 'crockpot', 'lids', 'cups', 'warning', 'unfolding', 'waffles', 'mature', 'resealable', 'bot', 'rows', 'carmelize', 'garam', 'rolled', 'menthe', '550', 'inthe', '30-second', 'chickpeas', 'quarts', 'pears', 'flavored', 'ramekins', 'tender-this', 'bunch', 'tapped', 'stack', 'tubes', 'smoke', 'longest', 'incision', 'addition', '375', 'protein', 'macaroon', 'containing', 'weigh', 'help', 'toasty', 'hand', 'gritty', 'hate', 'cedar', 'crimp', 'got', 'homogeneous', '-topping', 'season', 'side', '70-80', 'oblong', 'either', 'glass-baking', 'chives', 'sorry', 'toast', '6-12', 'strawberries', 'grits', 'pressing', 'faint', 'slicing', 'tandoori', 'entry', 'spice', 'swordfish', 'move', 'spoiled', 'jam', 'thin', 'chillies', 'steep-sided', 'vert', 'bowel', 'kugelhopf', 'watercress', 'velvet', 'besides', 'especially', 'ciabatta', 'discolor', 'breaded', 'hull', 'cotton', 'unseasoned', 'ceramic', 'radish', 'patted', 'perfectly', 'thats', 'msg', 'probably', 'med-high', '8-cup', 'broad', 'custard', 'cooking', 'these', 'stout', '1-gallon', 'pure', 'child', 'marinades', 'remover', 'tweezers', 'sugars', 'soil', 'fibers', 'log', 'insure', 'salmon', 'tamales', 'omelets', 'pickling', 'lentils', 'tarama', 'option', '4c', 'syrups', 'pistachios', 'processor', 'millie', 'version', 'boiler', 'one', 'bottom', 'pata', 'achive', 'biga', 'richest', 'stickiness', 'suggests', 'grand', 'lettuce', 'marshmallows', 'cornbread', 'gift', 'prick', '6cm', 'oreo', 'follows-', 'mini-prep', 'bratwurst', 'renders', '34', '6-1', 'bulbous', 'confectioner', '1c', 'damaged', 'liking', 'edge', 'unsalted', 'parchment', 'ease', 'argentinean', 'ketchup', 'porridge', 'sucanat', 'crescent', 'single', 'campsite', 'dip', 'melts', 'color', '375f', 'joint', 'direct', 'snap', 'drinking', 'gizzards', 'degress', 'boxes', 'slivered', 'thinnly', 'west', 'pounder', 'baking', 'beater', 'eight', 'filtered', 'stem-ends', 'sweetner', 'lem', 'exact', 'spun', '230', 'caramelized', 'amd', '5-6quart', 'garnishing', 'cranberry', 'dress', 'two-9', 'crispiness', 'goat', 'submerging', 'leggo', 'boil', 'flavours', 'insert', 'lemmon', 'jalapeos', 'tinged', 'gallons', 'elelctric', 'peaches', 'ask', 'solid', 'spareribs', 'cakes', 'deveine', 'heated', 'patties', 'meatballs', 'port', 'aid', 'mediuim-large', 'well-seasoned', 'directed', 'discard', 'bamboo', 'inexpensive', 'mushy', 'wedge', 'fold', 'whole', 'conversions', 'papaya', 'stroke', 'tm', '230c', 'gease', 'save', 'rotisserie', 'gourmet', 'pin', 'kiwi', 'blanched', 'pinches', 'sun', 'bulb', '2-tablespoons', 'buns', 'saucer', 'able', 'homemade', 'amchur', 'honeydew', '14cm', 'tots', 'cucumber', 'byb', 'pods', 'smell', 'saran', 'picnic', 'its', 'fondue', '425f', 'fettuccine', 'jacket', 'actual', '9x2-inch', 'hurricane', 'bugs', 'blenderize', 'raccoon', 'basically', '2cm', 'flush', 'medium-firm', 'properly', 'board', 'suppose', 'measurement', 'flank', 'graham', 'kettle', 'sodium', 'lightly-greased', 'fancy', 'shreds', ']', 'ties', 'tissue', 'springform', 'preparation', 'smoothy', 'moist', 'spary', 'stripper', 'butterscotch', 'largish', 'instructionsfor', 'restrain', 'left-over', '~', 'blah', 'oelek', 'porchini', 'kiwis', 'groundnut', 'cup-capacity', 'mushrooms', 'loofa', 'uncovered', 'dressing', 'content', 'liquids', 'artichoke', 'twice', 'dropping', 'swirl', 'hoods', 'verde', 'roasted', 'fillets', 'broccoflower', 'opened', 'ziti', 'blondie', 'northern', 'pistachio', 'skimming', '9-by-5-inch', 'roasts', 'husks', 'minute-', 'miutes', 'roiling', 'catsup', 'sealing', 'dried', 'crackle', 'made-1', 'pebbles', 'gallon-size', 'bottled', 'untilfluffy', 'ten', 'couple', 'amount', 'gills', 'soysauce', 'spoon', 'pressed', 'ingrediants', 'snip', 'completely', 'radishes', 'tender', 'coco', 'fines', 'cilantro-orange', 'seasons', 'measuring', 'circles', 'mrs', 'convection', 'vacuum', '-brownie', 'cereals', 'tangerine', '325', 'china', '9x11', 'malleable', 'marrow', 'oxidizing', 'paste-like', 'plums', 'establish', 'goldschlager', '30-40', 'slowcooker', 'froth', 'tempeh', 'obtained', 'festive', 'prunes', 'knox', 'cup', '13-by-9-inch', '20-25', 'stage', 'poppy', 'vinaigreete', 'elbow', 'unsweetened', 'soak', 'assembly', 'shortcakes', '4cm', 'bug', 'comine', 'increase', '15', 'quarters', 'sputter', 'heating', 'stirring', 'check', 'boililng', 'onons', 'uniform', 'preferably', 'rivels', 'positions', 'ouzo', 'tap', 'filet', 'closest', 'take', 'powder', 'towel', 'potobello', 'pudding', '15-20', '500-degrees', 'mexicorn', 'acceptable', 'yokes', 'tapered', 'bits', 'bass', 'own', 'has', '1qt', 'achiote', '30-minutes', 'cork', 'doneness', 'squashy', 'raost', 'cool', 'damn', 'upright', 'balady', 'strawberry', 'paste', 'flaxseeds', 'powderise', 'unagi', 'qts', 'close', 'raspberries', '88x2', 'date', 'tender-', 'starting', 'marlalade', 'ambiance', 'rough', 'bla', 'sautee', 'rotel', 'sauce~', 'vidalias', 'apple', 'yakisoba', 'low-heat', 'preparingthe', 'slanting', 'license', 'oily', 'nice', 'bagel', 'layering', 'final', 'few', 'swirling', 'reheat', 'more', 'basting', \"'doneness\", 'chilis', 'diagongally', 'begun', 'moroccan', 'masa', 'circle', '1-8', 'darkness', 'letting', 'coat', 'brazil', 'veins', 'aoli', 'started', 'midway', 'dinner', 'chips-', 'cuisinart', 'lined', 'dumpling', 'coffe', 'gravy', 'add', 'when', 'batch', 'might', 'preferences', 'required', 'anchovy', 'ito', 'bare', 'mulling', '8cm', 'pierogies', 'organic', 'burner', 'fillet', 'saut', 'sprouts', 'grated', 'shrinkage', 'face', 'ml', '5-1', '1', 'ridges', 'vital', 'tagine', 'proportion', 'retain', 'running', 'dusting', 'seitan', 'cappuccino', 'goes', 'minutes', 'nonmetal', '355f', 'quite', 'removing', 'become', 'dirt', 'garllic', 'labels', 'busy', '400o', 'choose', 'cockpot', 'cross', 'state', 'jell-o', 'peele', 'construction', 'currants', 'roughy', 're-wrap', 'darkened', 'listed', 'becomes', 'bouled', 'triangles', 'centre', 'disolved', 'molasses', 'cataplana', 'confetti', 'taco', 'rinsed', 'cakepan', 'tbls', 'splinters', 'bullion', 'sturgeon', 'no-stick', 'everthing', 'sieve', 'minced', 'eighths', 'powdering', 'pre-heating', 'begin-', 'ssift', 'directions', 'barely', '26cm', 'bark', 'round', 'meatloaf', 'bowl-basically', 'mark', 'runs', 'frie', 'celery', 'pick', 'immediate', 'granulated', \"'stir\", 'vary', 'firstly', 'crisp', 'options', 'utility', 'indentation', 'highly', 'quick-soak', 'service', 'straight', 'grounds', 'bundt', 'shears', 'preheated', 'concentrate', 'inhalf', 'tedious', 'cider', 'deep', 'piecrust', 'gound', 'knorr', 'split', 'sprayed', 'ina', 'chef', 'maximum', 'p', 'holds', 'do-it-as-you-like', 'teapot', 'flutty', 'ensure', 'day-old', 'chest', 'kebabs', 'konbu', 'salad', 'soon', 'pepe', 'ingridents', 'closer', 'bouquette', 'parmigiano-reggiano', '98', 'pierce', 'among', 'unblanched', 'jalape', 'whipped', 'thickness', 'pesto', 'fried', 'earthenware', '>', 'herrings', 'resembles', 'grocery', 'dijon-style', 'pumpkin', 'glass', 'flesh', 'bead', 'manufactures', 'arepa', 'flake', 'bread-', 'seltzer', 'go', 'heavy', 'uncover', 'noodles', '8-ounce', 'clove', 'x-rated', 'runoff', 'drying', 'pint', \"till'very\", 'cutlets', 'burger', 'wipe', 'yourself', 'comfortable', 'concentrated', 'any', 'food', 'zatarain', 'smal', 'everything', 'grape', 'toddler-safe', 'build', 'lamb', 'within', 'during', 'generous-sized', 'proceed', 'stirfry', '-high', '10-15', '10x3', 'liners', 'lakes', 'biscuit', 'overmix', 'caught', 'liberally', 'avoiding', 'zuchinni', 'happened', 'shred', 'applesauce', 'mini-processor', 'airy', 'th', 'maybe', 'times', 'velvetta', 'rub', 'pecan', 'nestling', 'point', 'forks', 'broccoli', 'pe-heat', '9x9', 'pretty', 'do-ahead', 'aside', 'roasting', 'cooked', 'perforations', 'dr', 'jamaican', 'slabs', 'omelet', 'fyi', 'crab', 'peppers', 'koolaid', 'tikka', 'yellow', 'turn', 'paring', '13-inch', 'artichokes', 'mango', 'definitely', 'zwieback', 'pkt', 'table', 'low-fat', 'zester', 'desired', 'toffee', 'cooker', 'aldente', 'bother', 'appliance', 'half-onion', 'garnished', 'inot', '2-1', 'vinaigretted', 'dish', 'whatever', 'sml', 'prefered', 'beans', 'rum', 'chips', 'microwave-safe', 'amt', 'potato', 'degrees', 'stockpan', 'published', 'cayenne', 'prepre', 'grind', 'try', 'liquifier', 'dash', 'phyllo', 'strawberies', 'mug', '400^f', 'brining', 'overhang', 'puff', 'wash', '2x1', '-in', 'perogies', 'decoration', 'increased', 'great', 'exposing', 'pint-size', '300', 'float', 'grapeseed', 'casings', '10x15', 'bit', 'molds', 'bulbs', 'fashion', 'finely', 'margrin', 'pizzelle', 'zest', 'heavily', 'frequently', 'posting', 'x2', 'first', 'cored', 'de', 'canner', 'ends', 'prehest', 'force', 'oleo', 'kung', 'hambuger', '160c', 'pips', '1cm', 'purpose', 'turner', 'coffin', 'old-fashion', '9-in', 'maraschino', 'section', 'gathers', 'another', 'trifle', 'abaking', 'tom', 'crumb', 'butt', 'martini', 'grinds', 'birds', '8-10', 'crunchy', 'damsons', '8x1', 'sumac', 'claws', 'bite', 'compote', 'fennel', 'yield', 'what', 'bed', 'continued', 'absolute', 'simmers', 'liquified', 'rutabagas', '250', 'evoo', 'youll', 'contest', 'area', '8-9', 'tequilla', 'formed', 'holiday', 'hazlenut', 'vegetarian', 'sides-', '480f', 'saucepans', 'thigh', 'franks', 'transluscent', 'swung', 'above', 'sing', 'togeather', 'reduced', 'foil-', 'decanter', 'chicken', 'parmentier', 'margin', 'pacakge', 'pork', '12-ounce', 'preperatory', 'pototoes', 'moon', 'cornsilk', 'vegetables', 'prawn', 'drink', 'pesticides', 'simple', 'camping', 'plug', 'singles', 'overcook', 'chocolates', 'flaked', 'torn', 'reason', 'checking', 'stiring', 'peach', 'inserts', 'in-between', 'mace', 'bites', '175degf', '1-2-inch', 'paprikas', 'fraiche', 'nail', 'grenadine', 'guestimate', 'injector', 'bone', 'working', 'gluten', 'depth', 'cap', 'yields', 'involved', 'whitefish', 'tbsp', 'aluminum', 'yam', 'thick-bottomed', '250f', 'blackberry', 'mins', 'eaten', 'late', 'eyes', 'simmering', 'linquine', 'dry-roast', 'golfball', 'redcurrant', 'panko', 'rutabaga', 'demolish', 'shaping', 'spagetti', 'cupcake', 'bar', 'condensed', 'lots', 'directs', 'screw-top', 'onions', 'aubergine', 'anginette', 'preheating', 'lb', 'oatmeal', 'onion', 'discolored', 'intervals', 'refried', 'handy', 'needed', 'cod', 'pea', 'crunch', 'otherwise', 'brought', 'nip', 'securing', 'whirl', 'sourdough', 'cappucino', 'jarlsberg', 'grainy', 'ones', 'italian', 'parts', 'thickenesses', '1150', 'soba', 'incorporated', 'well', 'we', 'cabinet', 'around', 'chex', 'range', 'kofta', 'logan', 'after', 'frosted', 'matzo', 'elaving', 'fluted', 'market', 'tbl', 'guajillo', '11x8', 'acording', 'shortning', 'amounts', 'spears', 'ingreduents', '400-degrees', 'slather', 'level', 'etc', 'most', 'person', 'chourico', 'spoonful', 'seasonsed', '420', 'pish', '3rd', '10-ounce', 'choi', 'manage', '48', 'prefer', 'pulling', 'ingred', 'planning', 'bar-b-q', 'polenta', 'roast', 'indirect-heat', 'red', 'marinator', 'packaging', 'clam', 'using', 'spam', 'before', 'slowly', 'short-side', 'sauce-', 'worcesteshire', 'kenafe', 'teriyaki', 'pureed', 'rice', 'beverage', 'lilies', 'quart-sized', 'nectarines', 'coke', 'shot', 'crust', 'destem', 'stir-fry', 'liquidizer', 'tequila', 'squasheds', 'coriander', 'easier', 'kneading', 'saucpan', 'dissuaded', 'buttercup', 'ingreidents', '2-cup', 'scald', 'clear', 'pieces-', 'hots', 'foam', 'indoor', 'consistency', 'beautiful', 'cilantro', 'wee', 'floweret', 'anise', 'bulk', 'couscous', 'shells', 'lengthwise', 'moderate-high', 'cookware', 'dairy', 'zipper', 'shortening', 'hook', 'veges', 'unbaked', 'prepar', 'jigg', '-', 'mortor', 'court', 'braise', 'height', 'brand', 'crystals', 'backbone', 'deseed', 'seperate', 'five-spice', 'accordance', 'kernels', 'outsides', 'owner', 'vita-mix', 'flax', 'home-made', 'reactive', 'burning', 'cukes', 'parmesan', 'chile', 'strongly', 'pink', 'bite-sized', 'texture', 'yoplait', 'logs', 'gram', 'whistle', 'summer', 'melonballer', 'loaf', 'automatic', 'sherbet', 'face-up', 'nescaf', 'came', 'pre-sliced', 'thinned', 'piri-piri', 'almond', 'toovar', 'proof', 'measusure', 'unbleached', 'according', 'pats', 'base', 'sells', 'oval', 'chopping', 'pastry-', 'pearl', 'covering', 'royal', 'mid-high', 'boning', 'directly', 'pitas', 'secs', 'pepare', 'twenty', 'meal', 'enameled', 'savoury', 'works', 'woody', 'white-wine', 'estimated', 'fruit', 'spead', 'sundaes', 'trick', 'success', 'broth', 'fork-tender', 'comfort', 'natural', 'aluminium', 'sauce-pan', '5x9-inch', 'generously', 'half-fill', 'groups', 'guava', '6-quart', '-up', 'saskatoon', '210c', 'husked', 'mesh', 'spritz', 'fahrenheit', 'serveral', 'wrap-', 'pillow', 'absolutely', 'meatballs-mix', 'individual', 'coulis', 'mayonnaise', 'eggbeater', 'shrimps', \"'ve\", 'reserved', 'bucket', 'scraped', 'oil', 'harvest', 'achieved', 'english', 'kielbasa', 'merge', 'covered', 'vegtables', 'flour', 'cornflakes', 'teriaki', 'gingerroot', 'sear', 'popped', '10', 'stick', 'throw', 'peeper', 'cones', 'halloumi', 'anyone', 'raisins', 'textured', 'triangle', 'lobster', '1-second', 'pockets', 'muddle', 'relies', 'gingersnaps', 'considtency', 'fritos', 'till', 'cornstarch-sugar-water', '390', 'oysters', 'remains', 'tab', '+', 'caesar', 'ingrendients', 'saeeds', 'pineapple', 'dipped', 'tartlet', '390f', 'rubbing', 'vigorously', '14-inch', 'thai', 'extra', 'dessicated', 'machine', 'colors', 'flipping', '8x4', 'ove', 'cucmber', 'guests', 'butte', 'cumin', 'scoop', 'melting', 'youd', 'consistantly', 'cassia', '9-by-12', 'boullion', 'thicker', 'cinnamon-flavored', 'emulsified', 'fromage', 'allow', 'secnds', 'peel', 'into', 'ten-inch', 'darkening', 'bottles', 'curls', 'swell', 'pay', 'mirowave', 'recommends', 'celsius', 'sharp', 'something', 'plates', 'garlic-', '-cook', 'frying', 'family', '1-3', 'sticks', 'airthight', 'soybeans', 'gremolata', 'tongue', 'stone', 'silks', 'sturdy', 'hig', 'sealable', 'cane', 'shucks', 'refrigerated', 'popcorn', 'early', 'kidneys', 'tilt', 'eggplants', 'pine-nuts', 'shake', 'jumbo', 'greek', 'across', 'knot', '410', 'margarita', 'dont', 'afterwards', 'brushed', 'carmelizing', 'wontons', 'loin', 'clump', 'malted', 'really', 'pots', 'sousvide', 'bullet', 'cranberry-orange', 'well-cooked', 'always', 'debone', 'giblets', 'kind', 'pouch', 'carbonated', 'lin', 'squeezed', 'degreed', 'baguettes', 'spread', 'defrees', 'hours-or', 'zip-lock', \"'ll\", 'romas', '475', 'chick', 'arthur', 'shelf', 'bbc2', 'vermouth', 'sausage', 'equivilant', 'pumpkins', 'squid', 'preferment', '50', 'oregano', 'baileys', 'cubed', 'stan', '-except', 'anchovies', 'muesli', 'ckened', 'blackened', 'dogs', '13x9-ince', 'lefse', 'trying', 'thru', 'grapefruits', 'marmite', 'weargloves', 'soft', '750ml', 'single-crust', 'confectioners', 'sitting', 'self-sealing', 'bricks', 'monkfish', 'resealing', 'than', '375c', 'shelled', 'burned', 'sweetened', 'casserole', 'cubs', 'teabags', '185', 'limeade', 'heck', 'failing', 'craft', 'caramels', 'flounder', '220dc', 'separtely', 'mashable', 'jerk', 'monterey', 'cheese-', 'stand', 'just', 'pops', 'arrive', 'vanilla', 'gentle', 'succotash', 'stalks', 'espresso', '1tbs', 'absorbed', 'coated', '9-inch', 'kolacky', '2-inch-high', 'kalamata', 'assembling', 'position', 'unsprayed', 'beside', 'kubbeh', 'mangoes', 'pulses', 'anymore', 'number', 'darker', 'sumeshi', 'medium-high', 'ingrediets', 'tops', 'eights', 'overfill', 'part', 'least', 'nasturtium', 'trimming', 'whisk', 'additional', '450f', 'chess', 'sundried', '&', 'chestnut', 'sack', 'love', 'separating', 'acc', 'matchsticks', 'size', 'ingredinets', 'comgine', 'sprite', 'reduce', 'turnips', 'green', 'preference', '3-4', 'deep-dish', 'he', 'canned', 'left', 'tasty', 'pattern', 'cake-like', 'surfaced', 'manageable', 'parallel', 'wholemeal', 'flutes', '`', 'clusters', 'tender-crisp', 'hand-blender', 'toddy', 'evapotated', 'handled', 'degreesf', '2-liter', 'mini-muffin', 'marinade', 'types', 'shorting', 'maker', '2-qt', 'saki', 'procedures', 'wring', 'deveined', 'fragrant', 'cornstarchand', 'hominy', 'bias', 'breadcrumb', 'glasses', 'makes', 'per', 'make', 'whites', '15x10x1-inch', 'tomatoes', 'hens', 'f', 'do', 'consistancy', 'closely', 'outside', 'basic', 'mini-chop', 'interesting', 'advance', '12', 'rotini', 'cinnamon', 'chorizo', 'hr', 'faucet', '5-8', 'divide', 'guinness', 'hulled', 'personal', 'subsides', 'attached', 'harissa', 'hotel', 'pecorino', 'tobasco', 'grills', 'cheeses', 'debeard', 'orzo', 'samn', 'peanuts', 'promptly', 'pico', 'garlicky', 'unti', 'swanson', '20', 'lemongrass', 'step', 'wish', 'watching', 'muffin', 'barbeque', 'non-reactive', 'godiva', 'with', '5-', 'frozenbun', 'climatize', 'hummus', 'cloves', 'fan', 'tag', 'lage', 'four', 'unpeeled', 'brine', 'holding', 'continure', 'centers', 'skillet', 'grill-', 'liquors', 'scotch', 'preset', 'whirr', '238', 'paper-towel-lined', 'fourth', 'start', 'vigorous', 'lima', 'bowl-stirred', 'baguette', '2-3mins', 'billed', 'strands', 'electric-mixer', '18x12-inch', 'rejuvelac', 'x13', 'eating', 'packet', 'twelve', 'arrange', 'even-sized', 'nonstick', 'degrees-', '175ml', 'objects', 'heavy-base', 'heavy-based', 'eveything', 'variable', 'jackets', 'portion', 'matzos', 'prehead', 'satay', 'store-bought', 'pare', 'grease', 'bulger', 'outer', 'cornflour', 'add-ins', 'parsley', 'ice-filled', 'heat-resistant', 'asparagus', 'broken', 'skilled', 'rough-textured', 'element', 'forms', 'skin', 'olive', 'also', 'important', 'roots', 'pat', 'cuz', 'passionfruit', 'pierced', 'lychee', '1lb', 'zip-seal', 'pressure', 'semolina', \"'\", 'thickest', 'unfold', 'fettucine', '140c', 'platter', 'will', 'mash', 'con', 'muscat', 'substitution', 'flt', 'farmer', 'ingredience', 'through', 'soften', 'one-cup', 'besan', 'angel', 'oreagano', 'rip', 'granules', 'grill', 'livers', 'carving', 'name', 'stockpot', 'carob', 'concentric', 'expect', 'fajita', 'manner', 'caliente', 'cheesecake', 'seasoning', 'scorching', 'feathers', 'adding', 'surface', 'kirsch', 'individually', 'daeng', 'whisking', 'ingedients', 'nero', 'tarter', 'dry-fry', 'swiss-roll', 'well-greased', 'chunked', 'disposable', 'muslin', 'leaves', 'lrg', 'non-metal', '7-inch', 'rosti', 'gauge', 'vessel', 'smart', 'packaged', 'cutting', '9x5', 'unil', 'bouillon', 'blended', 'sinew', 'fillings', 'jar', 'cranberries', 'twist', '14', 'break', 'amaretto', 'manie', 'over-nite', 'maggi', 'vodkas', 'al-dente', 'bulgur', 'garnishes', 'vegemite', 'center', 'watermelon', 'throughly', 'crappie', 'cauliflower', 'pits', \"'n\", 'linguica', 'absorbent', 'alcohol', 'prpeare', 'wrote', 'actually', 'provide', 'enlarge', 'granola', 'chillis', 'grilled', 'gas4', 'brush', 'microwave', 'cabbage', 'bite-sized-', 'six', 'mediuim', 'pour', 'vs', 'crown', 'pt', '2-inch-thick', 'mustatrd', 'possible', 'folding', 'whiz', 'four-cup', 'sec', 'unitl', 'fill', 'salts', 'tuck', 'tool', 'loins', 'lemons', '3-qt', 'unroll', 'pickle', 'follow', 'cask', 'sugar', 'kids', 'sotened', 'here', 'greens', 'resistant', 'tall', 'roux', '170', 'zuchini', 'surrounding', 'seal', 'drops', 'pomegranate', 'kosher', 'should', 'farhenheit', 'spot', '2x10', 'flatter', '88-inch', 'parfait', 'warmed', 'russet', 'kabobs', 'string', 'wrap', 'diamond', 'shiitake', 'washed', 'culture', 'disgarding', 'wheels', 'pasta-like', 'pistou-in', 'cornmeal', 'meatless', 'melon', 'yogourt', 'hugs', 'grate', 'habeneros', 'cast-iron', 'cautious', 'standard', 'moves', 'one-', 'wild', 'temperature', '15-1', 'devein', 'onions-', ',', 'electric', 'recommendations', 'better', 'fettucini', '387518', 'fave', 'scallopini', 'triple', 'cordial', 'cubes', 'about', 'lawry', 'refresh', 'cole', 'washing', 'snow', 'pints', 'cinamon', 'carambola', 'clearly', 'habaneros', 'duringthe', 'struesel', 'venison', 'crecent', 'macerate', 'canning', 'crabapples', 'castor', 'fruitbits', 'firm-tender', 'sticky', 'cavatappi', 'less', 'tumeric', 'banans', 'key', 'bollios', 'sift', 'detaching', 'masher', 'gouda', 'bin', 'nopalitos', 'past', 'flexible', '41', 'miosten', 'storage', 'micro', 'iron', 'seperately', 'normally', 'joy', 'premium', 'desgrees', 'mixng', 'hundred', 'clay', 'hollowing', 'tangerines', 'brewed', 'pizza', 'weight', 'popping', '7up', 'ranch', 'thousands', 'catfish', 'sherry', 'uniformly', '9cm-deep', 'criss-cross', 'intend', 'repeat', 'creminis', 'cheesecloth', 'emulsion', 'sourcream', 'fairly', '10x15x1', 'regarding', 'throughout', '200-degree', 'ben', 'chermoula', '4-inch-wide', '3-6', 'preaheat', 'feels', 'dreaming', 'until', 'navy', 'fluffy', '460', 'swiss', 'freshly', 'albers', 'lavender', 'strength', 'mixer', 'beef', '1or', 'completed', '4-6', 'snugly', 'cinammon', 'souffl', 'ricotta', 'several', '4-inch', 'raise', '11-inch', 'tvp', 'wont', 'purplish', 'agave', 'sausagemeat', 'new', 'splashes', 'run', '225', 'plantain', '55-60', 'croswise', 'mason', 'driected', 'tomatos', 'wings', 'aromatic', 'lokshyna', 'app', 'neat', 'cheses', 'bottomed', 'teflon', 'grinding', '150c', '200c', 'sun-dried', 'smash', 'flout', 'desolved', 'frig', '400e', 'thoroughly-heated', '170c', 'pancakes', 'starch', 'times-', 'mashing', 'drizzling', '(', 'jiffy', 'jarmix', 'tumbler', 'whipping', 'night', 'braunschweiger', 'square', 'n', 'ac', '350-370f', 'source', 'juice-this', 'shark', 'beaten', 'water', 'decorate', 'poacher', 'rind', 'increases', 'overmixed', '175c', 'teaspoons', '35-40', 'slow-cooked', 'clings', 'comal', 'coarsely', 'arugula', 'pitter', 'cicken', 'club', 'pomelos', 'airtight', 'regular-size', '20-30', 'chickpea', 'uncle', 'saving', 'pickles', 'liquer', 'empty', 'joes', 'pushing', 'serbian', 'heavy-duty', 'facilitate', 'burners', 'at', 'cloudy', '30secs', 'kippers', 'slits', 'on', 'apples', 'foil-lined', 'dining', 'half-rounds', '30-60', 'litte', 'ltr', 'kebab', 'plenty', 'gaeng', 'stainless', 'salami', 'lobsters', 'chunks', 'sideway', 'rectangle', 'drummettes', '12-cupcake', 'and', 'grass', 'sprinkles', 'karo', 'seasoned', 'leafless', 'tsp', \"butter'til\", 'kombu', 'chilean', 'darkly', '425-degrees', 'korma', 'meets', 'meduim', '-toprepare', 'pasta-', '4-5', 'liter', 'parsely', 'intact', 'andouille', 'cassis', 'frothing', 'boiling', 'nicely', 'mind', 'knob', 'shop', 'veggies', 'suacepan', 'fat-free', 'ix', 'continuing', 'pastrami', 'chipped', '139-inch', '175f', 'splash', 'upper-middle', 'fig', 'rocks', '2-12', 'line', '-cooking', 'suggest', 'old-fashioned', 'larger', 'marks', '165', 'sugr', 'oat', 'cassarole', '150', 'olde', '500gr', 'x9', 'mummy', 'chilies', '13', '-cube', 'squirt', 'roller', '375degrees', 'butter', 'sided', 'skin-side', 'ginger', 'tater', 'wafer', 'medium-large', 'ducks', 'leftover', 'midori', 'ingredients-', 'peri', 'code', 'silpat', 'kool', 'trimmed', 'heap', 'wait', 'fiercest', 'blue', 'berries', 'blistered', 'suggested', 'grating', 'mortar', 'beau', 'casseroles', 'steel', 'slow', 'wasabi', 'basil-sherry', 'effect', 'aids', 'dijon', '10mins', 'pull', 'identifiable', 'thirds', 'scratch', 'preserves', 'spacing', '7x11', 'portabellas', 'crumbs', 'made', 'mary', 'spice-grinder', 'ale', 'millet', '200', 'junket', 'gammon', 'entirely', 'triangular', 'loop', 'marinara', 'mark2', 'linguini', '300ml', '60', 'connective', 'poach', 'mouth', 'fingers', 'serves', 'breadsticks', 'remaining', 'push', 'plunge', 'chapagne', 'thickish', 'beginning', 'moosh', 'magic', 'conventional', 'drip', 'rolls', 'opener', 'moderately-low', 'pulp', 'package', 'sean', 'rolling', 'this', 'one-third', 'black-eyed', '8-', 'marashchino', '355', 'making', 'aquires', 'speed', 'dozen', 'poblano', 'overlapping', 'avoid', 'diamonds', 'youre', 'moisture', 'resting', 'scrubbing', 'no-knead', 'reserving', 'mint', 'iced', 'drain-', 'steak-it', 'pounded', '375-degrees', '2-3', 'broil', 'immerse', 'saucepen', 'tins', 'held', 'hickory', 'ka', 'nuke', 'urad', 'tepid', 'third', 'metal', 'tia', 'seafood', 'khoya', '450mls', 'foamy', 'oyster', 'visible', 'stationary', 'carots', 'bbq', 'pimento', 'your', 'paper-', 'turned', 'catch', 'sealed', 'rigatoni', 'flatbreads', 'slash', 'lies', 'linguine', 'climate', '9-by-13', 'mascarpone', 'vinegars', 'fish', 'slit', 'liver', 'suet', '9-by-13-inch', 'seams', 'duck', 'milo', 'goose', 'dance', 'idea', 'spices', 'altogether', 'eyed', 'thinner', 'shut', 'microvwavable', 'game', 'shrooms', '1place', 'togeter', 'wrinkle', 'sausages', 'extra-virgin', 'beurre', 'packing', 'halfway', 'hair', 'rotary-style', 'fork', 'sinking', 'assorted', '``', 'mild', 'crme', 'glazed', 'c', 'croissant', 'spreadable', 'xanthan', \"'dry\", 'moulds', 'cantaloupes', 'adjustments', 'radicchio', 'heavy-bottom', 'ventilation', 'shredd', '20cm', 'dilute', '6-cup', 'ribbon', 'aroma', 'well-combined', 'warm', '200dc', 'toasted', 'wrapping', 'shanks', 'filberts', 'colour', 'mushroom', 'quail', 'items', 'pumice', 'milk-', 'slight', 'crawfish', 'soaking', 'tator', 'amore', 'mill', 'rice-a-roni', 'creative', 'tight', 'lengths', 'toweling', 'eleven', 'dutch', 'steamed', 'marg', 'pre-cook', 'non-fat', 'knife', 'both', 'ninths', 'crystallizes', 'spooning', 'place', 'price', 'parboil', 'de-bone', 'fructose', 'gruyere', 'rotary', 'gradually', 'marjoram']\n"
          ]
        }
      ],
      "source": [
        "words = []\n",
        "data_rec = data2.recipe\n",
        "# print(data2.recipe.step)\n",
        "# words.append(word_tokenize(data2.recipe.step.next))\n",
        "for i in range(len(data2.recipes)):\n",
        "  try:\n",
        "    words.append(word_tokenize(data_rec.step.next))\n",
        "    data_rec = data_rec.nextSibling.nextSibling\n",
        "  except AttributeError:\n",
        "    continue\n",
        "words = [a for b in words for a in b]\n",
        "words\n",
        "unique_numbers = list(set(words))\n",
        "print(unique_numbers)"
      ]
    },
    {
      "cell_type": "code",
      "source": [
        "# ss = [a for b in words for a in b]\n",
        "# ss"
      ],
      "metadata": {
        "id": "7wCd-EsGYBqh"
      },
      "execution_count": null,
      "outputs": []
    },
    {
      "cell_type": "code",
      "execution_count": null,
      "metadata": {
        "colab": {
          "background_save": true
        },
        "id": "u0Fr8QQ6SYxl"
      },
      "outputs": [],
      "source": [
        "data2.recipes"
      ]
    },
    {
      "cell_type": "code",
      "execution_count": 18,
      "metadata": {
        "colab": {
          "base_uri": "https://localhost:8080/"
        },
        "id": "69-6RRimOYzC",
        "outputId": "91ec89ae-4571-43a7-e1f2-d9e04ade8a2e"
      },
      "outputs": [
        {
          "output_type": "stream",
          "name": "stderr",
          "text": [
            "[nltk_data] Downloading package punkt to /root/nltk_data...\n",
            "[nltk_data]   Unzipping tokenizers/punkt.zip.\n"
          ]
        },
        {
          "output_type": "execute_result",
          "data": {
            "text/plain": [
              "True"
            ]
          },
          "metadata": {},
          "execution_count": 18
        }
      ],
      "source": [
        "nltk.download('punkt')"
      ]
    },
    {
      "cell_type": "code",
      "execution_count": null,
      "metadata": {
        "colab": {
          "base_uri": "https://localhost:8080/"
        },
        "id": "p1E5_GYbFUrV",
        "outputId": "d0790855-1e27-4b5f-f17b-eec4133a31fa"
      },
      "outputs": [
        {
          "data": {
            "text/plain": [
              "60001"
            ]
          },
          "execution_count": 117,
          "metadata": {},
          "output_type": "execute_result"
        }
      ],
      "source": [
        "len(data2.recipes)"
      ]
    },
    {
      "cell_type": "code",
      "source": [
        "data"
      ],
      "metadata": {
        "colab": {
          "base_uri": "https://localhost:8080/",
          "height": 423
        },
        "id": "m6NmafOTc2t-",
        "outputId": "19aa81dd-5a9a-44ca-a3bc-c41d99babce4"
      },
      "execution_count": null,
      "outputs": [
        {
          "output_type": "execute_result",
          "data": {
            "text/plain": [
              "                                               name      id  minutes  \\\n",
              "0             george s at the cove  black bean soup   44123       90   \n",
              "1                healthy for them  yogurt popsicles   67664       10   \n",
              "2                      i can t believe it s spinach   38798       30   \n",
              "3                              italian  gut busters   35173       45   \n",
              "4          love is in the air  beef fondue   sauces   84797       25   \n",
              "...                                             ...     ...      ...   \n",
              "29995  zurie s holey rustic olive and cheddar bread  267661       80   \n",
              "29996          zwetschgenkuchen  bavarian plum cake  386977      240   \n",
              "29997   zwiebelkuchen   southwest german onion cake  103312       75   \n",
              "29998                                   zydeco soup  486161       60   \n",
              "29999        cookies by design   cookies on a stick  298512       29   \n",
              "\n",
              "       contributor_id   submitted  n_steps  \\\n",
              "0               35193  2002-10-25      NaN   \n",
              "1               91970  2003-07-26      NaN   \n",
              "2                1533  2002-08-29      NaN   \n",
              "3               22724  2002-07-27      NaN   \n",
              "4                4470  2004-02-23      4.0   \n",
              "...               ...         ...      ...   \n",
              "29995          200862  2007-11-25     16.0   \n",
              "29996          177443  2009-08-24      NaN   \n",
              "29997          161745  2004-11-03      NaN   \n",
              "29998          227978  2012-08-29      NaN   \n",
              "29999          506822  2008-04-15      9.0   \n",
              "\n",
              "                                             description  n_ingredients  \n",
              "0      an original recipe created by chef scott meska...           18.0  \n",
              "1      my children and their friends ask for my homem...            NaN  \n",
              "2                these were so go, it surprised even me.            8.0  \n",
              "3      my sister-in-law made these for us at a family...            NaN  \n",
              "4      i think a fondue is a very romantic casual din...            NaN  \n",
              "...                                                  ...            ...  \n",
              "29995  this is based on a french recipe but i changed...           10.0  \n",
              "29996  this is a traditional fresh plum cake, thought...           11.0  \n",
              "29997  this is a traditional late summer early fall s...            NaN  \n",
              "29998  this is a delicious soup that i originally fou...            NaN  \n",
              "29999  i've heard of the 'cookies by design' company,...           10.0  \n",
              "\n",
              "[30000 rows x 8 columns]"
            ],
            "text/html": [
              "\n",
              "  <div id=\"df-6499d438-18e6-4d52-aa3f-7e830e30825b\">\n",
              "    <div class=\"colab-df-container\">\n",
              "      <div>\n",
              "<style scoped>\n",
              "    .dataframe tbody tr th:only-of-type {\n",
              "        vertical-align: middle;\n",
              "    }\n",
              "\n",
              "    .dataframe tbody tr th {\n",
              "        vertical-align: top;\n",
              "    }\n",
              "\n",
              "    .dataframe thead th {\n",
              "        text-align: right;\n",
              "    }\n",
              "</style>\n",
              "<table border=\"1\" class=\"dataframe\">\n",
              "  <thead>\n",
              "    <tr style=\"text-align: right;\">\n",
              "      <th></th>\n",
              "      <th>name</th>\n",
              "      <th>id</th>\n",
              "      <th>minutes</th>\n",
              "      <th>contributor_id</th>\n",
              "      <th>submitted</th>\n",
              "      <th>n_steps</th>\n",
              "      <th>description</th>\n",
              "      <th>n_ingredients</th>\n",
              "    </tr>\n",
              "  </thead>\n",
              "  <tbody>\n",
              "    <tr>\n",
              "      <th>0</th>\n",
              "      <td>george s at the cove  black bean soup</td>\n",
              "      <td>44123</td>\n",
              "      <td>90</td>\n",
              "      <td>35193</td>\n",
              "      <td>2002-10-25</td>\n",
              "      <td>NaN</td>\n",
              "      <td>an original recipe created by chef scott meska...</td>\n",
              "      <td>18.0</td>\n",
              "    </tr>\n",
              "    <tr>\n",
              "      <th>1</th>\n",
              "      <td>healthy for them  yogurt popsicles</td>\n",
              "      <td>67664</td>\n",
              "      <td>10</td>\n",
              "      <td>91970</td>\n",
              "      <td>2003-07-26</td>\n",
              "      <td>NaN</td>\n",
              "      <td>my children and their friends ask for my homem...</td>\n",
              "      <td>NaN</td>\n",
              "    </tr>\n",
              "    <tr>\n",
              "      <th>2</th>\n",
              "      <td>i can t believe it s spinach</td>\n",
              "      <td>38798</td>\n",
              "      <td>30</td>\n",
              "      <td>1533</td>\n",
              "      <td>2002-08-29</td>\n",
              "      <td>NaN</td>\n",
              "      <td>these were so go, it surprised even me.</td>\n",
              "      <td>8.0</td>\n",
              "    </tr>\n",
              "    <tr>\n",
              "      <th>3</th>\n",
              "      <td>italian  gut busters</td>\n",
              "      <td>35173</td>\n",
              "      <td>45</td>\n",
              "      <td>22724</td>\n",
              "      <td>2002-07-27</td>\n",
              "      <td>NaN</td>\n",
              "      <td>my sister-in-law made these for us at a family...</td>\n",
              "      <td>NaN</td>\n",
              "    </tr>\n",
              "    <tr>\n",
              "      <th>4</th>\n",
              "      <td>love is in the air  beef fondue   sauces</td>\n",
              "      <td>84797</td>\n",
              "      <td>25</td>\n",
              "      <td>4470</td>\n",
              "      <td>2004-02-23</td>\n",
              "      <td>4.0</td>\n",
              "      <td>i think a fondue is a very romantic casual din...</td>\n",
              "      <td>NaN</td>\n",
              "    </tr>\n",
              "    <tr>\n",
              "      <th>...</th>\n",
              "      <td>...</td>\n",
              "      <td>...</td>\n",
              "      <td>...</td>\n",
              "      <td>...</td>\n",
              "      <td>...</td>\n",
              "      <td>...</td>\n",
              "      <td>...</td>\n",
              "      <td>...</td>\n",
              "    </tr>\n",
              "    <tr>\n",
              "      <th>29995</th>\n",
              "      <td>zurie s holey rustic olive and cheddar bread</td>\n",
              "      <td>267661</td>\n",
              "      <td>80</td>\n",
              "      <td>200862</td>\n",
              "      <td>2007-11-25</td>\n",
              "      <td>16.0</td>\n",
              "      <td>this is based on a french recipe but i changed...</td>\n",
              "      <td>10.0</td>\n",
              "    </tr>\n",
              "    <tr>\n",
              "      <th>29996</th>\n",
              "      <td>zwetschgenkuchen  bavarian plum cake</td>\n",
              "      <td>386977</td>\n",
              "      <td>240</td>\n",
              "      <td>177443</td>\n",
              "      <td>2009-08-24</td>\n",
              "      <td>NaN</td>\n",
              "      <td>this is a traditional fresh plum cake, thought...</td>\n",
              "      <td>11.0</td>\n",
              "    </tr>\n",
              "    <tr>\n",
              "      <th>29997</th>\n",
              "      <td>zwiebelkuchen   southwest german onion cake</td>\n",
              "      <td>103312</td>\n",
              "      <td>75</td>\n",
              "      <td>161745</td>\n",
              "      <td>2004-11-03</td>\n",
              "      <td>NaN</td>\n",
              "      <td>this is a traditional late summer early fall s...</td>\n",
              "      <td>NaN</td>\n",
              "    </tr>\n",
              "    <tr>\n",
              "      <th>29998</th>\n",
              "      <td>zydeco soup</td>\n",
              "      <td>486161</td>\n",
              "      <td>60</td>\n",
              "      <td>227978</td>\n",
              "      <td>2012-08-29</td>\n",
              "      <td>NaN</td>\n",
              "      <td>this is a delicious soup that i originally fou...</td>\n",
              "      <td>NaN</td>\n",
              "    </tr>\n",
              "    <tr>\n",
              "      <th>29999</th>\n",
              "      <td>cookies by design   cookies on a stick</td>\n",
              "      <td>298512</td>\n",
              "      <td>29</td>\n",
              "      <td>506822</td>\n",
              "      <td>2008-04-15</td>\n",
              "      <td>9.0</td>\n",
              "      <td>i've heard of the 'cookies by design' company,...</td>\n",
              "      <td>10.0</td>\n",
              "    </tr>\n",
              "  </tbody>\n",
              "</table>\n",
              "<p>30000 rows × 8 columns</p>\n",
              "</div>\n",
              "      <button class=\"colab-df-convert\" onclick=\"convertToInteractive('df-6499d438-18e6-4d52-aa3f-7e830e30825b')\"\n",
              "              title=\"Convert this dataframe to an interactive table.\"\n",
              "              style=\"display:none;\">\n",
              "        \n",
              "  <svg xmlns=\"http://www.w3.org/2000/svg\" height=\"24px\"viewBox=\"0 0 24 24\"\n",
              "       width=\"24px\">\n",
              "    <path d=\"M0 0h24v24H0V0z\" fill=\"none\"/>\n",
              "    <path d=\"M18.56 5.44l.94 2.06.94-2.06 2.06-.94-2.06-.94-.94-2.06-.94 2.06-2.06.94zm-11 1L8.5 8.5l.94-2.06 2.06-.94-2.06-.94L8.5 2.5l-.94 2.06-2.06.94zm10 10l.94 2.06.94-2.06 2.06-.94-2.06-.94-.94-2.06-.94 2.06-2.06.94z\"/><path d=\"M17.41 7.96l-1.37-1.37c-.4-.4-.92-.59-1.43-.59-.52 0-1.04.2-1.43.59L10.3 9.45l-7.72 7.72c-.78.78-.78 2.05 0 2.83L4 21.41c.39.39.9.59 1.41.59.51 0 1.02-.2 1.41-.59l7.78-7.78 2.81-2.81c.8-.78.8-2.07 0-2.86zM5.41 20L4 18.59l7.72-7.72 1.47 1.35L5.41 20z\"/>\n",
              "  </svg>\n",
              "      </button>\n",
              "      \n",
              "  <style>\n",
              "    .colab-df-container {\n",
              "      display:flex;\n",
              "      flex-wrap:wrap;\n",
              "      gap: 12px;\n",
              "    }\n",
              "\n",
              "    .colab-df-convert {\n",
              "      background-color: #E8F0FE;\n",
              "      border: none;\n",
              "      border-radius: 50%;\n",
              "      cursor: pointer;\n",
              "      display: none;\n",
              "      fill: #1967D2;\n",
              "      height: 32px;\n",
              "      padding: 0 0 0 0;\n",
              "      width: 32px;\n",
              "    }\n",
              "\n",
              "    .colab-df-convert:hover {\n",
              "      background-color: #E2EBFA;\n",
              "      box-shadow: 0px 1px 2px rgba(60, 64, 67, 0.3), 0px 1px 3px 1px rgba(60, 64, 67, 0.15);\n",
              "      fill: #174EA6;\n",
              "    }\n",
              "\n",
              "    [theme=dark] .colab-df-convert {\n",
              "      background-color: #3B4455;\n",
              "      fill: #D2E3FC;\n",
              "    }\n",
              "\n",
              "    [theme=dark] .colab-df-convert:hover {\n",
              "      background-color: #434B5C;\n",
              "      box-shadow: 0px 1px 3px 1px rgba(0, 0, 0, 0.15);\n",
              "      filter: drop-shadow(0px 1px 2px rgba(0, 0, 0, 0.3));\n",
              "      fill: #FFFFFF;\n",
              "    }\n",
              "  </style>\n",
              "\n",
              "      <script>\n",
              "        const buttonEl =\n",
              "          document.querySelector('#df-6499d438-18e6-4d52-aa3f-7e830e30825b button.colab-df-convert');\n",
              "        buttonEl.style.display =\n",
              "          google.colab.kernel.accessAllowed ? 'block' : 'none';\n",
              "\n",
              "        async function convertToInteractive(key) {\n",
              "          const element = document.querySelector('#df-6499d438-18e6-4d52-aa3f-7e830e30825b');\n",
              "          const dataTable =\n",
              "            await google.colab.kernel.invokeFunction('convertToInteractive',\n",
              "                                                     [key], {});\n",
              "          if (!dataTable) return;\n",
              "\n",
              "          const docLinkHtml = 'Like what you see? Visit the ' +\n",
              "            '<a target=\"_blank\" href=https://colab.research.google.com/notebooks/data_table.ipynb>data table notebook</a>'\n",
              "            + ' to learn more about interactive tables.';\n",
              "          element.innerHTML = '';\n",
              "          dataTable['output_type'] = 'display_data';\n",
              "          await google.colab.output.renderOutput(dataTable, element);\n",
              "          const docLink = document.createElement('div');\n",
              "          docLink.innerHTML = docLinkHtml;\n",
              "          element.appendChild(docLink);\n",
              "        }\n",
              "      </script>\n",
              "    </div>\n",
              "  </div>\n",
              "  "
            ]
          },
          "metadata": {},
          "execution_count": 165
        }
      ]
    },
    {
      "cell_type": "markdown",
      "metadata": {
        "id": "tj6py4SOsQ88"
      },
      "source": [
        "7\\. Разбейте описания рецептов из `recipes` на предложения при помощи пакета `nltk`. Найдите 5 самых длинных описаний (по количеству _предложений_) рецептов в датасете и выведите строки фрейма, соответствующие этим рецептами, в порядке убывания длины."
      ]
    },
    {
      "cell_type": "code",
      "source": [
        "# lenn = data.apply(lambda row: nltk.word_tokenize(row['description']), axis=1)\n",
        "lenn = []\n",
        "def find_largest_array(arr):\n",
        "    max_len = 0\n",
        "    largest_arr = None\n",
        "    for sub_arr in arr:\n",
        "        if len(sub_arr) > max_len:\n",
        "            max_len = len(sub_arr)\n",
        "            largest_arr = sub_arr\n",
        "    return largest_arr\n",
        "for i in data[\"description\"]:\n",
        "  lenn.append(sent_tokenize(str(i)))\n",
        "for i in range(5):\n",
        "  print(find_largest_array(lenn))\n",
        "  print()\n",
        "  del lenn[lenn.index(find_largest_array(lenn))]\n"
      ],
      "metadata": {
        "colab": {
          "base_uri": "https://localhost:8080/"
        },
        "id": "rTo5C1j5c0y2",
        "outputId": "d4ecefb4-4450-428b-94b5-30dbf8b1472b"
      },
      "execution_count": null,
      "outputs": [
        {
          "output_type": "stream",
          "name": "stdout",
          "text": [
            "['this wonderful icing is used for icing cakes and cookies as well as for borders and art work on cakes.', 'it makes a delicious filling also between the layers of cakes and under fondant icing.', 'you can make roses but it takes 3 or more days to dry them depending on the humidity.', 'there are many versions of “buttercream” icing.', 'some are made with eggs and all butter.', 'some varieties, you have to cook your sugar to a softball stage.', 'others are 100% shortening or a combination of shortening and butter.', 'each decorator has his or her favorite.', 'i personally think that the best taste and textured recipe is the one that has you cook your sugar, add to whipped eggs and use pounds of butter per batch.', 'but….', 'i live in a state that can easily be a 100 degrees for days on end during the summer and you know what butter does on hot days.', 'it melts!', 'a greasy puddle of melted icing on a cake plate is not something i want to look at or eat.', 'your top notch decorators have a few options we don’t.', 'they have huge refrigerators to store their cakes in, and refrigerated vehicles that they can use to deliver decorated cakes.', 'i even know a few that refuse to deliver at all.', 'if you want their cake, you come and get it and it’s your responsibility if it melts.', 'these decorators don’t even turn on their ovens for a wedding cake for less than $2000.', 'the following recipes for buttercream icing hold up pretty well in the heat and humidity, but if you know that your cake will be out in very high temperatures, then don’t use any butter and use only a high quality shortening.', 'shortening:  \\r\\n\\r\\nsolid shortenings definitely have their place in baking.', 'so i’m going to talk taste tests.', 'crisco is the hands down winner.', 'it has a clean taste with the melting point of 106 degrees.', 'butter melts somewhere between 88 and 98 degrees f. depending on the amount of fat in the brand.', 'you can see that if you need to serve a pure buttercream decorated cake, on a hot august afternoon, you could have melted roses (and i do mean greasy puddles) on the tablecloth.', 'this is when a good quality shortening will be a great blessing.', 'i have been told by decorator friends that some of the warehouse brand shortenings leave a grainy consistency to the icing no matter what you do.', \"powdered (confectioner's) sugar:  \\r\\n\\r\\nregarding powdered sugar.\", 'please use a cane sugar.', 'i prefer c&h powdered (confectioners) sugar.', 'many of the cheaper brands use sugar beets for their base.', 'i don’t know the chemistry behind it but you definitely get different textures to your icing that can vary from batch to batch.', 'i spent a few months being very frustrated with the quality of my icing until a kind lady did a bit of trouble shooting for me.', 'she recommended the cane sugar and i’ve been blessing her ever since.', 'top-quality brands:  \\r\\n\\r\\nplease be safe, buy a quality brands and then stick with it for the best results.', 'a friend of mine, who is a wonderful cook and baker, travels a lot and she often prepares treats for her hosts.', 'she’s learned to ask the host to have her favorite shortening and flour on hand.', 'she has even made up a little makeup type case that carries her favorite extracts and precious spices.', 'that way she knows what she is working with, how it handles, and what tastes she can expect for the finished product.', 'some surprises are not pleasant.', 'storing buttercream icing: \\r\\n\\r\\nif you are not going to be using the icing right away, place it in a clean, sealable bowl.', 'store it in the refrigerator but please don’t place it next to the marinating salmon, garlic or broccoli.', 'you do not want those flavors in your icing!', 'i like to use my icing within a few days but it will hold in the cold refrigerator for a couple of weeks if necessary.', 'i often make a double batch of icing the night before i have a baking project.', 'that way i know that i have plenty of icing, it’s fresh and i don’t have to make it while i’m in the middle of baking the cakes.', 'the extra can always be used for a batch of cupcakes.', 'when you remove the icing from the refrigerator, you might notice that the icing has taken on a sponge like texture.', 'do yourself a favor and place the icing in a bowl and mix by hand using a back and forth, smashing motion with a spoon or icing spatula.', 'what you want to do is to smash the bubbles out of the icing.', 'this extra step will help to give you the smoothest icing for a pretty top and sides of the cake.', 'i have found that you will get an even better texture of icing if it is at room temperature before you try to do your icing.', 'bad buttercream icing days:  \\r\\n\\r\\none thing that seems very silly but is true.', 'there are bad buttercream days!', 'i’ve asked quite a few decorators about this and every one says “yes, there are lousy days”.', 'i’m not sure what causes the problem.', 'it could be that every human has bad days so they blame the buttercream.', 'it may be the humidity or that there is a low pressure system hanging over your town.', 'i just know why but it is a perceived fact.', 'the way i have handled the problem is that i changed the decoration on the cake.', 'i couldn’t get the smooth top or sides as i originally planned.', 'writing a greeting on a messy top would look awful so i changed the design idea and put flowers everywhere.', 'i could have also done a basket weave technique around the sides.', 'just go with the flow, and don’t get frustrated.', 'aunt martha won’t chuck the cake at you if you don’t write her name on the top this time.', 'remember that you are creating something that is to be eaten so have fun with it.', 'different mixers:\\r\\n\\r\\nif you have a heavy duty counter mixer, you can prepare a whole batch at one time.', 'if you are using a hand mixer, divide the recipe in half.', 'if you notice the mixer getting hot, please stop and let the machine cool off.', 'i also prefer to mix the buttercream on a low setting.', 'it seems that the higher setting do the job faster but you also will get a spongy texture to the icing.', 'i don’t want that quality in my final ice coating or flowers on the cake.', 'using weight scales:\\r\\n\\r\\n1 cup of crisco weighs 6 ounces.', 'i put a piece of wax paper on my scale and start plopping spoons of shortening on until i get the desired weight.', 'it really saves on the cleanup.', 'recipe from peggy at whatscookingamerica.net']\n",
            "\n",
            "['a translucent golden-brown crust allows the green of the avocado to be seen.', 'the crispy exterior is a counterpoint to the unctuous interior.', 'these are a signature dish for me, and the one i most often get requests to make (although my seafood and ricotta stuffed buckwheat pancakes run a close second).', 'these fritters came about ten years ago when i was shopping for a dinner i was making for a friend who is a cia-trained chef.', 'i was in a vegetable market and saw these gorgeous avocados that i just knew would be ripe in the next two days.', 'i tried to think of what i could do with them since a) everyone serves cold avocado, and b) i really am not fond of guacamole.', \"as i tried to think of what i could make with them that was hot, the work 'fritters' jumped into my head.\", 'having never made a fritter before, i was a little surprised to have that thought; but having never known when a vegetable was going to be ripe before i figured i was on a roll and decided to go for it.', 'to serve with my never-before-tried-fritters, i decided to make a crème fraîche-lime-cayenne dipping sauce.', \"so i made fresh crème fraîche, and used it as a base not only for this dip, but for a tia maria sauce to go with the flourless chocolate cake i made for dessert (another never-before made item, but with the recipe from cook's illustrated it was the only thing i wasn't making up as i went along).\", 'the result of the fritters was that i got to taste the test fritter, then had to dive across the couch before the last one was devoured in order to have a second.', 'the one evolution in the recipe is the change from cayenne to chipotle in the dip.', 'i like the smokiness, and it gives a rough edge to something very smooth - i am all about contrast.', 'feel free to use whatever chile or combination thereof that you like best.', \"this dip is easy and stands on it's own at a party for anything you want to dip into it.\", 'i have also made it with vegan sour cream with great results.', 'the name alligator claws comes from an alternate name for the avocado: the alligator pear, as well as the fact that the wedges of avocado look like claws.', \"(for those not familiar with the name alligator pear, it derives from both the tough, textured exterior - reminiscent of an alligator's hide, and the fact that you really can't eat one until it softens - just like a pear.)\", \"alligator claws are also a great name to call them if you have kids who either won't eat anything that sounds weird and you want to keep them to yourself, or - if you want your kids to eat them - if you have kids who'll only eat things that will gross other people out.\", 'if you are preparing these for kids (and i recommend you do whatever name you choose to call them), protect their palates and tone down the heat of the sauce.', \"maybe skip the chiles altogether and put in just a hint of finely ground pepper (white pepper won't look like black specks throughout the dip - i'm normally not that fussy, but it's something kids will notice).\", 'allow half an avocado per person.', 'this is so rich that more is too much.', 'note:\\r\\nyou can easily cut the recipe in half, all the batter is is a one-to-one mix of flour & water (someone has suggested trying tempura batter which comes in a mix at many supermarkets - i tend to be a from-scratch kind of guy.', 'or do i just mean itchy?).', 'enjoy.', '-- text by michael david winter, aka the poker roach']\n",
            "\n",
            "[\"this is one of the best soups i've ever made and it is even worthy of company.\", 'so simple, yet rich in deep, mushroomy flavor.', 'the inspiration was zaar #26877, a delicious mushroom rice casserole.', \"i found i couldn't stop eating the liquid before putting the casserole into the oven and that gave me the idea that the base  would make a delicious soup.\", 'and it does!', 'use plenty of fresh mushrooms.', \"i buy them when they are marked 1/2 price at the grocery, as this is a good way to use your 'shrooms that are starting to get dark.\", 'it is the soy sauce that transforms the broth from ho-hum to yum.', 'i try to use low sodium or home-made no sodium chicken broth so that i can use the soy for the sodium.', 'there is no sense of \"asian\" in this soup at all.', '( i would not make this without the soy. )', 'just a little bit adds the depth of flavor and even color that transforms the soup.', 'notes:\\r\\n1. if you want to make it into \"cream of\" just add some evaporated milk...delicious.', '2.  once i broke up a leftover ground sirloin burger into my soup bowl and nuked it...was that ever good.', '3. i did do this recipe with sinewy beef scraps cut from a roast once.', 'i browned the beef in the bottom of the pan, added the butter and onions and continued as written.', 'the beef added great color and flavor.', 'in this case, i threw the beef piece away, because it had too much sinew, but it was a great addition!', 'i ended up using less soy.', '4.  i have eye-ball made this soup with amounts i had in the fridge/cupboard and it was great.', \"so if you don't have that many mushrooms, make it anyway, just keep tasting it until it tastes good to you!\", \"5.  i've made it without food-processing the onions, and that worked just as well.\", 'lots of flexibility here!', \"try it, it might be the best barley mushroom soup you've ever had!\"]\n",
            "\n",
            "['i wrote this because there are an astounding lack of chocolate tea recipes on the internet.', 'the first time i heard about chocolate tea was doing a web search on chocolate.', 'there seem to be a few companies out there who sell chocolate tea.', 'i like to stay up late and had run out of coffee.', 'i was in real need for a good tasting caffene beverage.', 'i first thought chocolate tea would be yucky.', 'we are conditioned to accept chocolate with coffee as a rule but not tea.', 'i was very mistaken!', 'tea and chocolate goes very well with each other and it is also very good for your body.', 'both tea and chocolate are loaded with antioxidents.', 'you may however not want to give this to small children because of the caffene.', 'not having a recipe to follow, i created one.', '(this one) i used these ingredients because i had them on hand and it was quicker than hunting around for my pepermint extract or messing with my powered cocoa.', 'this being said, if you do want to use powered cocoa or pepermint extract instead of the ovaltine and lifesavers please do so.', 'experiment.', 'this recipe is \"opensource\" :-)\\r\\n\\r\\n you will have to adjust the sugar levels to taste.', 'if you like you can even omit the mints.', 'i used them and i find it gives the beverage that spceial something.', 'this recipe makes one large coffee cup of beverage.', 'if you use regular size coffee cups you may get two servings out of this if serving each person one serving each.', 'to serve 1 serving each to 2 or 3 people using large coffee cups, double or tripple the recipie accodingly\\r\\n\\r\\nenjoy !', 'please let me klnow if you like it!', ':-)']\n",
            "\n",
            "['the first time i made this cake i grated a million pounds of carrots on a knucklebuster.', 'then they invented cuisinarts!', 'now it is much faster to shred the carrots on a fine shredding disk and no bloody knuckles!', 'i have baked it in 8\", 9\", 9x13\" pans so if you want to experiment with pan size it works.', 'one thing i found was baking and stacking the three layers is tricky.', 'my favorite way is two 8\" pans for a nice layer cake and an 8\" square pan to put into the freezer for unexpected company.', 'i hope you try this wonderful cake.', 'update:  in the spirit of carrot cake stories, this cake was invented by a bunny named foo-foo.', \"he is very famous and even has a hit song which goes like this: sing to the tune of 'down by the station'..........     \\r\\n\\r\\n\\r\\n little bunny foo foo,\\r\\nhopping through the forest,\\r\\nscooping up the field mice,\\r\\nand boppin' 'em on the head.\", 'down came the good fairy and she said - \\r\\n\\r\\n\"little bunny foo foo,\\r\\ni don\\'t want to see you,\\r\\nscooping up the field mice,\\r\\nand boppin\\' \\'em on the head.', 'i\\'ll give you three chances,\\r\\nand if you don\\'t behave ...\\r\\ni\\'ll turn you into a goon!\"', \"the next day:\\r\\n\\r\\nlittle bunny foo foo,\\r\\nhopping through the forest,\\r\\nscooping up the field mice,\\r\\nand boppin' 'em on the head.\", 'down came the good fairy and she said:\\r\\n\\r\\n\"little bunny foo foo,\\r\\ni don\\'t want to see you.', 'scooping up the field mice.', \"and boppin' 'em on the head.\", 'i\\'ll give you two more chances,\\r\\nand if you don\\'t behave...\\r\\ni\\'ll turn you into a goon!\"', \"the next day:\\r\\n\\r\\nlittle bunny foo foo,\\r\\nhopping through the forest,\\r\\nscooping up the field mice,\\r\\nand boppin' 'em on the head.\", 'down came the good fairy and she said:\\r\\n\\r\\n\"little bunny foo foo,\\r\\ni don\\'t want to see you,\\r\\nscooping up the field mice,\\r\\nand boppin\\' \\'em on the head.', 'i\\'ll give you one more chance,\\r\\nand if you don\\'t behave..........\\r\\ni\\'ll turn you into a goon!\"', 'the next day:\\r\\n\\r\\nlittle bunny foo foo,\\r\\nhopping through the forest,\\r\\nscooping up the field mice,\\r\\nand boppin\\' \\'em on the head,\\r\\n\\r\\ndown came the good fairy and she said\\r\\n\\r\\n\"little bunny foo foo,\\r\\ni don\\'t want to see you,\\r\\nscooping up the field mice,\\r\\nand boppin\\' \\'em on the head.', \"i gave you three chances\\r\\nand you didn't behave\\r\\nnow you're a goon!\", 'poof!!\"', 'the moral of the story is:\\r\\nhare today, goon tomorrow']\n",
            "\n"
          ]
        }
      ]
    },
    {
      "cell_type": "markdown",
      "metadata": {
        "id": "wpYION7nsQ89"
      },
      "source": [
        "8\\. Напишите функцию, которая для заданного предложения выводит информацию о частях речи слов, входящих в предложение, в следующем виде:\n",
        "```\n",
        "PRP   VBD   DT      NNS     CC   VBD      NNS        RB   \n",
        " I  omitted the raspberries and added strawberries instead\n",
        "``` \n",
        "Для определения части речи слова можно воспользоваться `nltk.pos_tag`.\n",
        "\n",
        "Проверьте работоспособность функции на названии рецепта с id 241106.\n",
        "\n",
        "Обратите внимание, что часть речи должна находиться ровно посередине над соотвествующим словом, а между самими словами должен быть ровно один пробел.\n"
      ]
    },
    {
      "cell_type": "code",
      "source": [
        "nltk.download('averaged_perceptron_tagger')"
      ],
      "metadata": {
        "colab": {
          "base_uri": "https://localhost:8080/"
        },
        "id": "ms-b-sj4-E3U",
        "outputId": "122312d0-5f0a-4893-e86a-1d36b6c0528a"
      },
      "execution_count": 20,
      "outputs": [
        {
          "output_type": "stream",
          "name": "stderr",
          "text": [
            "[nltk_data] Downloading package averaged_perceptron_tagger to\n",
            "[nltk_data]     /root/nltk_data...\n",
            "[nltk_data]   Unzipping taggers/averaged_perceptron_tagger.zip.\n"
          ]
        },
        {
          "output_type": "execute_result",
          "data": {
            "text/plain": [
              "True"
            ]
          },
          "metadata": {},
          "execution_count": 20
        }
      ]
    },
    {
      "cell_type": "code",
      "source": [
        "data[data['id'] == 241106]['name'].values"
      ],
      "metadata": {
        "id": "cuNvSJsigDX_",
        "colab": {
          "base_uri": "https://localhost:8080/"
        },
        "outputId": "79531ce8-38e0-4066-c431-4b44ce92e07a"
      },
      "execution_count": 15,
      "outputs": [
        {
          "output_type": "execute_result",
          "data": {
            "text/plain": [
              "array(['eggplant steaks with chickpeas  feta cheese and black olives'],\n",
              "      dtype=object)"
            ]
          },
          "metadata": {},
          "execution_count": 15
        }
      ]
    },
    {
      "cell_type": "code",
      "execution_count": 21,
      "metadata": {
        "id": "ipDpCFuEsQ89",
        "colab": {
          "base_uri": "https://localhost:8080/"
        },
        "outputId": "76a3de5a-5a91-467c-e243-fabbe762a124"
      },
      "outputs": [
        {
          "output_type": "stream",
          "name": "stdout",
          "text": [
            "    JJ     NNS    IN     NNS    VBP    JJ   CC   JJ    NNS  \n",
            "eggplant steaks with chickpeas feta cheese and black olives \n"
          ]
        }
      ],
      "source": [
        "sent = 'eggplant steaks with chickpeas  feta cheese and black olives'\n",
        "def sent_tag(sent):\n",
        "  word_value = nltk.pos_tag(nltk.word_tokenize(sent))\n",
        "  up, down = '', ''\n",
        "  for i in word_value:\n",
        "    up += f' {i[1]: ^{len(i[0])}}'\n",
        "    down += i[0]+' '\n",
        "  return up+'\\n'+down\n",
        "print(sent_tag(sent))"
      ]
    }
  ],
  "metadata": {
    "colab": {
      "provenance": []
    },
    "kernelspec": {
      "display_name": "Python 3 (ipykernel)",
      "language": "python",
      "name": "python3"
    },
    "language_info": {
      "codemirror_mode": {
        "name": "ipython",
        "version": 3
      },
      "file_extension": ".py",
      "mimetype": "text/x-python",
      "name": "python",
      "nbconvert_exporter": "python",
      "pygments_lexer": "ipython3",
      "version": "3.9.7"
    }
  },
  "nbformat": 4,
  "nbformat_minor": 0
}