{
  "cells": [
    {
      "cell_type": "code",
      "execution_count": null,
      "metadata": {
        "tags": [
          "DaSh-More"
        ],
        "id": "hcU_n41J6S6w"
      },
      "outputs": [],
      "source": [
        "import pandas as pd\n",
        "from pathlib import Path\n",
        "import numpy as np"
      ]
    },
    {
      "cell_type": "code",
      "execution_count": null,
      "metadata": {
        "id": "El0Jys1-6S6x"
      },
      "outputs": [],
      "source": [
        "dp = Path('./src/tables/recipes_model/')\n"
      ]
    },
    {
      "cell_type": "markdown",
      "metadata": {
        "id": "2BvdzttP6S6x"
      },
      "source": [
        "1. Загрузите данные из файлов `reviews_short.csv` и `recipes_short_5.csv` в виде `pd.DataFrame`. Обратите внимание на корректное считывание столбца(ов) с индексами. Оставьте в таблице с рецептами следующие столбцы: `id, name, minutes, submitted, description, n_ingredients`\n"
      ]
    },
    {
      "cell_type": "code",
      "execution_count": null,
      "metadata": {
        "id": "axaHz8Nn6S6y",
        "outputId": "2bc2d929-a46c-4da2-efd0-69123f6daf2e"
      },
      "outputs": [
        {
          "data": {
            "text/html": [
              "<div>\n",
              "<style scoped>\n",
              "    .dataframe tbody tr th:only-of-type {\n",
              "        vertical-align: middle;\n",
              "    }\n",
              "\n",
              "    .dataframe tbody tr th {\n",
              "        vertical-align: top;\n",
              "    }\n",
              "\n",
              "    .dataframe thead th {\n",
              "        text-align: right;\n",
              "    }\n",
              "</style>\n",
              "<table border=\"1\" class=\"dataframe\">\n",
              "  <thead>\n",
              "    <tr style=\"text-align: right;\">\n",
              "      <th></th>\n",
              "      <th>name</th>\n",
              "      <th>id</th>\n",
              "      <th>minutes</th>\n",
              "      <th>submitted</th>\n",
              "      <th>description</th>\n",
              "      <th>n_ingredients</th>\n",
              "    </tr>\n",
              "  </thead>\n",
              "  <tbody>\n",
              "    <tr>\n",
              "      <th>0</th>\n",
              "      <td>george s at the cove  black bean soup</td>\n",
              "      <td>44123</td>\n",
              "      <td>90</td>\n",
              "      <td>2002-10-25</td>\n",
              "      <td>an original recipe created by chef scott meska...</td>\n",
              "      <td>18.0</td>\n",
              "    </tr>\n",
              "    <tr>\n",
              "      <th>1</th>\n",
              "      <td>healthy for them  yogurt popsicles</td>\n",
              "      <td>67664</td>\n",
              "      <td>10</td>\n",
              "      <td>2003-07-26</td>\n",
              "      <td>my children and their friends ask for my homem...</td>\n",
              "      <td>NaN</td>\n",
              "    </tr>\n",
              "    <tr>\n",
              "      <th>2</th>\n",
              "      <td>i can t believe it s spinach</td>\n",
              "      <td>38798</td>\n",
              "      <td>30</td>\n",
              "      <td>2002-08-29</td>\n",
              "      <td>these were so go, it surprised even me.</td>\n",
              "      <td>8.0</td>\n",
              "    </tr>\n",
              "    <tr>\n",
              "      <th>3</th>\n",
              "      <td>italian  gut busters</td>\n",
              "      <td>35173</td>\n",
              "      <td>45</td>\n",
              "      <td>2002-07-27</td>\n",
              "      <td>my sister-in-law made these for us at a family...</td>\n",
              "      <td>NaN</td>\n",
              "    </tr>\n",
              "    <tr>\n",
              "      <th>4</th>\n",
              "      <td>love is in the air  beef fondue   sauces</td>\n",
              "      <td>84797</td>\n",
              "      <td>25</td>\n",
              "      <td>2004-02-23</td>\n",
              "      <td>i think a fondue is a very romantic casual din...</td>\n",
              "      <td>NaN</td>\n",
              "    </tr>\n",
              "    <tr>\n",
              "      <th>...</th>\n",
              "      <td>...</td>\n",
              "      <td>...</td>\n",
              "      <td>...</td>\n",
              "      <td>...</td>\n",
              "      <td>...</td>\n",
              "      <td>...</td>\n",
              "    </tr>\n",
              "    <tr>\n",
              "      <th>29995</th>\n",
              "      <td>zurie s holey rustic olive and cheddar bread</td>\n",
              "      <td>267661</td>\n",
              "      <td>80</td>\n",
              "      <td>2007-11-25</td>\n",
              "      <td>this is based on a french recipe but i changed...</td>\n",
              "      <td>10.0</td>\n",
              "    </tr>\n",
              "    <tr>\n",
              "      <th>29996</th>\n",
              "      <td>zwetschgenkuchen  bavarian plum cake</td>\n",
              "      <td>386977</td>\n",
              "      <td>240</td>\n",
              "      <td>2009-08-24</td>\n",
              "      <td>this is a traditional fresh plum cake, thought...</td>\n",
              "      <td>11.0</td>\n",
              "    </tr>\n",
              "    <tr>\n",
              "      <th>29997</th>\n",
              "      <td>zwiebelkuchen   southwest german onion cake</td>\n",
              "      <td>103312</td>\n",
              "      <td>75</td>\n",
              "      <td>2004-11-03</td>\n",
              "      <td>this is a traditional late summer early fall s...</td>\n",
              "      <td>NaN</td>\n",
              "    </tr>\n",
              "    <tr>\n",
              "      <th>29998</th>\n",
              "      <td>zydeco soup</td>\n",
              "      <td>486161</td>\n",
              "      <td>60</td>\n",
              "      <td>2012-08-29</td>\n",
              "      <td>this is a delicious soup that i originally fou...</td>\n",
              "      <td>NaN</td>\n",
              "    </tr>\n",
              "    <tr>\n",
              "      <th>29999</th>\n",
              "      <td>cookies by design   cookies on a stick</td>\n",
              "      <td>298512</td>\n",
              "      <td>29</td>\n",
              "      <td>2008-04-15</td>\n",
              "      <td>i've heard of the 'cookies by design' company,...</td>\n",
              "      <td>10.0</td>\n",
              "    </tr>\n",
              "  </tbody>\n",
              "</table>\n",
              "<p>30000 rows × 6 columns</p>\n",
              "</div>"
            ],
            "text/plain": [
              "                                               name      id  minutes  \\\n",
              "0             george s at the cove  black bean soup   44123       90   \n",
              "1                healthy for them  yogurt popsicles   67664       10   \n",
              "2                      i can t believe it s spinach   38798       30   \n",
              "3                              italian  gut busters   35173       45   \n",
              "4          love is in the air  beef fondue   sauces   84797       25   \n",
              "...                                             ...     ...      ...   \n",
              "29995  zurie s holey rustic olive and cheddar bread  267661       80   \n",
              "29996          zwetschgenkuchen  bavarian plum cake  386977      240   \n",
              "29997   zwiebelkuchen   southwest german onion cake  103312       75   \n",
              "29998                                   zydeco soup  486161       60   \n",
              "29999        cookies by design   cookies on a stick  298512       29   \n",
              "\n",
              "        submitted                                        description  \\\n",
              "0      2002-10-25  an original recipe created by chef scott meska...   \n",
              "1      2003-07-26  my children and their friends ask for my homem...   \n",
              "2      2002-08-29            these were so go, it surprised even me.   \n",
              "3      2002-07-27  my sister-in-law made these for us at a family...   \n",
              "4      2004-02-23  i think a fondue is a very romantic casual din...   \n",
              "...           ...                                                ...   \n",
              "29995  2007-11-25  this is based on a french recipe but i changed...   \n",
              "29996  2009-08-24  this is a traditional fresh plum cake, thought...   \n",
              "29997  2004-11-03  this is a traditional late summer early fall s...   \n",
              "29998  2012-08-29  this is a delicious soup that i originally fou...   \n",
              "29999  2008-04-15  i've heard of the 'cookies by design' company,...   \n",
              "\n",
              "       n_ingredients  \n",
              "0               18.0  \n",
              "1                NaN  \n",
              "2                8.0  \n",
              "3                NaN  \n",
              "4                NaN  \n",
              "...              ...  \n",
              "29995           10.0  \n",
              "29996           11.0  \n",
              "29997            NaN  \n",
              "29998            NaN  \n",
              "29999           10.0  \n",
              "\n",
              "[30000 rows x 6 columns]"
            ]
          },
          "execution_count": 23,
          "metadata": {},
          "output_type": "execute_result"
        }
      ],
      "source": [
        "reviews = pd.read_csv(dp/'reviews_sample.csv', index_col=0)\n",
        "recipes = pd.read_csv(dp/'recipes_sample.csv')\n",
        "recipes = recipes.drop(columns=['n_steps', 'contributor_id'])\n",
        "recipes\n"
      ]
    },
    {
      "cell_type": "markdown",
      "metadata": {
        "id": "re2b_Jc46S6y"
      },
      "source": [
        "2. Случайным образом выберите 5% строк из каждой таблицы и сохраните две таблицы на разные листы в один файл recipes.xlsx. Дайте листам названия \"Рецепты\" и \"Отзывы\", соответствующие содержанию таблиц.\n"
      ]
    },
    {
      "cell_type": "code",
      "execution_count": null,
      "metadata": {
        "id": "1HWkJOIZ6S6z",
        "outputId": "64188c27-8be1-4fc6-e963-a6faa9168922"
      },
      "outputs": [
        {
          "data": {
            "text/html": [
              "<div>\n",
              "<style scoped>\n",
              "    .dataframe tbody tr th:only-of-type {\n",
              "        vertical-align: middle;\n",
              "    }\n",
              "\n",
              "    .dataframe tbody tr th {\n",
              "        vertical-align: top;\n",
              "    }\n",
              "\n",
              "    .dataframe thead th {\n",
              "        text-align: right;\n",
              "    }\n",
              "</style>\n",
              "<table border=\"1\" class=\"dataframe\">\n",
              "  <thead>\n",
              "    <tr style=\"text-align: right;\">\n",
              "      <th></th>\n",
              "      <th>user_id</th>\n",
              "      <th>recipe_id</th>\n",
              "      <th>date</th>\n",
              "      <th>rating</th>\n",
              "      <th>review</th>\n",
              "    </tr>\n",
              "  </thead>\n",
              "  <tbody>\n",
              "    <tr>\n",
              "      <th>894698</th>\n",
              "      <td>232480</td>\n",
              "      <td>136577</td>\n",
              "      <td>2005-09-09</td>\n",
              "      <td>4</td>\n",
              "      <td>This is similar to my recipe except that I mak...</td>\n",
              "    </tr>\n",
              "    <tr>\n",
              "      <th>115669</th>\n",
              "      <td>171790</td>\n",
              "      <td>124269</td>\n",
              "      <td>2009-10-01</td>\n",
              "      <td>5</td>\n",
              "      <td>Excellent mix. Much less expensive than commer...</td>\n",
              "    </tr>\n",
              "    <tr>\n",
              "      <th>1087599</th>\n",
              "      <td>394085</td>\n",
              "      <td>37296</td>\n",
              "      <td>2010-03-06</td>\n",
              "      <td>0</td>\n",
              "      <td>Unfortunately this combination didn't appeal t...</td>\n",
              "    </tr>\n",
              "    <tr>\n",
              "      <th>318598</th>\n",
              "      <td>1269015</td>\n",
              "      <td>77087</td>\n",
              "      <td>2010-10-04</td>\n",
              "      <td>4</td>\n",
              "      <td>I subbbed the tahini for some peanut butter an...</td>\n",
              "    </tr>\n",
              "    <tr>\n",
              "      <th>296944</th>\n",
              "      <td>124084</td>\n",
              "      <td>50385</td>\n",
              "      <td>2004-01-30</td>\n",
              "      <td>5</td>\n",
              "      <td>Mad good.  My girlfriend and I went to Macaron...</td>\n",
              "    </tr>\n",
              "    <tr>\n",
              "      <th>...</th>\n",
              "      <td>...</td>\n",
              "      <td>...</td>\n",
              "      <td>...</td>\n",
              "      <td>...</td>\n",
              "      <td>...</td>\n",
              "    </tr>\n",
              "    <tr>\n",
              "      <th>819955</th>\n",
              "      <td>2001095212</td>\n",
              "      <td>185060</td>\n",
              "      <td>2017-08-06</td>\n",
              "      <td>5</td>\n",
              "      <td>Awesome recipe but I did make a couple of chan...</td>\n",
              "    </tr>\n",
              "    <tr>\n",
              "      <th>1126287</th>\n",
              "      <td>148316</td>\n",
              "      <td>110825</td>\n",
              "      <td>2005-02-19</td>\n",
              "      <td>5</td>\n",
              "      <td>Outstandingly delicious Jewelies! I made this ...</td>\n",
              "    </tr>\n",
              "    <tr>\n",
              "      <th>834851</th>\n",
              "      <td>487088</td>\n",
              "      <td>32973</td>\n",
              "      <td>2010-02-01</td>\n",
              "      <td>5</td>\n",
              "      <td>When I heard \"These are the best you've ever m...</td>\n",
              "    </tr>\n",
              "    <tr>\n",
              "      <th>774153</th>\n",
              "      <td>1595577</td>\n",
              "      <td>128956</td>\n",
              "      <td>2010-04-11</td>\n",
              "      <td>0</td>\n",
              "      <td>This is a must have in any Weight Watcher kitc...</td>\n",
              "    </tr>\n",
              "    <tr>\n",
              "      <th>158781</th>\n",
              "      <td>1800230938</td>\n",
              "      <td>8701</td>\n",
              "      <td>2016-10-18</td>\n",
              "      <td>5</td>\n",
              "      <td>Thanks for such a cool recipe! Wanna try it th...</td>\n",
              "    </tr>\n",
              "  </tbody>\n",
              "</table>\n",
              "<p>6334 rows × 5 columns</p>\n",
              "</div>"
            ],
            "text/plain": [
              "            user_id  recipe_id        date  rating  \\\n",
              "894698       232480     136577  2005-09-09       4   \n",
              "115669       171790     124269  2009-10-01       5   \n",
              "1087599      394085      37296  2010-03-06       0   \n",
              "318598      1269015      77087  2010-10-04       4   \n",
              "296944       124084      50385  2004-01-30       5   \n",
              "...             ...        ...         ...     ...   \n",
              "819955   2001095212     185060  2017-08-06       5   \n",
              "1126287      148316     110825  2005-02-19       5   \n",
              "834851       487088      32973  2010-02-01       5   \n",
              "774153      1595577     128956  2010-04-11       0   \n",
              "158781   1800230938       8701  2016-10-18       5   \n",
              "\n",
              "                                                    review  \n",
              "894698   This is similar to my recipe except that I mak...  \n",
              "115669   Excellent mix. Much less expensive than commer...  \n",
              "1087599  Unfortunately this combination didn't appeal t...  \n",
              "318598   I subbbed the tahini for some peanut butter an...  \n",
              "296944   Mad good.  My girlfriend and I went to Macaron...  \n",
              "...                                                    ...  \n",
              "819955   Awesome recipe but I did make a couple of chan...  \n",
              "1126287  Outstandingly delicious Jewelies! I made this ...  \n",
              "834851   When I heard \"These are the best you've ever m...  \n",
              "774153   This is a must have in any Weight Watcher kitc...  \n",
              "158781   Thanks for such a cool recipe! Wanna try it th...  \n",
              "\n",
              "[6334 rows x 5 columns]"
            ]
          },
          "execution_count": 29,
          "metadata": {},
          "output_type": "execute_result"
        }
      ],
      "source": [
        "reviews_s = reviews.sample(len(reviews)//20)\n",
        "reviews_s\n"
      ]
    },
    {
      "cell_type": "code",
      "execution_count": null,
      "metadata": {
        "id": "-08j8-Qv6S6z",
        "outputId": "4c931d23-f87c-4c32-bb4a-0e9c74c2e8d5"
      },
      "outputs": [
        {
          "data": {
            "text/html": [
              "<div>\n",
              "<style scoped>\n",
              "    .dataframe tbody tr th:only-of-type {\n",
              "        vertical-align: middle;\n",
              "    }\n",
              "\n",
              "    .dataframe tbody tr th {\n",
              "        vertical-align: top;\n",
              "    }\n",
              "\n",
              "    .dataframe thead th {\n",
              "        text-align: right;\n",
              "    }\n",
              "</style>\n",
              "<table border=\"1\" class=\"dataframe\">\n",
              "  <thead>\n",
              "    <tr style=\"text-align: right;\">\n",
              "      <th></th>\n",
              "      <th>name</th>\n",
              "      <th>id</th>\n",
              "      <th>minutes</th>\n",
              "      <th>submitted</th>\n",
              "      <th>description</th>\n",
              "      <th>n_ingredients</th>\n",
              "    </tr>\n",
              "  </thead>\n",
              "  <tbody>\n",
              "    <tr>\n",
              "      <th>23414</th>\n",
              "      <td>sauerkraut candy</td>\n",
              "      <td>198251</td>\n",
              "      <td>35</td>\n",
              "      <td>2006-11-28</td>\n",
              "      <td>we had this candy at a sauerkraut festival in ...</td>\n",
              "      <td>7.0</td>\n",
              "    </tr>\n",
              "    <tr>\n",
              "      <th>16844</th>\n",
              "      <td>mandel bread  traditional jewish holiday cookie</td>\n",
              "      <td>14960</td>\n",
              "      <td>45</td>\n",
              "      <td>2001-11-28</td>\n",
              "      <td>the original jewish biscotti. great dunked int...</td>\n",
              "      <td>NaN</td>\n",
              "    </tr>\n",
              "    <tr>\n",
              "      <th>8125</th>\n",
              "      <td>cream puff paste</td>\n",
              "      <td>692</td>\n",
              "      <td>345</td>\n",
              "      <td>1999-09-07</td>\n",
              "      <td>cream puff paste (pate a choux)</td>\n",
              "      <td>6.0</td>\n",
              "    </tr>\n",
              "    <tr>\n",
              "      <th>14578</th>\n",
              "      <td>island cheese ball</td>\n",
              "      <td>83598</td>\n",
              "      <td>5</td>\n",
              "      <td>2004-02-11</td>\n",
              "      <td>a very simple and tasty recipe to serve. even ...</td>\n",
              "      <td>NaN</td>\n",
              "    </tr>\n",
              "    <tr>\n",
              "      <th>6277</th>\n",
              "      <td>chilighetti</td>\n",
              "      <td>458309</td>\n",
              "      <td>30</td>\n",
              "      <td>2011-06-08</td>\n",
              "      <td>spaghetti with chili seasonings.  a nice quick...</td>\n",
              "      <td>10.0</td>\n",
              "    </tr>\n",
              "    <tr>\n",
              "      <th>...</th>\n",
              "      <td>...</td>\n",
              "      <td>...</td>\n",
              "      <td>...</td>\n",
              "      <td>...</td>\n",
              "      <td>...</td>\n",
              "      <td>...</td>\n",
              "    </tr>\n",
              "    <tr>\n",
              "      <th>23910</th>\n",
              "      <td>shamrock salad</td>\n",
              "      <td>115449</td>\n",
              "      <td>20</td>\n",
              "      <td>2005-04-05</td>\n",
              "      <td>a diabetic recipe i found on the dlife web sit...</td>\n",
              "      <td>8.0</td>\n",
              "    </tr>\n",
              "    <tr>\n",
              "      <th>16309</th>\n",
              "      <td>liverwurst sandwich</td>\n",
              "      <td>157478</td>\n",
              "      <td>10</td>\n",
              "      <td>2006-02-24</td>\n",
              "      <td>my dad and i made up this sandwich one afterno...</td>\n",
              "      <td>7.0</td>\n",
              "    </tr>\n",
              "    <tr>\n",
              "      <th>13411</th>\n",
              "      <td>hazelnut espresso sandwich cookies</td>\n",
              "      <td>257703</td>\n",
              "      <td>160</td>\n",
              "      <td>2007-10-08</td>\n",
              "      <td>from the pages of taste of home, submitted by ...</td>\n",
              "      <td>13.0</td>\n",
              "    </tr>\n",
              "    <tr>\n",
              "      <th>23349</th>\n",
              "      <td>sarah s beef enchiladas with chicken soup</td>\n",
              "      <td>213848</td>\n",
              "      <td>45</td>\n",
              "      <td>2007-02-26</td>\n",
              "      <td>surprising to find a dinner recipe written dow...</td>\n",
              "      <td>NaN</td>\n",
              "    </tr>\n",
              "    <tr>\n",
              "      <th>19590</th>\n",
              "      <td>oven hot dogs</td>\n",
              "      <td>470291</td>\n",
              "      <td>55</td>\n",
              "      <td>2011-12-20</td>\n",
              "      <td>i loved recipe #432038 so much that it landed ...</td>\n",
              "      <td>NaN</td>\n",
              "    </tr>\n",
              "  </tbody>\n",
              "</table>\n",
              "<p>6334 rows × 6 columns</p>\n",
              "</div>"
            ],
            "text/plain": [
              "                                                  name      id  minutes  \\\n",
              "23414                                 sauerkraut candy  198251       35   \n",
              "16844  mandel bread  traditional jewish holiday cookie   14960       45   \n",
              "8125                                  cream puff paste     692      345   \n",
              "14578                               island cheese ball   83598        5   \n",
              "6277                                       chilighetti  458309       30   \n",
              "...                                                ...     ...      ...   \n",
              "23910                                   shamrock salad  115449       20   \n",
              "16309                              liverwurst sandwich  157478       10   \n",
              "13411               hazelnut espresso sandwich cookies  257703      160   \n",
              "23349        sarah s beef enchiladas with chicken soup  213848       45   \n",
              "19590                                    oven hot dogs  470291       55   \n",
              "\n",
              "        submitted                                        description  \\\n",
              "23414  2006-11-28  we had this candy at a sauerkraut festival in ...   \n",
              "16844  2001-11-28  the original jewish biscotti. great dunked int...   \n",
              "8125   1999-09-07                    cream puff paste (pate a choux)   \n",
              "14578  2004-02-11  a very simple and tasty recipe to serve. even ...   \n",
              "6277   2011-06-08  spaghetti with chili seasonings.  a nice quick...   \n",
              "...           ...                                                ...   \n",
              "23910  2005-04-05  a diabetic recipe i found on the dlife web sit...   \n",
              "16309  2006-02-24  my dad and i made up this sandwich one afterno...   \n",
              "13411  2007-10-08  from the pages of taste of home, submitted by ...   \n",
              "23349  2007-02-26  surprising to find a dinner recipe written dow...   \n",
              "19590  2011-12-20  i loved recipe #432038 so much that it landed ...   \n",
              "\n",
              "       n_ingredients  \n",
              "23414            7.0  \n",
              "16844            NaN  \n",
              "8125             6.0  \n",
              "14578            NaN  \n",
              "6277            10.0  \n",
              "...              ...  \n",
              "23910            8.0  \n",
              "16309            7.0  \n",
              "13411           13.0  \n",
              "23349            NaN  \n",
              "19590            NaN  \n",
              "\n",
              "[6334 rows x 6 columns]"
            ]
          },
          "execution_count": 32,
          "metadata": {},
          "output_type": "execute_result"
        }
      ],
      "source": [
        "recipes_s = recipes.sample(len(reviews)//20)\n",
        "recipes_s\n"
      ]
    },
    {
      "cell_type": "code",
      "execution_count": null,
      "metadata": {
        "id": "iSZyII346S6z",
        "outputId": "e08e52d3-7662-41ed-fc75-e7657f0ae7df"
      },
      "outputs": [
        {
          "name": "stderr",
          "output_type": "stream",
          "text": [
            "C:\\Users\\DaSh-More\\AppData\\Local\\Temp\\ipykernel_14528\\2267591110.py:4: FutureWarning: save is not part of the public API, usage can give unexpected results and will be removed in a future version\n",
            "  writer.save()\n"
          ]
        }
      ],
      "source": [
        "writer = pd.ExcelWriter(\"./src/tables/recipes.xlsx\", engine='xlsxwriter')\n",
        "recipes_s.to_excel(writer, sheet_name='Рецепты')\n",
        "reviews_s.to_excel(writer, sheet_name='Отзывы')\n",
        "writer.save()\n"
      ]
    },
    {
      "cell_type": "code",
      "execution_count": null,
      "metadata": {
        "id": "IEokHwHB6S6z"
      },
      "outputs": [],
      "source": [
        "import xlwings as xw\n",
        "wb = xw.Book(\"./src/tables/recipes.xlsx\")\n",
        "sheet = wb.sheets['Рецепты']\n"
      ]
    },
    {
      "cell_type": "markdown",
      "metadata": {
        "id": "ic8WCrIb6S6z"
      },
      "source": [
        "3. Используя xlwings, добавьте на лист Рецепты столбец seconds_assign, показывающий время выполнения рецепта в секундах. Выполните задание при помощи присваивания массива значений диапазону ячеек.\n"
      ]
    },
    {
      "cell_type": "code",
      "execution_count": null,
      "metadata": {
        "id": "V0VLylth6S60"
      },
      "outputs": [],
      "source": [
        "sheet['H1'].value = ['seconds_assign', *\n",
        "                     (recipes_s['minutes']*60).values.reshape((-1, 1))]\n"
      ]
    },
    {
      "cell_type": "markdown",
      "metadata": {
        "id": "9q0j6Tv06S60"
      },
      "source": [
        "4. Используя xlwings, добавьте на лист Рецепты столбец seconds_formula, показывающий время выполнения рецепта в секундах. Выполните задание при помощи формул Excel.\n"
      ]
    },
    {
      "cell_type": "code",
      "execution_count": null,
      "metadata": {
        "id": "i5WCzljZ6S60"
      },
      "outputs": [],
      "source": [
        "sheet[f'I1'].value = [['seconds_formula']] + \\\n",
        "    [[f'=D{n+2}*60'] for n in range(len(recipes_s))]\n"
      ]
    },
    {
      "cell_type": "markdown",
      "metadata": {
        "id": "IA3n26k_6S60"
      },
      "source": [
        "5. Добавьте на лист Рецепты столбец n_reviews, содержащий кол-во отзывов для этого рецепта\n"
      ]
    },
    {
      "cell_type": "code",
      "execution_count": null,
      "metadata": {
        "id": "Gd4GlyJl6S60"
      },
      "outputs": [],
      "source": [
        "ids = list(reviews_s['recipe_id'].values)\n",
        "sheet['J1'].value = [['n_reviews'], *[[ids.count(i)] for i in ids]]"
      ]
    },
    {
      "cell_type": "markdown",
      "metadata": {
        "id": "UqAmLGqT6S60"
      },
      "source": [
        "6. Раскрасьте ячейки столбца minutes в соответствии со следующим правилом: если рецепт выполняется быстрее 5 минут, то цвет - зеленый; от 5 до 10 минут - жёлтый; и больше 10 - красный.\n"
      ]
    },
    {
      "cell_type": "code",
      "execution_count": null,
      "metadata": {
        "id": "4O5EQbY_6S60"
      },
      "outputs": [],
      "source": [
        "def recolor(sheet, cells, color, /, step=40):\n",
        "    index = 0\n",
        "    while True:\n",
        "        n_index = None if (index + step > len(cells)) else index + step\n",
        "        sheet[';'.join(cells[index:n_index])].color = color\n",
        "        # print(index, n_index)\n",
        "        index += step\n",
        "        if not n_index:\n",
        "            break\n"
      ]
    },
    {
      "cell_type": "code",
      "execution_count": null,
      "metadata": {
        "id": "gsitYKuk6S60"
      },
      "outputs": [],
      "source": [
        "mins = recipes_s['minutes'].values\n",
        "\n",
        "green_rows = [f'D{i}' for i in np.where(mins < 5)[0]+2]\n",
        "recolor(sheet, green_rows, \"#00ff00\")\n",
        "\n",
        "red_rows = [f'D{i}' for i in np.where(mins > 10)[0]+2]\n",
        "recolor(sheet, red_rows, \"#ff0000\")\n",
        "\n",
        "yellow_rows = [f'D{i}' for i in np.where((5 <= mins) & (mins <= 10))[0]+2]\n",
        "recolor(sheet, yellow_rows, \"#ffff00\")"
      ]
    },
    {
      "cell_type": "markdown",
      "metadata": {
        "id": "tM2Zq_oP6S61"
      },
      "source": [
        "7. Сделайте названия всех добавленных столбцов полужирными и выровняйте по центру ячейки.\n"
      ]
    },
    {
      "cell_type": "code",
      "execution_count": null,
      "metadata": {
        "id": "8PlebLjP6S61"
      },
      "outputs": [],
      "source": [
        "titles = 'A1:J1'\n",
        "sheet[titles].api.Font.FontStyle = 'Bold'\n",
        "sheet[titles].api.VerticalAlignment = 2\n",
        "sheet[titles].api.HorizontalAlignment = 3\n",
        "sheet['A:J'].autofit()"
      ]
    },
    {
      "cell_type": "markdown",
      "metadata": {
        "id": "ryZiwyoD6S61"
      },
      "source": [
        "8. Напишите функцию validate(), которая проверяет соответствие всех строк из листа interactions следующим правилам:\\\n",
        "   Рейтинг - это число от 0 до 5 включительно\\\n",
        "   Соответствующий рецепт имеется на листе рецептов\\\n",
        "   В случае несоответствия этим правилам, выделите строку красным цветом\n"
      ]
    },
    {
      "cell_type": "code",
      "execution_count": null,
      "metadata": {
        "id": "VTTb36Kb6S61"
      },
      "outputs": [],
      "source": [
        "def validate(sheet):\n",
        "    rating = reviews_s['rating'].values\n",
        "    ids_rec = recipes_s['id'].values\n",
        "    ids_rev = reviews_s['recipe_id'].values\n",
        "    [f'J{n}' for n, i in enumerate(rating) if not (0 <= i <= 5)]\n",
        "\n",
        "    if recol := [f'J{n}' for n, i in enumerate(rating) if not (0 <= i <= 5) or (ids_rev[n] not in ids_rec)]:\n",
        "        recolor(sheet, recol, '#ff0000')\n",
        "\n",
        "validate(sheet)"
      ]
    }
  ],
  "metadata": {
    "kernelspec": {
      "display_name": "Python 3",
      "language": "python",
      "name": "python3"
    },
    "language_info": {
      "codemirror_mode": {
        "name": "ipython",
        "version": 3
      },
      "file_extension": ".py",
      "mimetype": "text/x-python",
      "name": "python",
      "nbconvert_exporter": "python",
      "pygments_lexer": "ipython3",
      "version": "3.11.0"
    },
    "orig_nbformat": 4,
    "colab": {
      "provenance": []
    }
  },
  "nbformat": 4,
  "nbformat_minor": 0
}