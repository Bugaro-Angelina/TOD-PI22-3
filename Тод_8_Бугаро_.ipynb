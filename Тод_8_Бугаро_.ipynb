{
  "cells": [
    {
      "cell_type": "code",
      "execution_count": null,
      "metadata": {
        "id": "dVCRWsGYI5md",
        "outputId": "a653f9d9-79b1-44e9-ad0d-58ce39714658"
      },
      "outputs": [
        {
          "name": "stdout",
          "output_type": "stream",
          "text": [
            "The line_profiler extension is already loaded. To reload it, use:\n",
            "  %reload_ext line_profiler\n"
          ]
        }
      ],
      "source": [
        "import numpy as np\n",
        "import pandas as pd\n",
        "from numba import njit\n",
        "\n",
        "%load_ext line_profiler"
      ]
    },
    {
      "cell_type": "markdown",
      "metadata": {
        "id": "Vw9uXt3XI5mf"
      },
      "source": [
        "### Разминка"
      ]
    },
    {
      "cell_type": "markdown",
      "metadata": {
        "id": "ayhrbyQ1I5mg"
      },
      "source": [
        "1. Сгенерируйте массив A из N=1млн случайных целых чисел на отрезке от 0 до 1000. Пусть B[i] = A[i] + 100. Посчитайте среднее значение массива B.\n"
      ]
    },
    {
      "cell_type": "code",
      "execution_count": null,
      "metadata": {
        "id": "CAI4A4i2I5mh",
        "outputId": "26313e1e-4171-42d5-dd9a-7b89132d5e1e"
      },
      "outputs": [
        {
          "name": "stdout",
          "output_type": "stream",
          "text": [
            "5.77 ms ± 40.4 µs per loop (mean ± std. dev. of 7 runs, 100 loops each)\n"
          ]
        }
      ],
      "source": [
        "def b_mean():\n",
        "    A = np.random.randint(1000,size = 1000000)\n",
        "    B = A +100\n",
        "    return B.mean()\n",
        "b_mean()\n",
        "%timeit b_mean()"
      ]
    },
    {
      "cell_type": "markdown",
      "metadata": {
        "id": "sMTUPSlZI5mi"
      },
      "source": [
        "2. Создайте таблицу 2млн строк и с 4 столбцами, заполненными случайными числами. Добавьте столбец key, которые содержит элементы из множества английских букв. Выберите из таблицы подмножество строк, для которых в столбце key указаны первые 5 английских букв.\n"
      ]
    },
    {
      "cell_type": "code",
      "execution_count": null,
      "metadata": {
        "id": "w5-h7B7NI5mi",
        "outputId": "5093c1a7-6e40-44ef-d432-d5f64f6353ea"
      },
      "outputs": [
        {
          "data": {
            "text/html": [
              "<div>\n",
              "<style scoped>\n",
              "    .dataframe tbody tr th:only-of-type {\n",
              "        vertical-align: middle;\n",
              "    }\n",
              "\n",
              "    .dataframe tbody tr th {\n",
              "        vertical-align: top;\n",
              "    }\n",
              "\n",
              "    .dataframe thead th {\n",
              "        text-align: right;\n",
              "    }\n",
              "</style>\n",
              "<table border=\"1\" class=\"dataframe\">\n",
              "  <thead>\n",
              "    <tr style=\"text-align: right;\">\n",
              "      <th></th>\n",
              "      <th>key</th>\n",
              "      <th>1</th>\n",
              "      <th>2</th>\n",
              "      <th>3</th>\n",
              "    </tr>\n",
              "  </thead>\n",
              "  <tbody>\n",
              "    <tr>\n",
              "      <th>5</th>\n",
              "      <td>E</td>\n",
              "      <td>563</td>\n",
              "      <td>972</td>\n",
              "      <td>578</td>\n",
              "    </tr>\n",
              "    <tr>\n",
              "      <th>16</th>\n",
              "      <td>D</td>\n",
              "      <td>659</td>\n",
              "      <td>86</td>\n",
              "      <td>678</td>\n",
              "    </tr>\n",
              "    <tr>\n",
              "      <th>25</th>\n",
              "      <td>C</td>\n",
              "      <td>488</td>\n",
              "      <td>520</td>\n",
              "      <td>254</td>\n",
              "    </tr>\n",
              "    <tr>\n",
              "      <th>28</th>\n",
              "      <td>A</td>\n",
              "      <td>827</td>\n",
              "      <td>49</td>\n",
              "      <td>903</td>\n",
              "    </tr>\n",
              "    <tr>\n",
              "      <th>41</th>\n",
              "      <td>B</td>\n",
              "      <td>707</td>\n",
              "      <td>879</td>\n",
              "      <td>288</td>\n",
              "    </tr>\n",
              "    <tr>\n",
              "      <th>...</th>\n",
              "      <td>...</td>\n",
              "      <td>...</td>\n",
              "      <td>...</td>\n",
              "      <td>...</td>\n",
              "    </tr>\n",
              "    <tr>\n",
              "      <th>1999974</th>\n",
              "      <td>D</td>\n",
              "      <td>260</td>\n",
              "      <td>944</td>\n",
              "      <td>435</td>\n",
              "    </tr>\n",
              "    <tr>\n",
              "      <th>1999977</th>\n",
              "      <td>B</td>\n",
              "      <td>49</td>\n",
              "      <td>195</td>\n",
              "      <td>792</td>\n",
              "    </tr>\n",
              "    <tr>\n",
              "      <th>1999988</th>\n",
              "      <td>A</td>\n",
              "      <td>385</td>\n",
              "      <td>785</td>\n",
              "      <td>464</td>\n",
              "    </tr>\n",
              "    <tr>\n",
              "      <th>1999992</th>\n",
              "      <td>D</td>\n",
              "      <td>420</td>\n",
              "      <td>35</td>\n",
              "      <td>501</td>\n",
              "    </tr>\n",
              "    <tr>\n",
              "      <th>1999997</th>\n",
              "      <td>C</td>\n",
              "      <td>572</td>\n",
              "      <td>296</td>\n",
              "      <td>480</td>\n",
              "    </tr>\n",
              "  </tbody>\n",
              "</table>\n",
              "<p>357674 rows × 4 columns</p>\n",
              "</div>"
            ],
            "text/plain": [
              "        key    1    2    3\n",
              "5         E  563  972  578\n",
              "16        D  659   86  678\n",
              "25        C  488  520  254\n",
              "28        A  827   49  903\n",
              "41        B  707  879  288\n",
              "...      ..  ...  ...  ...\n",
              "1999974   D  260  944  435\n",
              "1999977   B   49  195  792\n",
              "1999988   A  385  785  464\n",
              "1999992   D  420   35  501\n",
              "1999997   C  572  296  480\n",
              "\n",
              "[357674 rows x 4 columns]"
            ]
          },
          "execution_count": 35,
          "metadata": {},
          "output_type": "execute_result"
        }
      ],
      "source": [
        "def rand_numb_array(): \n",
        "    return np.random.randint(1000,size = 2000000)\n",
        "abc = [chr(np.random.randint(low = 63,high = 91)) for i in range(2000000)]\n",
        "data = {'key':abc,'1': rand_numb_array(),'2':rand_numb_array(), '3':rand_numb_array()}\n",
        "df = pd.DataFrame(data)\n",
        "df.loc[df['key'].isin([\"A\",\"B\",\"C\",\"D\",\"E\"])]"
      ]
    },
    {
      "cell_type": "markdown",
      "metadata": {
        "id": "yjbXpp9GI5mk"
      },
      "source": [
        "1. В файлах recipes_short.csv и reviews_short.csv находится информация об рецептах блюд и отзывах на эти рецепты соответственно. Загрузите данные из файлов в виде pd.DataFrame с названиями recipes и reviews. Обратите внимание на корректное считывание столбца(ов) с индексами. Приведите столбцы к нужным типам.\n"
      ]
    },
    {
      "cell_type": "code",
      "execution_count": null,
      "metadata": {
        "id": "C2BQK4zfI5ml",
        "outputId": "487be10f-60fe-4924-f086-0b7d6f1f16fe"
      },
      "outputs": [
        {
          "data": {
            "text/html": [
              "<div>\n",
              "<style scoped>\n",
              "    .dataframe tbody tr th:only-of-type {\n",
              "        vertical-align: middle;\n",
              "    }\n",
              "\n",
              "    .dataframe tbody tr th {\n",
              "        vertical-align: top;\n",
              "    }\n",
              "\n",
              "    .dataframe thead th {\n",
              "        text-align: right;\n",
              "    }\n",
              "</style>\n",
              "<table border=\"1\" class=\"dataframe\">\n",
              "  <thead>\n",
              "    <tr style=\"text-align: right;\">\n",
              "      <th></th>\n",
              "      <th>Index</th>\n",
              "      <th>user_id</th>\n",
              "      <th>recipe_id</th>\n",
              "      <th>date</th>\n",
              "      <th>rating</th>\n",
              "      <th>review</th>\n",
              "    </tr>\n",
              "  </thead>\n",
              "  <tbody>\n",
              "    <tr>\n",
              "      <th>0</th>\n",
              "      <td>370476</td>\n",
              "      <td>21752</td>\n",
              "      <td>57993</td>\n",
              "      <td>2003-05-01</td>\n",
              "      <td>5</td>\n",
              "      <td>Last week whole sides of frozen salmon fillet ...</td>\n",
              "    </tr>\n",
              "    <tr>\n",
              "      <th>1</th>\n",
              "      <td>624300</td>\n",
              "      <td>431813</td>\n",
              "      <td>142201</td>\n",
              "      <td>2007-09-16</td>\n",
              "      <td>5</td>\n",
              "      <td>So simple and so tasty!  I used a yellow capsi...</td>\n",
              "    </tr>\n",
              "    <tr>\n",
              "      <th>2</th>\n",
              "      <td>187037</td>\n",
              "      <td>400708</td>\n",
              "      <td>252013</td>\n",
              "      <td>2008-01-10</td>\n",
              "      <td>4</td>\n",
              "      <td>Very nice breakfast HH, easy to make and yummy...</td>\n",
              "    </tr>\n",
              "    <tr>\n",
              "      <th>3</th>\n",
              "      <td>706134</td>\n",
              "      <td>2001852463</td>\n",
              "      <td>404716</td>\n",
              "      <td>2017-12-11</td>\n",
              "      <td>5</td>\n",
              "      <td>These are a favorite for the holidays and so e...</td>\n",
              "    </tr>\n",
              "    <tr>\n",
              "      <th>4</th>\n",
              "      <td>312179</td>\n",
              "      <td>95810</td>\n",
              "      <td>129396</td>\n",
              "      <td>2008-03-14</td>\n",
              "      <td>5</td>\n",
              "      <td>Excellent soup!  The tomato flavor is just gre...</td>\n",
              "    </tr>\n",
              "    <tr>\n",
              "      <th>...</th>\n",
              "      <td>...</td>\n",
              "      <td>...</td>\n",
              "      <td>...</td>\n",
              "      <td>...</td>\n",
              "      <td>...</td>\n",
              "      <td>...</td>\n",
              "    </tr>\n",
              "    <tr>\n",
              "      <th>126691</th>\n",
              "      <td>1013457</td>\n",
              "      <td>1270706</td>\n",
              "      <td>335534</td>\n",
              "      <td>2009-05-17</td>\n",
              "      <td>4</td>\n",
              "      <td>This recipe was great! I made it last night. I...</td>\n",
              "    </tr>\n",
              "    <tr>\n",
              "      <th>126692</th>\n",
              "      <td>158736</td>\n",
              "      <td>2282344</td>\n",
              "      <td>8701</td>\n",
              "      <td>2012-06-03</td>\n",
              "      <td>0</td>\n",
              "      <td>This recipe is outstanding. I followed the rec...</td>\n",
              "    </tr>\n",
              "    <tr>\n",
              "      <th>126693</th>\n",
              "      <td>1059834</td>\n",
              "      <td>689540</td>\n",
              "      <td>222001</td>\n",
              "      <td>2008-04-08</td>\n",
              "      <td>5</td>\n",
              "      <td>Well, we were not a crowd but it was a fabulou...</td>\n",
              "    </tr>\n",
              "    <tr>\n",
              "      <th>126694</th>\n",
              "      <td>453285</td>\n",
              "      <td>2000242659</td>\n",
              "      <td>354979</td>\n",
              "      <td>2015-06-02</td>\n",
              "      <td>5</td>\n",
              "      <td>I have been a steak eater and dedicated BBQ gr...</td>\n",
              "    </tr>\n",
              "    <tr>\n",
              "      <th>126695</th>\n",
              "      <td>691207</td>\n",
              "      <td>463435</td>\n",
              "      <td>415599</td>\n",
              "      <td>2010-09-30</td>\n",
              "      <td>5</td>\n",
              "      <td>Wonderful and simple to prepare seasoning blen...</td>\n",
              "    </tr>\n",
              "  </tbody>\n",
              "</table>\n",
              "<p>126696 rows × 6 columns</p>\n",
              "</div>"
            ],
            "text/plain": [
              "          Index     user_id  recipe_id       date  rating  \\\n",
              "0        370476       21752      57993 2003-05-01       5   \n",
              "1        624300      431813     142201 2007-09-16       5   \n",
              "2        187037      400708     252013 2008-01-10       4   \n",
              "3        706134  2001852463     404716 2017-12-11       5   \n",
              "4        312179       95810     129396 2008-03-14       5   \n",
              "...         ...         ...        ...        ...     ...   \n",
              "126691  1013457     1270706     335534 2009-05-17       4   \n",
              "126692   158736     2282344       8701 2012-06-03       0   \n",
              "126693  1059834      689540     222001 2008-04-08       5   \n",
              "126694   453285  2000242659     354979 2015-06-02       5   \n",
              "126695   691207      463435     415599 2010-09-30       5   \n",
              "\n",
              "                                                   review  \n",
              "0       Last week whole sides of frozen salmon fillet ...  \n",
              "1       So simple and so tasty!  I used a yellow capsi...  \n",
              "2       Very nice breakfast HH, easy to make and yummy...  \n",
              "3       These are a favorite for the holidays and so e...  \n",
              "4       Excellent soup!  The tomato flavor is just gre...  \n",
              "...                                                   ...  \n",
              "126691  This recipe was great! I made it last night. I...  \n",
              "126692  This recipe is outstanding. I followed the rec...  \n",
              "126693  Well, we were not a crowd but it was a fabulou...  \n",
              "126694  I have been a steak eater and dedicated BBQ gr...  \n",
              "126695  Wonderful and simple to prepare seasoning blen...  \n",
              "\n",
              "[126696 rows x 6 columns]"
            ]
          },
          "execution_count": 19,
          "metadata": {},
          "output_type": "execute_result"
        }
      ],
      "source": [
        "recipes = pd.read_csv(\"recipes_sample.csv\")\n",
        "reviews = pd.read_csv(\"reviews_sample.csv\")\n",
        "reviews = reviews.rename(columns={'Unnamed: 0': 'Index'})\n",
        "reviews['date'] = pd.to_datetime(reviews['date'])\n",
        "recipes['submitted'] = pd.to_datetime(recipes['submitted'])\n",
        "\n",
        "reviews"
      ]
    },
    {
      "cell_type": "markdown",
      "metadata": {
        "id": "S2kBYVI2I5mm"
      },
      "source": [
        "2. Реализуйте несколько вариантов функции подсчета среднего значения столбца rating из таблицы reviews для отзывов, оставленных в 2010 году.    \n",
        "С использованием метода DataFrame.iterrows и без использования срезов таблицы    \n",
        "С использованием метода DataFrame.iterrows и с использованием срезов таблицы    \n",
        "С использованием метода DataFrame.mean    \n",
        "Проверьте, что результаты работы всех написанных функций корректны и совпадают. Измерьте выполнения всех вариантов."
      ]
    },
    {
      "cell_type": "code",
      "execution_count": null,
      "metadata": {
        "id": "42GjQLc-I5mn",
        "outputId": "7e4df95b-03cb-4932-d0e5-c8cce242ba10"
      },
      "outputs": [
        {
          "name": "stdout",
          "output_type": "stream",
          "text": [
            "9.46 ms ± 69.1 µs per loop (mean ± std. dev. of 7 runs, 100 loops each)\n"
          ]
        }
      ],
      "source": [
        "def mean_rating_1(dataset: pd.DataFrame):\n",
        "    return dataset[dataset['date'].dt.year == 2010]['rating'].mean()\n",
        "\n",
        "mean_rating_1(reviews)\n",
        "%timeit mean_rating_1(reviews)"
      ]
    },
    {
      "cell_type": "code",
      "execution_count": null,
      "metadata": {
        "id": "I9Zvno5oI5mo",
        "outputId": "d29c6e50-a100-4643-d9b8-557862521b53"
      },
      "outputs": [
        {
          "data": {
            "text/plain": [
              "4.703745743473326"
            ]
          },
          "execution_count": 54,
          "metadata": {},
          "output_type": "execute_result"
        }
      ],
      "source": [
        "def mean_rating_2(dataset: pd.DataFrame):\n",
        "    count = 0\n",
        "    total = 0\n",
        "    for i,r in dataset.iterrows():\n",
        "        if r['date'].year == 2010:\n",
        "            count += 1\n",
        "            total += r['rating']\n",
        "    return total/count\n",
        "mean_rating_2(reviews)"
      ]
    },
    {
      "cell_type": "code",
      "execution_count": null,
      "metadata": {
        "id": "zOvGnsCEI5mo",
        "outputId": "a88c99c8-c000-4ce2-b58d-3aacc6b449d8"
      },
      "outputs": [
        {
          "name": "stdout",
          "output_type": "stream",
          "text": [
            "3.86 s ± 24.9 ms per loop (mean ± std. dev. of 7 runs, 1 loop each)\n"
          ]
        }
      ],
      "source": [
        "%timeit mean_rating_2(reviews)\n"
      ]
    },
    {
      "cell_type": "markdown",
      "metadata": {
        "id": "U9WXmfPyI5mp"
      },
      "source": [
        "3. Какая из созданных функций выполняется медленнее? Что наиболее сильно влияет на скорость выполнения? Для ответа использовать профайлер line_profiler. Сохраните результаты работы профайлера в отдельную текстовую ячейку и прокомментируйте результаты его работы.\n",
        "(*). Сможете ли вы ускорить работу функции 2В?"
      ]
    },
    {
      "cell_type": "code",
      "execution_count": null,
      "metadata": {
        "id": "L7qmIo6rI5mp",
        "outputId": "28a3e60f-d0c0-420e-c840-db3f56292e95"
      },
      "outputs": [
        {
          "name": "stdout",
          "output_type": "stream",
          "text": [
            "Writing prof_test.py\n"
          ]
        }
      ],
      "source": [
        "%%writefile prof_test.py\n",
        "\n",
        "\n",
        "def mean_rating2(dataset):\n",
        "    count = 0\n",
        "    total = 0\n",
        "    for i, r in dataset.iterrows():\n",
        "        if r['date'].year == 2010:\n",
        "            count += 1\n",
        "            total += r['rating']\n",
        "    return total/count\n"
      ]
    },
    {
      "cell_type": "code",
      "execution_count": null,
      "metadata": {
        "id": "2iWxpbFmI5mq"
      },
      "outputs": [],
      "source": [
        "from prof_test import mean_rating2"
      ]
    },
    {
      "cell_type": "code",
      "execution_count": null,
      "metadata": {
        "id": "QslyXTzwI5mq",
        "outputId": "3150441a-7557-4d6f-fdde-2efa940f3250"
      },
      "outputs": [
        {
          "name": "stdout",
          "output_type": "stream",
          "text": [
            "Timer unit: 1e-07 s\n",
            "\n",
            "Total time: 23.6437 s\n",
            "File: c:\\Users\\nikit\\Documents\\University\\TOD\\Lab8\\prof_test.py\n",
            "Function: mean_rating2 at line 3\n",
            "\n",
            "Line #      Hits         Time  Per Hit   % Time  Line Contents\n",
            "==============================================================\n",
            "     3                                           def mean_rating2(dataset):\n",
            "     4         1         12.0     12.0      0.0      count = 0\n",
            "     5         1          7.0      7.0      0.0      total = 0\n",
            "     6    126696  206589894.0   1630.6     87.4      for i, r in dataset.iterrows():\n",
            "     7    114602   27451281.0    239.5     11.6          if r['date'].year == 2010:\n",
            "     8     12094     100039.0      8.3      0.0              count += 1\n",
            "     9     12094    2295606.0    189.8      1.0              total += r['rating']\n",
            "    10         1         12.0     12.0      0.0      return total/count"
          ]
        }
      ],
      "source": [
        "%lprun -f mean_rating2 mean_rating2(reviews)"
      ]
    },
    {
      "cell_type": "markdown",
      "metadata": {
        "id": "OAEh6PbDI5mr"
      },
      "source": [
        "Timer unit: 1e-07 s\n",
        "\n",
        "Total time: 23.6437 s\n",
        "File: c:\\Users\\nikit\\Documents\\University\\TOD\\Lab8\\prof_test.py\n",
        "Function: mean_rating2 at line 3\n",
        "\n",
        "Line       Hits         Time  Per Hit   % Time  Line Contents\n",
        "\n",
        "     3                                           def mean_rating2(dataset):\n",
        "     4         1         12.0     12.0      0.0      count = 0\n",
        "     5         1          7.0      7.0      0.0      total = 0\n",
        "     6    126696  206589894.0   1630.6     87.4      for i, r in dataset.iterrows():\n",
        "     7    114602   27451281.0    239.5     11.6          if r['date'].year == 2010:\n",
        "     8     12094     100039.0      8.3      0.0              count += 1\n",
        "     9     12094    2295606.0    189.8      1.0              total += r['rating']\n",
        "    10         1         12.0     12.0      0.0      return total/count"
      ]
    },
    {
      "cell_type": "markdown",
      "metadata": {
        "id": "68m6a6e4I5ms"
      },
      "source": [
        "4. Вам предлагается воспользоваться функцией, которая собирает информацию, сколько отзывов содержат то или иное слово. Измерьте время выполнения этой функции. Сможете ли вы найти узкие места в коде, используя профайлер? Выпишите (словами), что в имеющемся коде реализовано неоптимально. Оптимизируйте функцию и добейтесь значительного прироста в скорости выполнения."
      ]
    },
    {
      "cell_type": "code",
      "execution_count": null,
      "metadata": {
        "id": "ShWokq9BI5ms",
        "outputId": "b85caeb0-bf0e-4a97-8fe9-c92fbd60036c"
      },
      "outputs": [
        {
          "name": "stdout",
          "output_type": "stream",
          "text": [
            "5.18 s ± 234 ms per loop (mean ± std. dev. of 7 runs, 1 loop each)\n"
          ]
        }
      ],
      "source": [
        "def find_word1(word,dataset: pd.DataFrame):\n",
        "    count = 0\n",
        "    for i,r in dataset.iterrows():\n",
        "        review = str(r['review'])\n",
        "        if word in review.split():\n",
        "            count += 1\n",
        "    return count\n",
        "\n",
        "\n",
        "%timeit find_word1('Last', reviews)"
      ]
    },
    {
      "cell_type": "code",
      "execution_count": null,
      "metadata": {
        "id": "rTjWzfGpI5mt",
        "outputId": "6575610a-7def-4127-b39d-e1393737a3b8"
      },
      "outputs": [
        {
          "name": "stdout",
          "output_type": "stream",
          "text": [
            "881 ms ± 15 ms per loop (mean ± std. dev. of 7 runs, 1 loop each)\n"
          ]
        }
      ],
      "source": [
        "def find_word2(word,dataset: pd.DataFrame):\n",
        "    count = 0\n",
        "    for row in dataset.itertuples(index=False):\n",
        "        review = str(row.review).split()\n",
        "        if word in review:\n",
        "            count += 1\n",
        "    return count\n",
        "%timeit find_word2('Last', reviews)"
      ]
    },
    {
      "cell_type": "markdown",
      "metadata": {
        "id": "_rhqyfkcI5mt"
      },
      "source": [
        "5. Напишите несколько версий функции MAPE (см. MAPE) для расчета среднего процентного отклонения значения рейтинга для отзыва от среднего значения рейтинга для этого отзыва.    \n",
        "Без использования массивов numpy и numba    \n",
        "Без использования массивов numpy, но с использованием numba    \n",
        "С использованием массивов numpy, но без использования numba    \n",
        "C использованием массивов numpy и numba    \n",
        "Измерьте время выполнения каждой из реализаций.    \n",
        "\n",
        "Замечание: удалите из выборки отзывы с нулевым рейтингом."
      ]
    },
    {
      "cell_type": "code",
      "execution_count": null,
      "metadata": {
        "id": "yocboP8RI5mt",
        "outputId": "53384cbd-79ec-4224-d3e0-f6d1639884ca"
      },
      "outputs": [
        {
          "name": "stdout",
          "output_type": "stream",
          "text": [
            "379 ms ± 14.1 ms per loop (mean ± std. dev. of 7 runs, 1 loop each)\n"
          ]
        }
      ],
      "source": [
        "#1 Без использования массивов numpy и numba\n",
        "reviews.drop(index=list(reviews[reviews['rating'] == 0].index),inplace=True)\n",
        "def mape1(dataset: pd.DataFrame):\n",
        "    recipes = {}\n",
        "    for row in dataset.itertuples(index=False):\n",
        "        if row.recipe_id in recipes.keys():\n",
        "            recipes[row.recipe_id][0] += row.rating\n",
        "            recipes[row.recipe_id][1] += 1\n",
        "        else:\n",
        "            recipes[row.recipe_id] = [row.rating,1]\n",
        "    avg_rat = {}\n",
        "    for key,value in recipes.items():\n",
        "        avg_rat[key] = value[0]/value[1]\n",
        "\n",
        "    avg_dev = {key:[] for key in recipes.keys()}\n",
        "    for row in dataset.itertuples(index=False):\n",
        "        avg_dev[row.recipe_id].append(abs((row.rating - avg_rat[row.recipe_id])/row.rating))\n",
        "\n",
        "    arr = {}\n",
        "    for key,value in avg_dev.items():\n",
        "        arr[key] = sum(value)/len(value) * 100\n",
        "    return arr\n",
        "\n",
        "%timeit mape1(reviews)"
      ]
    },
    {
      "cell_type": "code",
      "execution_count": null,
      "metadata": {
        "id": "4BgiS08NI5mt",
        "outputId": "004f552a-9152-4f27-a2a5-2066aad98557"
      },
      "outputs": [
        {
          "name": "stdout",
          "output_type": "stream",
          "text": [
            "384 ms ± 13.9 ms per loop (mean ± std. dev. of 7 runs, 1 loop each)\n"
          ]
        }
      ],
      "source": [
        "#2 Без использования массивов numpy, но с использованием numba\n",
        "\n",
        "def mape2(dataset: pd.DataFrame):\n",
        "    recipes = {}\n",
        "    for row in dataset.itertuples(index=False):\n",
        "        if row.recipe_id in recipes.keys():\n",
        "            recipes[row.recipe_id][0] += row.rating\n",
        "            recipes[row.recipe_id][1] += 1\n",
        "        else:\n",
        "            recipes[row.recipe_id] = [row.rating,1]\n",
        "    avg_rat = {}\n",
        "    for key,value in recipes.items():\n",
        "        avg_rat[key] = value[0]/value[1]\n",
        "\n",
        "    avg_dev = {key:[] for key in recipes.keys()}\n",
        "    for row in dataset.itertuples(index=False):\n",
        "        avg_dev[row.recipe_id].append(abs((row.rating - avg_rat[row.recipe_id])/row.rating))\n",
        "\n",
        "    arr = {}\n",
        "    for key,value in avg_dev.items():\n",
        "        arr[key] = sum(value)/len(value) * 100\n",
        "    return arr\n",
        "\n",
        "%timeit mape2(reviews)"
      ]
    },
    {
      "cell_type": "code",
      "execution_count": null,
      "metadata": {
        "id": "TJJkC1-eI5mu",
        "outputId": "09304060-318e-432a-fd1e-cf713611ebb0"
      },
      "outputs": [
        {
          "name": "stdout",
          "output_type": "stream",
          "text": [
            "10.9 s ± 58.3 ms per loop (mean ± std. dev. of 7 runs, 1 loop each)\n"
          ]
        }
      ],
      "source": [
        "# 3 c использованием массивов numpy, но без использования numba \n",
        "def mape3(dataset: pd.DataFrame):\n",
        "    recipes = {}\n",
        "    for row in dataset.itertuples(index=False):\n",
        "        if row.recipe_id in recipes.keys():\n",
        "            recipes[row.recipe_id][0] += row.rating\n",
        "            recipes[row.recipe_id][1] += 1\n",
        "        else:\n",
        "            recipes[row.recipe_id] = [row.rating,1]\n",
        "    avg_rat = {}\n",
        "    for key,value in recipes.items():\n",
        "        avg_rat[key] = value[0]/value[1]\n",
        "\n",
        "    arr = {}\n",
        "    for row in dataset.itertuples(index=False):\n",
        "        if row.recipe_id not in arr.keys():\n",
        "            actual = np.array(dataset[dataset['recipe_id'] == row.recipe_id]['rating'])\n",
        "            pred = np.array([avg_rat[row.recipe_id]] * len(actual))\n",
        "            arr[row.recipe_id] = np.mean(np.abs((actual - pred) / actual)) * 100\n",
        "        else:\n",
        "            continue\n",
        "    return arr\n",
        "\n",
        "%timeit mape3(reviews)"
      ]
    },
    {
      "cell_type": "code",
      "execution_count": null,
      "metadata": {
        "id": "74YbdBEpI5mu",
        "outputId": "8b06a477-4b76-4da2-b08d-6ccc699f0c7b"
      },
      "outputs": [
        {
          "name": "stdout",
          "output_type": "stream",
          "text": [
            "11.2 s ± 166 ms per loop (mean ± std. dev. of 7 runs, 1 loop each)\n"
          ]
        }
      ],
      "source": [
        "# 4 c использованием массивов numpy и numba\n",
        "def mape4(dataset: pd.DataFrame):\n",
        "    recipes = {}\n",
        "    for row in dataset.itertuples(index=False):\n",
        "        if row.recipe_id in recipes.keys():\n",
        "            recipes[row.recipe_id][0] += row.rating\n",
        "            recipes[row.recipe_id][1] += 1\n",
        "        else:\n",
        "            recipes[row.recipe_id] = [row.rating,1]\n",
        "    avg_rat = {}\n",
        "    for key,value in recipes.items():\n",
        "        avg_rat[key] = value[0]/value[1]\n",
        "\n",
        "    arr = {}\n",
        "    for row in dataset.itertuples(index=False):\n",
        "        if row.recipe_id not in arr.keys():\n",
        "            actual = np.array(dataset[dataset['recipe_id'] == row.recipe_id]['rating'])\n",
        "            pred = np.array([avg_rat[row.recipe_id]] * len(actual))\n",
        "            arr[row.recipe_id] = np.mean(np.abs((actual - pred) / actual)) * 100\n",
        "        else:\n",
        "            continue\n",
        "    return arr\n",
        "\n",
        "%timeit mape4(reviews)"
      ]
    }
  ],
  "metadata": {
    "kernelspec": {
      "display_name": "Python 3 (ipykernel)",
      "language": "python",
      "name": "python3"
    },
    "language_info": {
      "codemirror_mode": {
        "name": "ipython",
        "version": 3
      },
      "file_extension": ".py",
      "mimetype": "text/x-python",
      "name": "python",
      "nbconvert_exporter": "python",
      "pygments_lexer": "ipython3",
      "version": "3.9.7"
    },
    "colab": {
      "provenance": []
    }
  },
  "nbformat": 4,
  "nbformat_minor": 0
}