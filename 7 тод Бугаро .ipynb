{
  "cells": [
    {
      "cell_type": "markdown",
      "metadata": {
        "id": "-MUUCWkbBTAz"
      },
      "source": [
        "# Введение в обработку текста на естественном языке"
      ]
    },
    {
      "cell_type": "markdown",
      "metadata": {
        "id": "lLTrGCv2BTA0"
      },
      "source": [
        "Материалы:\n",
        "* Макрушин С.В. Лекция 9: Введение в обработку текста на естественном языке\\\n",
        "* https://realpython.com/nltk-nlp-python/\n",
        "* https://scikit-learn.org/stable/modules/feature_extraction.html"
      ]
    },
    {
      "cell_type": "markdown",
      "metadata": {
        "id": "GM7G1bzzBTA1"
      },
      "source": [
        "## Задачи для совместного разбора"
      ]
    },
    {
      "cell_type": "code",
      "source": [
        "import pandas as pd\n",
        "from nltk.tokenize import  word_tokenize\n",
        "import nltk\n"
      ],
      "metadata": {
        "id": "kP0IzK0-E3Ab"
      },
      "execution_count": null,
      "outputs": []
    },
    {
      "cell_type": "code",
      "source": [
        "nltk.download('punkt')"
      ],
      "metadata": {
        "colab": {
          "base_uri": "https://localhost:8080/"
        },
        "id": "Ym-m7BglCEoN",
        "outputId": "bb1a2948-673d-4b16-a90f-eabb0dffa1c4"
      },
      "execution_count": null,
      "outputs": [
        {
          "output_type": "stream",
          "name": "stderr",
          "text": [
            "[nltk_data] Downloading package punkt to /root/nltk_data...\n",
            "[nltk_data]   Unzipping tokenizers/punkt.zip.\n"
          ]
        },
        {
          "output_type": "execute_result",
          "data": {
            "text/plain": [
              "True"
            ]
          },
          "metadata": {},
          "execution_count": 15
        }
      ]
    },
    {
      "cell_type": "code",
      "source": [
        "filee = pd.read_csv(\"litw-win.txt\",  names = [\"col1\"], encoding='cp1251')\n",
        "filee"
      ],
      "metadata": {
        "id": "c6JLazcGCTSs",
        "colab": {
          "base_uri": "https://localhost:8080/",
          "height": 423
        },
        "outputId": "921240b4-0543-4145-f7c5-2c9591985319"
      },
      "execution_count": null,
      "outputs": [
        {
          "output_type": "execute_result",
          "data": {
            "text/plain": [
              "                                              col1\n",
              "0                                         101167 и\n",
              "1                                          53913 в\n",
              "2                                          35629 я\n",
              "3                                          31815 с\n",
              "4                                          21715 а\n",
              "...                                            ...\n",
              "162161                  1 высокопревосходительства\n",
              "162162                 1 попреблагорассмотрительст\n",
              "162163        1 попреблагорассмотрительствующемуся\n",
              "162164                                 1 убегающих\n",
              "162165                             1 уменьшившейся\n",
              "\n",
              "[162166 rows x 1 columns]"
            ],
            "text/html": [
              "\n",
              "  <div id=\"df-c6bdc646-ccc1-471f-b5fa-6989cf26b949\">\n",
              "    <div class=\"colab-df-container\">\n",
              "      <div>\n",
              "<style scoped>\n",
              "    .dataframe tbody tr th:only-of-type {\n",
              "        vertical-align: middle;\n",
              "    }\n",
              "\n",
              "    .dataframe tbody tr th {\n",
              "        vertical-align: top;\n",
              "    }\n",
              "\n",
              "    .dataframe thead th {\n",
              "        text-align: right;\n",
              "    }\n",
              "</style>\n",
              "<table border=\"1\" class=\"dataframe\">\n",
              "  <thead>\n",
              "    <tr style=\"text-align: right;\">\n",
              "      <th></th>\n",
              "      <th>col1</th>\n",
              "    </tr>\n",
              "  </thead>\n",
              "  <tbody>\n",
              "    <tr>\n",
              "      <th>0</th>\n",
              "      <td>101167 и</td>\n",
              "    </tr>\n",
              "    <tr>\n",
              "      <th>1</th>\n",
              "      <td>53913 в</td>\n",
              "    </tr>\n",
              "    <tr>\n",
              "      <th>2</th>\n",
              "      <td>35629 я</td>\n",
              "    </tr>\n",
              "    <tr>\n",
              "      <th>3</th>\n",
              "      <td>31815 с</td>\n",
              "    </tr>\n",
              "    <tr>\n",
              "      <th>4</th>\n",
              "      <td>21715 а</td>\n",
              "    </tr>\n",
              "    <tr>\n",
              "      <th>...</th>\n",
              "      <td>...</td>\n",
              "    </tr>\n",
              "    <tr>\n",
              "      <th>162161</th>\n",
              "      <td>1 высокопревосходительства</td>\n",
              "    </tr>\n",
              "    <tr>\n",
              "      <th>162162</th>\n",
              "      <td>1 попреблагорассмотрительст</td>\n",
              "    </tr>\n",
              "    <tr>\n",
              "      <th>162163</th>\n",
              "      <td>1 попреблагорассмотрительствующемуся</td>\n",
              "    </tr>\n",
              "    <tr>\n",
              "      <th>162164</th>\n",
              "      <td>1 убегающих</td>\n",
              "    </tr>\n",
              "    <tr>\n",
              "      <th>162165</th>\n",
              "      <td>1 уменьшившейся</td>\n",
              "    </tr>\n",
              "  </tbody>\n",
              "</table>\n",
              "<p>162166 rows × 1 columns</p>\n",
              "</div>\n",
              "      <button class=\"colab-df-convert\" onclick=\"convertToInteractive('df-c6bdc646-ccc1-471f-b5fa-6989cf26b949')\"\n",
              "              title=\"Convert this dataframe to an interactive table.\"\n",
              "              style=\"display:none;\">\n",
              "        \n",
              "  <svg xmlns=\"http://www.w3.org/2000/svg\" height=\"24px\"viewBox=\"0 0 24 24\"\n",
              "       width=\"24px\">\n",
              "    <path d=\"M0 0h24v24H0V0z\" fill=\"none\"/>\n",
              "    <path d=\"M18.56 5.44l.94 2.06.94-2.06 2.06-.94-2.06-.94-.94-2.06-.94 2.06-2.06.94zm-11 1L8.5 8.5l.94-2.06 2.06-.94-2.06-.94L8.5 2.5l-.94 2.06-2.06.94zm10 10l.94 2.06.94-2.06 2.06-.94-2.06-.94-.94-2.06-.94 2.06-2.06.94z\"/><path d=\"M17.41 7.96l-1.37-1.37c-.4-.4-.92-.59-1.43-.59-.52 0-1.04.2-1.43.59L10.3 9.45l-7.72 7.72c-.78.78-.78 2.05 0 2.83L4 21.41c.39.39.9.59 1.41.59.51 0 1.02-.2 1.41-.59l7.78-7.78 2.81-2.81c.8-.78.8-2.07 0-2.86zM5.41 20L4 18.59l7.72-7.72 1.47 1.35L5.41 20z\"/>\n",
              "  </svg>\n",
              "      </button>\n",
              "      \n",
              "  <style>\n",
              "    .colab-df-container {\n",
              "      display:flex;\n",
              "      flex-wrap:wrap;\n",
              "      gap: 12px;\n",
              "    }\n",
              "\n",
              "    .colab-df-convert {\n",
              "      background-color: #E8F0FE;\n",
              "      border: none;\n",
              "      border-radius: 50%;\n",
              "      cursor: pointer;\n",
              "      display: none;\n",
              "      fill: #1967D2;\n",
              "      height: 32px;\n",
              "      padding: 0 0 0 0;\n",
              "      width: 32px;\n",
              "    }\n",
              "\n",
              "    .colab-df-convert:hover {\n",
              "      background-color: #E2EBFA;\n",
              "      box-shadow: 0px 1px 2px rgba(60, 64, 67, 0.3), 0px 1px 3px 1px rgba(60, 64, 67, 0.15);\n",
              "      fill: #174EA6;\n",
              "    }\n",
              "\n",
              "    [theme=dark] .colab-df-convert {\n",
              "      background-color: #3B4455;\n",
              "      fill: #D2E3FC;\n",
              "    }\n",
              "\n",
              "    [theme=dark] .colab-df-convert:hover {\n",
              "      background-color: #434B5C;\n",
              "      box-shadow: 0px 1px 3px 1px rgba(0, 0, 0, 0.15);\n",
              "      filter: drop-shadow(0px 1px 2px rgba(0, 0, 0, 0.3));\n",
              "      fill: #FFFFFF;\n",
              "    }\n",
              "  </style>\n",
              "\n",
              "      <script>\n",
              "        const buttonEl =\n",
              "          document.querySelector('#df-c6bdc646-ccc1-471f-b5fa-6989cf26b949 button.colab-df-convert');\n",
              "        buttonEl.style.display =\n",
              "          google.colab.kernel.accessAllowed ? 'block' : 'none';\n",
              "\n",
              "        async function convertToInteractive(key) {\n",
              "          const element = document.querySelector('#df-c6bdc646-ccc1-471f-b5fa-6989cf26b949');\n",
              "          const dataTable =\n",
              "            await google.colab.kernel.invokeFunction('convertToInteractive',\n",
              "                                                     [key], {});\n",
              "          if (!dataTable) return;\n",
              "\n",
              "          const docLinkHtml = 'Like what you see? Visit the ' +\n",
              "            '<a target=\"_blank\" href=https://colab.research.google.com/notebooks/data_table.ipynb>data table notebook</a>'\n",
              "            + ' to learn more about interactive tables.';\n",
              "          element.innerHTML = '';\n",
              "          dataTable['output_type'] = 'display_data';\n",
              "          await google.colab.output.renderOutput(dataTable, element);\n",
              "          const docLink = document.createElement('div');\n",
              "          docLink.innerHTML = docLinkHtml;\n",
              "          element.appendChild(docLink);\n",
              "        }\n",
              "      </script>\n",
              "    </div>\n",
              "  </div>\n",
              "  "
            ]
          },
          "metadata": {},
          "execution_count": 9
        }
      ]
    },
    {
      "cell_type": "code",
      "execution_count": null,
      "metadata": {
        "id": "cOgLR5dwBTA1"
      },
      "outputs": [],
      "source": [
        "from sklearn.feature_extraction.text import CountVectorizer\n",
        "import pymorphy2"
      ]
    },
    {
      "cell_type": "markdown",
      "metadata": {
        "id": "HUryzqeUBTA2"
      },
      "source": [
        "1. Считайте слова из файла `litw-win.txt` и запишите их в список `words`. В заданном предложении исправьте все опечатки, заменив слова с опечатками на ближайшие (в смысле расстояния Левенштейна) к ним слова из списка `words`. Считайте, что в слове есть опечатка, если данное слово не содержится в списке `words`. "
      ]
    },
    {
      "cell_type": "code",
      "source": [
        "import Levenshtein\n",
        "\n",
        "def fix_typos(data, words):\n",
        "    for i in range(len(data)):\n",
        "        for j in range(len(data[i])):\n",
        "            closest_word = min(words, key=lambda x: Levenshtein.distance(x, data[i][j]))\n",
        "            if closest_word != data[i][j]:\n",
        "                data[i][j] = closest_word\n",
        "    return data"
      ],
      "metadata": {
        "id": "slV1LGqvOdsg"
      },
      "execution_count": null,
      "outputs": []
    },
    {
      "cell_type": "code",
      "source": [
        "words = [i.lstrip() for i in filee[\"col1\"]]\n",
        "# for i in filee[\"col1\"]:\n",
        "#   print(i)\n",
        "words[0]"
      ],
      "metadata": {
        "id": "wbTqCutxCZ4D",
        "colab": {
          "base_uri": "https://localhost:8080/",
          "height": 36
        },
        "outputId": "b950ee91-0df4-40e0-f300-d3d383ad746e"
      },
      "execution_count": null,
      "outputs": [
        {
          "output_type": "execute_result",
          "data": {
            "text/plain": [
              "'101167 и'"
            ],
            "application/vnd.google.colaboratory.intrinsic+json": {
              "type": "string"
            }
          },
          "metadata": {},
          "execution_count": 50
        }
      ]
    },
    {
      "cell_type": "code",
      "execution_count": null,
      "metadata": {
        "id": "I2rQZlXuBTA2"
      },
      "outputs": [],
      "source": [
        "text = '''с велечайшим усилием выбравшись из потока убегающих людей Кутузов со свитой уменьшевшейся вдвое поехал на звуки выстрелов русских орудий'''"
      ]
    },
    {
      "cell_type": "markdown",
      "metadata": {
        "id": "X1x6BtvpBTA2"
      },
      "source": [
        "2. Разбейте текст из формулировки задания 1 на слова; проведите стемминг и лемматизацию слов."
      ]
    },
    {
      "cell_type": "markdown",
      "metadata": {
        "id": "G5LY144WBTA2"
      },
      "source": [
        "3. Преобразуйте предложения из формулировки задания 1 в векторы при помощи `CountVectorizer`."
      ]
    },
    {
      "cell_type": "markdown",
      "metadata": {
        "id": "kewop7plBTA2"
      },
      "source": [
        "## Лабораторная работа 9"
      ]
    },
    {
      "cell_type": "code",
      "source": [
        "filee = pd.read_csv(\"preprocessed_descriptions.csv\", index_col = 0)\n",
        "filee"
      ],
      "metadata": {
        "colab": {
          "base_uri": "https://localhost:8080/",
          "height": 423
        },
        "id": "qTBQxFBE9I4E",
        "outputId": "3cfcbc58-d91f-4894-a345-3e768f893dbf"
      },
      "execution_count": null,
      "outputs": [
        {
          "output_type": "execute_result",
          "data": {
            "text/plain": [
              "                                               name  \\\n",
              "0             george s at the cove  black bean soup   \n",
              "1                healthy for them  yogurt popsicles   \n",
              "2                      i can t believe it s spinach   \n",
              "3                              italian  gut busters   \n",
              "4          love is in the air  beef fondue   sauces   \n",
              "...                                             ...   \n",
              "29995  zurie s holey rustic olive and cheddar bread   \n",
              "29996          zwetschgenkuchen  bavarian plum cake   \n",
              "29997   zwiebelkuchen   southwest german onion cake   \n",
              "29998                                   zydeco soup   \n",
              "29999        cookies by design   cookies on a stick   \n",
              "\n",
              "                               preprocessed_descriptions  \n",
              "0      an original recipe created by chef scott meska...  \n",
              "1      my children and their friends ask for my homem...  \n",
              "2                  these were so go it surprised even me  \n",
              "3      my sisterinlaw made these for us at a family g...  \n",
              "4      i think a fondue is a very romantic casual din...  \n",
              "...                                                  ...  \n",
              "29995  this is based on a french recipe but i changed...  \n",
              "29996  this is a traditional fresh plum cake thought ...  \n",
              "29997  this is a traditional late summer early fall s...  \n",
              "29998  this is a delicious soup that i originally fou...  \n",
              "29999  ive heard of the cookies by design company but...  \n",
              "\n",
              "[30000 rows x 2 columns]"
            ],
            "text/html": [
              "\n",
              "  <div id=\"df-5a54b7a1-5608-44ae-bc67-600afb9d05a3\">\n",
              "    <div class=\"colab-df-container\">\n",
              "      <div>\n",
              "<style scoped>\n",
              "    .dataframe tbody tr th:only-of-type {\n",
              "        vertical-align: middle;\n",
              "    }\n",
              "\n",
              "    .dataframe tbody tr th {\n",
              "        vertical-align: top;\n",
              "    }\n",
              "\n",
              "    .dataframe thead th {\n",
              "        text-align: right;\n",
              "    }\n",
              "</style>\n",
              "<table border=\"1\" class=\"dataframe\">\n",
              "  <thead>\n",
              "    <tr style=\"text-align: right;\">\n",
              "      <th></th>\n",
              "      <th>name</th>\n",
              "      <th>preprocessed_descriptions</th>\n",
              "    </tr>\n",
              "  </thead>\n",
              "  <tbody>\n",
              "    <tr>\n",
              "      <th>0</th>\n",
              "      <td>george s at the cove  black bean soup</td>\n",
              "      <td>an original recipe created by chef scott meska...</td>\n",
              "    </tr>\n",
              "    <tr>\n",
              "      <th>1</th>\n",
              "      <td>healthy for them  yogurt popsicles</td>\n",
              "      <td>my children and their friends ask for my homem...</td>\n",
              "    </tr>\n",
              "    <tr>\n",
              "      <th>2</th>\n",
              "      <td>i can t believe it s spinach</td>\n",
              "      <td>these were so go it surprised even me</td>\n",
              "    </tr>\n",
              "    <tr>\n",
              "      <th>3</th>\n",
              "      <td>italian  gut busters</td>\n",
              "      <td>my sisterinlaw made these for us at a family g...</td>\n",
              "    </tr>\n",
              "    <tr>\n",
              "      <th>4</th>\n",
              "      <td>love is in the air  beef fondue   sauces</td>\n",
              "      <td>i think a fondue is a very romantic casual din...</td>\n",
              "    </tr>\n",
              "    <tr>\n",
              "      <th>...</th>\n",
              "      <td>...</td>\n",
              "      <td>...</td>\n",
              "    </tr>\n",
              "    <tr>\n",
              "      <th>29995</th>\n",
              "      <td>zurie s holey rustic olive and cheddar bread</td>\n",
              "      <td>this is based on a french recipe but i changed...</td>\n",
              "    </tr>\n",
              "    <tr>\n",
              "      <th>29996</th>\n",
              "      <td>zwetschgenkuchen  bavarian plum cake</td>\n",
              "      <td>this is a traditional fresh plum cake thought ...</td>\n",
              "    </tr>\n",
              "    <tr>\n",
              "      <th>29997</th>\n",
              "      <td>zwiebelkuchen   southwest german onion cake</td>\n",
              "      <td>this is a traditional late summer early fall s...</td>\n",
              "    </tr>\n",
              "    <tr>\n",
              "      <th>29998</th>\n",
              "      <td>zydeco soup</td>\n",
              "      <td>this is a delicious soup that i originally fou...</td>\n",
              "    </tr>\n",
              "    <tr>\n",
              "      <th>29999</th>\n",
              "      <td>cookies by design   cookies on a stick</td>\n",
              "      <td>ive heard of the cookies by design company but...</td>\n",
              "    </tr>\n",
              "  </tbody>\n",
              "</table>\n",
              "<p>30000 rows × 2 columns</p>\n",
              "</div>\n",
              "      <button class=\"colab-df-convert\" onclick=\"convertToInteractive('df-5a54b7a1-5608-44ae-bc67-600afb9d05a3')\"\n",
              "              title=\"Convert this dataframe to an interactive table.\"\n",
              "              style=\"display:none;\">\n",
              "        \n",
              "  <svg xmlns=\"http://www.w3.org/2000/svg\" height=\"24px\"viewBox=\"0 0 24 24\"\n",
              "       width=\"24px\">\n",
              "    <path d=\"M0 0h24v24H0V0z\" fill=\"none\"/>\n",
              "    <path d=\"M18.56 5.44l.94 2.06.94-2.06 2.06-.94-2.06-.94-.94-2.06-.94 2.06-2.06.94zm-11 1L8.5 8.5l.94-2.06 2.06-.94-2.06-.94L8.5 2.5l-.94 2.06-2.06.94zm10 10l.94 2.06.94-2.06 2.06-.94-2.06-.94-.94-2.06-.94 2.06-2.06.94z\"/><path d=\"M17.41 7.96l-1.37-1.37c-.4-.4-.92-.59-1.43-.59-.52 0-1.04.2-1.43.59L10.3 9.45l-7.72 7.72c-.78.78-.78 2.05 0 2.83L4 21.41c.39.39.9.59 1.41.59.51 0 1.02-.2 1.41-.59l7.78-7.78 2.81-2.81c.8-.78.8-2.07 0-2.86zM5.41 20L4 18.59l7.72-7.72 1.47 1.35L5.41 20z\"/>\n",
              "  </svg>\n",
              "      </button>\n",
              "      \n",
              "  <style>\n",
              "    .colab-df-container {\n",
              "      display:flex;\n",
              "      flex-wrap:wrap;\n",
              "      gap: 12px;\n",
              "    }\n",
              "\n",
              "    .colab-df-convert {\n",
              "      background-color: #E8F0FE;\n",
              "      border: none;\n",
              "      border-radius: 50%;\n",
              "      cursor: pointer;\n",
              "      display: none;\n",
              "      fill: #1967D2;\n",
              "      height: 32px;\n",
              "      padding: 0 0 0 0;\n",
              "      width: 32px;\n",
              "    }\n",
              "\n",
              "    .colab-df-convert:hover {\n",
              "      background-color: #E2EBFA;\n",
              "      box-shadow: 0px 1px 2px rgba(60, 64, 67, 0.3), 0px 1px 3px 1px rgba(60, 64, 67, 0.15);\n",
              "      fill: #174EA6;\n",
              "    }\n",
              "\n",
              "    [theme=dark] .colab-df-convert {\n",
              "      background-color: #3B4455;\n",
              "      fill: #D2E3FC;\n",
              "    }\n",
              "\n",
              "    [theme=dark] .colab-df-convert:hover {\n",
              "      background-color: #434B5C;\n",
              "      box-shadow: 0px 1px 3px 1px rgba(0, 0, 0, 0.15);\n",
              "      filter: drop-shadow(0px 1px 2px rgba(0, 0, 0, 0.3));\n",
              "      fill: #FFFFFF;\n",
              "    }\n",
              "  </style>\n",
              "\n",
              "      <script>\n",
              "        const buttonEl =\n",
              "          document.querySelector('#df-5a54b7a1-5608-44ae-bc67-600afb9d05a3 button.colab-df-convert');\n",
              "        buttonEl.style.display =\n",
              "          google.colab.kernel.accessAllowed ? 'block' : 'none';\n",
              "\n",
              "        async function convertToInteractive(key) {\n",
              "          const element = document.querySelector('#df-5a54b7a1-5608-44ae-bc67-600afb9d05a3');\n",
              "          const dataTable =\n",
              "            await google.colab.kernel.invokeFunction('convertToInteractive',\n",
              "                                                     [key], {});\n",
              "          if (!dataTable) return;\n",
              "\n",
              "          const docLinkHtml = 'Like what you see? Visit the ' +\n",
              "            '<a target=\"_blank\" href=https://colab.research.google.com/notebooks/data_table.ipynb>data table notebook</a>'\n",
              "            + ' to learn more about interactive tables.';\n",
              "          element.innerHTML = '';\n",
              "          dataTable['output_type'] = 'display_data';\n",
              "          await google.colab.output.renderOutput(dataTable, element);\n",
              "          const docLink = document.createElement('div');\n",
              "          docLink.innerHTML = docLinkHtml;\n",
              "          element.appendChild(docLink);\n",
              "        }\n",
              "      </script>\n",
              "    </div>\n",
              "  </div>\n",
              "  "
            ]
          },
          "metadata": {},
          "execution_count": 10
        }
      ]
    },
    {
      "cell_type": "code",
      "source": [
        "# filee[\"preprocessed_descriptions\"].tolist()"
      ],
      "metadata": {
        "id": "u_s_a3tbJs9p"
      },
      "execution_count": null,
      "outputs": []
    },
    {
      "cell_type": "markdown",
      "metadata": {
        "id": "UTovhb8-BTA2"
      },
      "source": [
        "### Расстояние редактирования"
      ]
    },
    {
      "cell_type": "markdown",
      "metadata": {
        "id": "ULS60esbBTA2"
      },
      "source": [
        "1.1 Загрузите предобработанные описания рецептов из файла `preprocessed_descriptions.csv`. Получите набор уникальных слов `words`, содержащихся в текстах описаний рецептов (воспользуйтесь `word_tokenize` из `nltk`). "
      ]
    },
    {
      "cell_type": "code",
      "source": [
        "# words = \" \".join(filee[\"preprocessed_descriptions\"].tolist())\n",
        "#main\n",
        "words = map(str, filee[\"preprocessed_descriptions\"].tolist())\n",
        "words = \" \".join(words)\n",
        "words = word_tokenize(words)\n",
        "print(len(words))\n",
        "words = set(words)\n",
        "words\n"
      ],
      "metadata": {
        "id": "aSckwHYxAcBw",
        "colab": {
          "base_uri": "https://localhost:8080/"
        },
        "outputId": "4ae1c16f-29a8-4e5e-beac-89f36639bd86"
      },
      "execution_count": null,
      "outputs": [
        {
          "output_type": "stream",
          "name": "stdout",
          "text": [
            "1069885\n"
          ]
        },
        {
          "output_type": "execute_result",
          "data": {
            "text/plain": [
              "{'addictedall',\n",
              " 'varity',\n",
              " 'papaya',\n",
              " 'powdermakes',\n",
              " 'sepember',\n",
              " 'upstairs',\n",
              " 'ass',\n",
              " 'peoples',\n",
              " '134834',\n",
              " 'salts',\n",
              " 'darlis',\n",
              " 'steaksheavenly',\n",
              " 'kit',\n",
              " 'humble',\n",
              " 'souls',\n",
              " 'rollsmy',\n",
              " 'wwwbhgcom',\n",
              " 'puffsrecipe',\n",
              " 'freshman',\n",
              " 'pineappleapricot',\n",
              " 'dram',\n",
              " 'httpohsheglowscom',\n",
              " '147254',\n",
              " 'co',\n",
              " 'withfrenchfries',\n",
              " 'muy',\n",
              " 'restuarant',\n",
              " 'likean',\n",
              " 'alberta',\n",
              " 'suitably',\n",
              " 'weather',\n",
              " 'cosisting',\n",
              " 'tom',\n",
              " 'danishstyle',\n",
              " 'donovan',\n",
              " 'honeygarlic',\n",
              " 'patisserie',\n",
              " 'delicous',\n",
              " 'sod',\n",
              " 'thier',\n",
              " 'attached',\n",
              " 'indigenous',\n",
              " 'moaning',\n",
              " 'hokey',\n",
              " 'believer',\n",
              " 'topnotch',\n",
              " 'despise',\n",
              " '130',\n",
              " '427810',\n",
              " 'updatedlol',\n",
              " 'broiled',\n",
              " 'bakedpotato',\n",
              " 'hines',\n",
              " 'coconuti',\n",
              " 'definetly',\n",
              " 'subscribe',\n",
              " 'tubeshaped',\n",
              " 'surprising',\n",
              " 'ellerbee',\n",
              " 'kelloggscom',\n",
              " '14yr',\n",
              " 'daysim',\n",
              " 'goumet',\n",
              " 'virgin',\n",
              " 'buffets',\n",
              " 'moriyama',\n",
              " 'bulgogi',\n",
              " 'advantagesmore',\n",
              " 'sheila',\n",
              " 'youwe',\n",
              " 'candysweet',\n",
              " 'turkey',\n",
              " 'mingled',\n",
              " 'dryed',\n",
              " 'lightmay',\n",
              " 'differentlyso',\n",
              " 'isolated',\n",
              " 'gravlax',\n",
              " 'useroot',\n",
              " 'pssst',\n",
              " '1993',\n",
              " 'christmasy',\n",
              " 'harbor',\n",
              " 'love',\n",
              " 'sauceegg',\n",
              " 'gemignani',\n",
              " 'underwood',\n",
              " 'cookereasy',\n",
              " 'scotcharoo',\n",
              " 'buttertarts',\n",
              " 'useful',\n",
              " 'specialthis',\n",
              " 'versionstry',\n",
              " 'streets',\n",
              " 'turners',\n",
              " 'quinoa',\n",
              " 'calories',\n",
              " 'tonkatsu',\n",
              " 'mains',\n",
              " 'mic',\n",
              " 'badge',\n",
              " 'name',\n",
              " 'imagining',\n",
              " 'brain',\n",
              " 'gently',\n",
              " '24302002',\n",
              " 'ann',\n",
              " 'virtue',\n",
              " 'healthywashing',\n",
              " 'beaufort',\n",
              " 'other',\n",
              " 'among',\n",
              " 'staffordshire',\n",
              " 'shout',\n",
              " 'tootsie',\n",
              " 'recipeone',\n",
              " 'pastause',\n",
              " 'cursive',\n",
              " 'anyways',\n",
              " 'pares',\n",
              " 'soften',\n",
              " 'fermentation',\n",
              " 'subtile',\n",
              " 'thicksliced',\n",
              " 'log',\n",
              " 'varietybut',\n",
              " 'nickname',\n",
              " 'myselfsince',\n",
              " 'chiarellos',\n",
              " 'louisianahere',\n",
              " 'idas',\n",
              " '331844',\n",
              " 'fastit',\n",
              " 'tetrazzini',\n",
              " 'writes',\n",
              " 'sludgy',\n",
              " 'trilogy',\n",
              " 'contessas',\n",
              " 'pamelas',\n",
              " 'classique',\n",
              " 'cabbagewrapped',\n",
              " 'cuban',\n",
              " 'dusted',\n",
              " 'wafers',\n",
              " 'maris',\n",
              " 'condensation',\n",
              " 'chomping',\n",
              " 'rummaging',\n",
              " 'cupcakeswhen',\n",
              " 'sauted',\n",
              " 'late',\n",
              " 'mid70s',\n",
              " 'desired',\n",
              " 'polentalike',\n",
              " 'houses',\n",
              " 'drinker',\n",
              " 'displayed',\n",
              " 'yeat',\n",
              " 'beam',\n",
              " 'clerc',\n",
              " 'billiards',\n",
              " 'caketype',\n",
              " 'blackberries',\n",
              " 'wanda',\n",
              " 'khoudrdaji',\n",
              " 'dairyland',\n",
              " 'never',\n",
              " 'gartenbarefoot',\n",
              " 'aaparagus',\n",
              " 'workmany',\n",
              " 'shannon',\n",
              " '102g',\n",
              " 'bhg',\n",
              " '22782',\n",
              " 'davinvi',\n",
              " 'flavorhope',\n",
              " 'sixth',\n",
              " 'tenderloinds',\n",
              " 'cilantropacked',\n",
              " 'insists',\n",
              " 'forgotten',\n",
              " 'space',\n",
              " 'prevalent',\n",
              " 'cyndee',\n",
              " '28274',\n",
              " 'moussaka',\n",
              " 'nonpumpkin',\n",
              " 'pozole',\n",
              " 'rods',\n",
              " 'recognize',\n",
              " 'thatbut',\n",
              " 'tunalovers',\n",
              " 'taleggio',\n",
              " 'jellyfilled',\n",
              " 'dippin',\n",
              " 'upno',\n",
              " 'southwest',\n",
              " 'judy',\n",
              " 'refueling',\n",
              " 'saves',\n",
              " '167663',\n",
              " 'sacred',\n",
              " 'mesimple',\n",
              " 'bellingham',\n",
              " 'staple',\n",
              " 'topthis',\n",
              " '113',\n",
              " 'briannas',\n",
              " 'sooooooo',\n",
              " 'parsnip',\n",
              " 'lawrence',\n",
              " 'reveal',\n",
              " 'zwt3pure',\n",
              " 'flexitarian',\n",
              " 'fortune',\n",
              " 'suburb',\n",
              " 'impairment',\n",
              " 'timely',\n",
              " 'schweinefleisch',\n",
              " 'exhorbitant',\n",
              " 'rich',\n",
              " 'cures',\n",
              " 'deliscious',\n",
              " 'gunns',\n",
              " 'struggle',\n",
              " 'amout',\n",
              " 'flash',\n",
              " 'within',\n",
              " 'discussion',\n",
              " 'hauntingly',\n",
              " 'oveni',\n",
              " 'oddsounding',\n",
              " 'packaging',\n",
              " 'measuring',\n",
              " 'vastly',\n",
              " 'omeletplease',\n",
              " 'carpenters',\n",
              " 'stewing',\n",
              " 'pancakesa',\n",
              " 'marzetti',\n",
              " 'prizewinning',\n",
              " 'uzbekistan',\n",
              " 'asianthemed',\n",
              " 'gobbledey',\n",
              " 'cheesiest',\n",
              " 'featuring',\n",
              " '22411',\n",
              " 'supberb',\n",
              " 'slipping',\n",
              " 'kiwifruit',\n",
              " 'winning',\n",
              " 'afternoons',\n",
              " 'ramona',\n",
              " 'boyfriends',\n",
              " 'saundersthe',\n",
              " 'koa',\n",
              " 'experimented',\n",
              " 'columbus',\n",
              " 'escape',\n",
              " 'approaching',\n",
              " 'morethanbasicrolls',\n",
              " 'harley',\n",
              " 'maize',\n",
              " 'madras',\n",
              " 'lambyou',\n",
              " 'mushy',\n",
              " 'daywas',\n",
              " 'pacon',\n",
              " 'quck',\n",
              " 'lorna',\n",
              " 'recommend',\n",
              " 'skordalia',\n",
              " 'undervalued',\n",
              " 'stimulant',\n",
              " 'tartlike',\n",
              " 'dynamic',\n",
              " 'historical',\n",
              " 'rayaugustseptember',\n",
              " 'searve',\n",
              " 'boils',\n",
              " 'kebabs',\n",
              " 'much',\n",
              " 'mealinone',\n",
              " 'frostingbe',\n",
              " 'david',\n",
              " 'mins',\n",
              " 'milkdelicious',\n",
              " '8mg',\n",
              " 'recipe311449',\n",
              " 'surprisingly',\n",
              " 'greenthis',\n",
              " 'letterman',\n",
              " 'sasenachs',\n",
              " 'itrecipe',\n",
              " 'caserole',\n",
              " '2440',\n",
              " 'excellence',\n",
              " 'greasing',\n",
              " 'saladsandwich',\n",
              " 'ovenfrying',\n",
              " '104',\n",
              " 'greatgrandmothers',\n",
              " '6093474',\n",
              " 'crunchynothing',\n",
              " 'steelhead',\n",
              " 'ghosh',\n",
              " 'lobel',\n",
              " 'jayne',\n",
              " 'sport',\n",
              " 'daytona',\n",
              " 'wesolowski',\n",
              " 'cloth',\n",
              " 'picknicks',\n",
              " 'tahoe',\n",
              " 'pantryshelf',\n",
              " 'aye',\n",
              " 'regularsize',\n",
              " 'manx',\n",
              " 'israel',\n",
              " 'longanother',\n",
              " 'baconits',\n",
              " 'retrieved',\n",
              " 'keywees',\n",
              " 'skimpy',\n",
              " 'au240',\n",
              " 'burfi',\n",
              " 'healthily',\n",
              " 'fen',\n",
              " 'kugel',\n",
              " 'destination',\n",
              " 'pichet',\n",
              " '232706',\n",
              " 'safetly',\n",
              " 'gascogny',\n",
              " 'hull',\n",
              " 'dishs',\n",
              " 'wonderfulnote',\n",
              " 'sprinkling',\n",
              " 'edith',\n",
              " 'knuckles',\n",
              " 'ingenuity',\n",
              " 'creataors',\n",
              " 'malanga',\n",
              " 'tacky',\n",
              " 'utilities',\n",
              " 'concentrate',\n",
              " 'disintegrated',\n",
              " 'readytobake',\n",
              " '90822',\n",
              " 'torta',\n",
              " 'rightthe',\n",
              " 'ronnie',\n",
              " 'snits',\n",
              " 'rewarmed',\n",
              " 'kheema',\n",
              " 'buenos',\n",
              " 'confectionary',\n",
              " 'ketchuptarter',\n",
              " 'resipes',\n",
              " 'cast',\n",
              " 'honest',\n",
              " 'devonshire',\n",
              " 'aisle',\n",
              " '1800',\n",
              " 'browner',\n",
              " 'mamaliga',\n",
              " 'meatier',\n",
              " 'ranchbut',\n",
              " 'embark',\n",
              " 'last',\n",
              " 'deconstructs',\n",
              " 'chopeetoolas',\n",
              " 'marshmellows',\n",
              " '4045',\n",
              " 'oilcured',\n",
              " 'goose',\n",
              " 'gur',\n",
              " 'paws',\n",
              " 'half',\n",
              " 'grandmothers',\n",
              " 'finely',\n",
              " 'httpwwwrecipezaarcomroastedasparaguswithlavenderlemonandgarlic155205',\n",
              " 'pasteurization',\n",
              " 'unoaked',\n",
              " 'germanyaustria',\n",
              " 'dodge',\n",
              " 'kochen',\n",
              " 'wwwdididavisfoodscom',\n",
              " 'enjera',\n",
              " 'cookings',\n",
              " 'perricone',\n",
              " 'cascabel',\n",
              " 'feb',\n",
              " 'ironrich',\n",
              " 'sweetheart',\n",
              " 'mealsi',\n",
              " 'offi',\n",
              " 'pronouned',\n",
              " 'gump',\n",
              " 'britishirish',\n",
              " '137575',\n",
              " 'galloping',\n",
              " 'embarrassing',\n",
              " 'handi',\n",
              " 'atherosclerosis',\n",
              " 'iraqi',\n",
              " 'breaded',\n",
              " 'toghther',\n",
              " 'wellsuited',\n",
              " 'experiementing',\n",
              " 'bawarchicom',\n",
              " 'mnutes',\n",
              " 'minty',\n",
              " 'devils',\n",
              " 'cozily',\n",
              " 'jeangeorges',\n",
              " 'corm',\n",
              " 'nursing',\n",
              " '205353',\n",
              " 'versa',\n",
              " 'deliziosa',\n",
              " 'flavoursedited',\n",
              " 'mugsy27',\n",
              " 'venezuelans',\n",
              " 'climb',\n",
              " 'atmosphere',\n",
              " 'copies',\n",
              " 'kathie',\n",
              " 'gig',\n",
              " 'believedelicious',\n",
              " 'wyler',\n",
              " 'pices',\n",
              " 'mealsimple',\n",
              " 'donnalee',\n",
              " 'crosby',\n",
              " 'nectarines',\n",
              " 'justin',\n",
              " 'fsd',\n",
              " 'againthis',\n",
              " 'minuteschicken',\n",
              " 'flavourings',\n",
              " 'expensive',\n",
              " 'ploughmans',\n",
              " 'designing',\n",
              " 'oatsseven',\n",
              " 'armagnac',\n",
              " 'spiceso',\n",
              " 'garnish',\n",
              " 'nosalt',\n",
              " 'makeaustralian',\n",
              " 'clue',\n",
              " 'lode',\n",
              " 'setmakes',\n",
              " 'author',\n",
              " 'class',\n",
              " 'shopped',\n",
              " 'localstate',\n",
              " 'watermelonhalf',\n",
              " 'tailgaters',\n",
              " 'resultshave',\n",
              " 'eremich',\n",
              " 'civil',\n",
              " 'easternstyle',\n",
              " 'waitand',\n",
              " 'lugs',\n",
              " 'executive',\n",
              " 'overlong',\n",
              " 'barstch',\n",
              " 'balm',\n",
              " 'learned',\n",
              " 'halfand',\n",
              " 'natives',\n",
              " 'recipeedited',\n",
              " 'muchadapted',\n",
              " 'tenacious',\n",
              " 'concocting',\n",
              " 'trots',\n",
              " 'tastedthese',\n",
              " 'grillouts',\n",
              " 'nugget',\n",
              " 'midafternoon',\n",
              " 'lifeisgood',\n",
              " 'deserve',\n",
              " 'hingham',\n",
              " 'doeser',\n",
              " 'yoghurt',\n",
              " 'maligned',\n",
              " 'inferior',\n",
              " 'sliced',\n",
              " 'uh',\n",
              " 'knead',\n",
              " 'topcrust',\n",
              " 'ztejas',\n",
              " 'sealevel',\n",
              " 'agoit',\n",
              " 'cooperatives',\n",
              " 'labour',\n",
              " 'flavorits',\n",
              " 'larder',\n",
              " 'creeps',\n",
              " 'sampler',\n",
              " '125',\n",
              " 'compounds',\n",
              " 'addictive',\n",
              " 'lollipop',\n",
              " 'sweating',\n",
              " 'pastitso',\n",
              " 'lauderdale',\n",
              " 'youll',\n",
              " 'batman',\n",
              " 'helpin',\n",
              " 'veer',\n",
              " 'greattasting',\n",
              " 'twirled',\n",
              " 'kari',\n",
              " 'hohum',\n",
              " 'climate',\n",
              " 'clamato',\n",
              " 'raconteur',\n",
              " 'dumped',\n",
              " 'hibiscus',\n",
              " 'judicial',\n",
              " 'snicks',\n",
              " 'picnicsthe',\n",
              " 'heartier',\n",
              " 'coffeelover',\n",
              " 'abdul',\n",
              " 'flakytype',\n",
              " '750',\n",
              " 'lettucepea',\n",
              " 'jalapeos',\n",
              " 'mercenaries',\n",
              " 'inept',\n",
              " 'ruin',\n",
              " 'edward',\n",
              " 'gerhard',\n",
              " 'guide',\n",
              " 'sugar12',\n",
              " 'germain',\n",
              " 'longbotham',\n",
              " 'genoa',\n",
              " 'traditionalstyle',\n",
              " 'soooooo',\n",
              " 'sibo',\n",
              " 'neglect',\n",
              " 'fazool',\n",
              " 'grhs',\n",
              " 'auld',\n",
              " 'rhurbarb',\n",
              " 'porridge',\n",
              " 'othis',\n",
              " 'curling',\n",
              " 'underloffler',\n",
              " 'surfers',\n",
              " 'syringes',\n",
              " 'penzels',\n",
              " 'entertains',\n",
              " 'partys',\n",
              " 'cleggs',\n",
              " 'textureand',\n",
              " 'ronnen',\n",
              " 'pizzathinskinned',\n",
              " 'mixingkneading',\n",
              " 'behave',\n",
              " 'equivalent',\n",
              " 'vineripe',\n",
              " 'driveins',\n",
              " 'bastardized',\n",
              " 'marianne',\n",
              " '395692',\n",
              " 'thebillthis',\n",
              " 'officeand',\n",
              " 'basalmic',\n",
              " 'eateries',\n",
              " 'headquartered',\n",
              " 'lookout',\n",
              " 'austalian',\n",
              " 'milkcocoa',\n",
              " 'etouffeesort',\n",
              " 'wout',\n",
              " '457g',\n",
              " 'valastro',\n",
              " 'reactive',\n",
              " 'soya',\n",
              " 'placing',\n",
              " 'taters',\n",
              " 'hepburn',\n",
              " '196367',\n",
              " 'creamy',\n",
              " '525',\n",
              " 'chug',\n",
              " 'torteit',\n",
              " 'approximateuse',\n",
              " 'questimated',\n",
              " '213',\n",
              " 'sustaining',\n",
              " 'undercooked',\n",
              " 'steady',\n",
              " 'angolan',\n",
              " 'peeled',\n",
              " 'beard',\n",
              " 'santorini',\n",
              " 'awarded',\n",
              " 'face',\n",
              " 'looki',\n",
              " 'timesit',\n",
              " 'sos',\n",
              " 'chockfilled',\n",
              " 'drfuhrmancom',\n",
              " 'shepherds',\n",
              " 'spaghetti',\n",
              " 'driveinnplate',\n",
              " 'zealand',\n",
              " 'patsalis',\n",
              " 'availthey',\n",
              " '17260',\n",
              " 'removed1',\n",
              " 'pinwheels',\n",
              " 'chexcom',\n",
              " '83',\n",
              " 'tax',\n",
              " 'counterpoint',\n",
              " 'memere',\n",
              " 'creole',\n",
              " 'mayoladen',\n",
              " 'coworker',\n",
              " '900',\n",
              " 'tricia',\n",
              " 'nuefchatel',\n",
              " 'thx',\n",
              " 'largely',\n",
              " 'bottomtopping',\n",
              " 'recipesthe',\n",
              " 'joining',\n",
              " 'traded',\n",
              " 'liven',\n",
              " 'fannie',\n",
              " 'tapping',\n",
              " 'itat',\n",
              " 'huhnereintopf',\n",
              " 'cheesemakers',\n",
              " '2003',\n",
              " 'inspiration',\n",
              " 'legumes',\n",
              " 'encountered',\n",
              " 'accolades',\n",
              " 'thirdrate',\n",
              " 'askes',\n",
              " 'ovenseared',\n",
              " 'saucesyrup',\n",
              " 'cocoa',\n",
              " 'coatingconfectioners',\n",
              " 'tilt',\n",
              " 'laudees',\n",
              " 'badische',\n",
              " '22213',\n",
              " 'ohhhh',\n",
              " 'rubies',\n",
              " 'span',\n",
              " 'informationupdate',\n",
              " 'gem',\n",
              " 'jumpingoff',\n",
              " 'sangue',\n",
              " 'berryflavored',\n",
              " 'gyro',\n",
              " 'healthconscious',\n",
              " 'lower',\n",
              " 'virtually',\n",
              " 'easyand',\n",
              " 'fromyou',\n",
              " 'molassesyou',\n",
              " 'heartjust',\n",
              " 'storeamazing',\n",
              " 'powdery',\n",
              " 'whitemeat',\n",
              " 'rocks',\n",
              " 'proportion',\n",
              " 'mojo',\n",
              " 'cornplease',\n",
              " 'unfortunatelyi',\n",
              " 'swansons',\n",
              " 'corning',\n",
              " 'petronis',\n",
              " 'handmedown',\n",
              " 'cornfed',\n",
              " 'gallon',\n",
              " 'menus4momscom',\n",
              " 'experience',\n",
              " 'shows',\n",
              " 'amend',\n",
              " 'merm',\n",
              " 'caa',\n",
              " '78579',\n",
              " 'nelson',\n",
              " 'splashing',\n",
              " 'harmons',\n",
              " 'beaujolais',\n",
              " 'patrick',\n",
              " 'grillin',\n",
              " 'evies',\n",
              " 'sealing',\n",
              " 'budgetstretcher',\n",
              " 'sophistication',\n",
              " 'indigestion',\n",
              " 'ride',\n",
              " 'emergenciesif',\n",
              " 'newspaperhave',\n",
              " 'frugalmomscom',\n",
              " 'chocolatecaramel',\n",
              " '5pound',\n",
              " 'bellies',\n",
              " '1911',\n",
              " 'quichethe',\n",
              " 'cannied',\n",
              " 'chinas',\n",
              " 'tame',\n",
              " '1015',\n",
              " 'half4',\n",
              " 'sweeten',\n",
              " 'drivein',\n",
              " 'aaahs',\n",
              " 'httpwwwrbjbcomarchivesrbjbboard7messages2818html',\n",
              " 'granmas',\n",
              " 'crinkled',\n",
              " 'curd',\n",
              " 'pepitas',\n",
              " 'desertalso',\n",
              " 'skin',\n",
              " 'vegetarianlow',\n",
              " 'rockets',\n",
              " 'supersweet',\n",
              " 'yummyuse',\n",
              " 'doctoring',\n",
              " 'buying',\n",
              " 'kittencals',\n",
              " 'greeting',\n",
              " 'everso',\n",
              " 'sailing',\n",
              " 'scrumpious',\n",
              " 'tinkering',\n",
              " 'bowlsbeaters',\n",
              " 'krispy',\n",
              " 'alllol',\n",
              " '27171',\n",
              " 'mound',\n",
              " 'franchises',\n",
              " 'sufficient',\n",
              " 'families',\n",
              " 'likingbut',\n",
              " 'guidline',\n",
              " 'recipejust',\n",
              " 'adore',\n",
              " 'hungriest',\n",
              " 'band',\n",
              " 'matching',\n",
              " 'smalls',\n",
              " 'pepperonici',\n",
              " 'heating',\n",
              " 'beer',\n",
              " 'vivid',\n",
              " 'canister',\n",
              " 'removedbut',\n",
              " 'dishwashing',\n",
              " 'cruise',\n",
              " 'becoming',\n",
              " 'coffee',\n",
              " 'marthastewartcom',\n",
              " 'broadbean',\n",
              " 'thomas',\n",
              " 'hg',\n",
              " '700wt',\n",
              " 'curdle',\n",
              " 'nighat',\n",
              " 'hurry',\n",
              " 'mcdaniel',\n",
              " '31203togarashi',\n",
              " 'estate',\n",
              " 'smokehouse',\n",
              " 'mindy',\n",
              " 'anticancer',\n",
              " 'bender',\n",
              " 'rinsing',\n",
              " 'wwwivillagecouk',\n",
              " 'chopsyou',\n",
              " 'copykatcom',\n",
              " 'outer',\n",
              " 'preparatrion',\n",
              " 'indefinately',\n",
              " 'boyardee',\n",
              " 'antithesis',\n",
              " '95365',\n",
              " '600800',\n",
              " 'powers',\n",
              " 'doughsource',\n",
              " 'deeply',\n",
              " 'sure',\n",
              " 'olde',\n",
              " 'peanut',\n",
              " 'florence',\n",
              " 'tope',\n",
              " 'fulfilling',\n",
              " 'soupfromscratch',\n",
              " 'oaxaca',\n",
              " 'gruszecki',\n",
              " 'kylie',\n",
              " 'gardengrown',\n",
              " 'deen',\n",
              " '34s',\n",
              " 'mainers',\n",
              " 'motion',\n",
              " 'ouzo',\n",
              " 'giardeniera',\n",
              " 'joachim',\n",
              " 'seedstry',\n",
              " 'orfrom',\n",
              " 'serranos',\n",
              " 'colder',\n",
              " 'elderberry',\n",
              " 'enzyme',\n",
              " '110331',\n",
              " 'cornwall',\n",
              " 'bahrain',\n",
              " 'colombian',\n",
              " '281mgcarbs',\n",
              " 'hafners',\n",
              " 'club',\n",
              " 'commercials',\n",
              " 'layering',\n",
              " 'renos',\n",
              " 'cousin',\n",
              " 'reviewers',\n",
              " 'lightening',\n",
              " 'breakage',\n",
              " 'saltiness',\n",
              " 'marbella',\n",
              " 'tangled',\n",
              " 'computed',\n",
              " 'worchestershire',\n",
              " 'transplant',\n",
              " 'ordianary',\n",
              " 'social',\n",
              " 'suggestions',\n",
              " 'heartsetc',\n",
              " 'kiwi',\n",
              " '7very',\n",
              " 'thoughthese',\n",
              " 'smedstad',\n",
              " 'muh',\n",
              " 'preapare',\n",
              " 'beverly',\n",
              " 'oohsogood',\n",
              " 'cl',\n",
              " 'httpwwwjoybauercommembersfoodandrecipesrecipesviewrecipeaspxrecipeid10499usermealplanid84263771',\n",
              " '12',\n",
              " 'homecooking',\n",
              " 'foodsfrom',\n",
              " '099',\n",
              " 'requests',\n",
              " 'overtook',\n",
              " '198770',\n",
              " '7yo',\n",
              " 'duran',\n",
              " 'pouring',\n",
              " 'nephew',\n",
              " 'toronto',\n",
              " 'syrupok',\n",
              " 'lucre',\n",
              " 'offshoot',\n",
              " 'offense',\n",
              " 'ohhthis',\n",
              " 'recipe369334',\n",
              " 'preperation',\n",
              " 'avocado',\n",
              " 'torgotta',\n",
              " 'trisha',\n",
              " 'foodtvca',\n",
              " 'jars',\n",
              " 'tatse',\n",
              " 'spiders',\n",
              " '375f',\n",
              " 'aimply',\n",
              " 'profess',\n",
              " 'carnitasyou',\n",
              " 'httpvoraciouseatscom20100514chocolatepotsdecremethebestdessertintheworld',\n",
              " 'guesstimations',\n",
              " 'judys',\n",
              " 'tweek',\n",
              " 'potpourri',\n",
              " 'licence',\n",
              " 'darts',\n",
              " 'containsdisclaimer',\n",
              " 'prisoners',\n",
              " 'nurti',\n",
              " 'prescripton',\n",
              " 'bodkins',\n",
              " 'sodiumrdi',\n",
              " 'accepted',\n",
              " 'kopanisti',\n",
              " 'geocities',\n",
              " '15878',\n",
              " 'recharged',\n",
              " 'itnever',\n",
              " 'simple',\n",
              " 'midori',\n",
              " '87g',\n",
              " 'lattice',\n",
              " '44',\n",
              " 'pestos',\n",
              " '112304',\n",
              " 'epices',\n",
              " 'windowsill',\n",
              " 'plums',\n",
              " 'accompanyment',\n",
              " 'frost',\n",
              " 'ganouj',\n",
              " 'altogether',\n",
              " 'bernard',\n",
              " 'knowledgable',\n",
              " 'sports',\n",
              " 'httpgorgeoustowntypepadcomlexculinaria',\n",
              " '189040',\n",
              " 'delectable',\n",
              " 'tsps',\n",
              " 'themthe',\n",
              " 'oso',\n",
              " 'nocalorie',\n",
              " 'halayang',\n",
              " 'inspiring',\n",
              " 'chipley',\n",
              " 'vegies',\n",
              " 'recipegreat',\n",
              " 'barbara',\n",
              " 'easythus',\n",
              " 'powders',\n",
              " 'crumblean',\n",
              " 'daylittle',\n",
              " 'edietscom',\n",
              " 'shure',\n",
              " 'been',\n",
              " 'mission',\n",
              " 'neighborsfriends',\n",
              " 'elaboration',\n",
              " 'windowstall',\n",
              " 'harks',\n",
              " 'retried',\n",
              " 'before',\n",
              " 'detailed',\n",
              " 'thirteen',\n",
              " 'dreamfrozen',\n",
              " 'behaveill',\n",
              " 'gutsy',\n",
              " 'shoppe',\n",
              " 'elongated',\n",
              " 'lucinda',\n",
              " 'fouryearold',\n",
              " 'ricardo',\n",
              " 'dissolved',\n",
              " 'steamerrice',\n",
              " 'biscuitsmuffins',\n",
              " 'specials',\n",
              " 'mccorkles',\n",
              " 'flatreads',\n",
              " 'sanity',\n",
              " 'cava',\n",
              " 'cloying',\n",
              " 'deelicious',\n",
              " 'prepping',\n",
              " '1960s',\n",
              " 'digital',\n",
              " 'californiaeveryone',\n",
              " 'mom',\n",
              " 'guisada',\n",
              " 'bellevue',\n",
              " 'fanyoull',\n",
              " 'falliano',\n",
              " 'ziptop',\n",
              " 'wwwunjurycom',\n",
              " 'jot',\n",
              " 'sameach',\n",
              " 'ingriedents',\n",
              " 'overused',\n",
              " 'overflowing',\n",
              " 'dependant',\n",
              " 'complains',\n",
              " 'drouet',\n",
              " 'kwwl',\n",
              " 'gl1',\n",
              " 'pureehelpful',\n",
              " 'yearsnot',\n",
              " 'trips',\n",
              " 'eli',\n",
              " 'looooove',\n",
              " 'omg',\n",
              " 'fettucine',\n",
              " 'collectionshe',\n",
              " 'enjoyedited',\n",
              " 'pairings',\n",
              " 'devein',\n",
              " 'macys',\n",
              " 'poissons',\n",
              " ...}"
            ]
          },
          "metadata": {},
          "execution_count": 16
        }
      ]
    },
    {
      "cell_type": "code",
      "source": [
        "\"an\" in words"
      ],
      "metadata": {
        "colab": {
          "base_uri": "https://localhost:8080/"
        },
        "id": "YCIIjzgxOWHy",
        "outputId": "b7e18bfb-f9c8-48c6-d59d-6c7de9d813b2"
      },
      "execution_count": null,
      "outputs": [
        {
          "output_type": "execute_result",
          "data": {
            "text/plain": [
              "True"
            ]
          },
          "metadata": {},
          "execution_count": 229
        }
      ]
    },
    {
      "cell_type": "code",
      "source": [
        "filee[\"preprocessed_descriptions\"].tolist()[1]"
      ],
      "metadata": {
        "colab": {
          "base_uri": "https://localhost:8080/",
          "height": 53
        },
        "id": "mg9Shgi8NBsY",
        "outputId": "8726ea4f-4294-4cfb-e1bf-386ff1ebd035"
      },
      "execution_count": null,
      "outputs": [
        {
          "output_type": "execute_result",
          "data": {
            "text/plain": [
              "'my children and their friends ask for my homemade popsicles morning noon and night i never turn them down who am i to tell them that they are good for them for variety i substitute different flavours of frozen juice  grape fruit punch tropical etc'"
            ],
            "application/vnd.google.colaboratory.intrinsic+json": {
              "type": "string"
            }
          },
          "metadata": {},
          "execution_count": 69
        }
      ]
    },
    {
      "cell_type": "code",
      "source": [],
      "metadata": {
        "colab": {
          "base_uri": "https://localhost:8080/"
        },
        "id": "y6ICGjmQG9pm",
        "outputId": "0d86780d-a150-4e6e-8f98-a7137d2d995a"
      },
      "execution_count": null,
      "outputs": [
        {
          "output_type": "stream",
          "name": "stdout",
          "text": [
            "<class 'list'>\n"
          ]
        }
      ]
    },
    {
      "cell_type": "markdown",
      "metadata": {
        "id": "mphu6mLXBTA2"
      },
      "source": [
        "1.2 Сгенерируйте 5 пар случайно выбранных слов и посчитайте между ними расстояние редактирования."
      ]
    },
    {
      "cell_type": "code",
      "source": [
        "#main\n",
        "import random\n",
        "def random_word_pairs(words):\n",
        "    pairs = []\n",
        "    for i in range(5):\n",
        "        word1, word2 = random.sample(words, 2)\n",
        "        pairs.append((word1, word2))\n",
        "    return pairs\n",
        "\n",
        "def edit_distance(word1, word2):\n",
        "    m, n = len(word1), len(word2)\n",
        "    dp = [[0] * (n+1) for _ in range(m+1)]\n",
        "    for i in range(m+1):\n",
        "        dp[i][0] = i\n",
        "    for j in range(n+1):\n",
        "        dp[0][j] = j\n",
        "    for i in range(1, m+1):\n",
        "        for j in range(1, n+1):\n",
        "            if word1[i-1] == word2[j-1]:\n",
        "                dp[i][j] = dp[i-1][j-1]\n",
        "            else:\n",
        "                dp[i][j] = 1 + min(dp[i][j-1], dp[i-1][j], dp[i-1][j-1])\n",
        "    return dp[m][n]\n",
        "\n",
        "\n",
        "wordss = words.copy()\n",
        "pairs = random_word_pairs(wordss)\n",
        "\n",
        "for pair in pairs:\n",
        "    word1, word2 = pair\n",
        "    distance = edit_distance(word1, word2)\n",
        "    print(f\"Дистанция редактирования между словом '{word1}' и словом  '{word2}' = {distance}\")"
      ],
      "metadata": {
        "colab": {
          "base_uri": "https://localhost:8080/"
        },
        "id": "mmXbMVFFDwPD",
        "outputId": "e7c64e7f-acb5-43ea-c89e-abc7a23e739f"
      },
      "execution_count": null,
      "outputs": [
        {
          "output_type": "stream",
          "name": "stdout",
          "text": [
            "Дистанция редактирования между словом 'pods' и словом  'ever' = 4\n",
            "Дистанция редактирования между словом 'kikuchan' и словом  'sixty' = 7\n",
            "Дистанция редактирования между словом 'ack' и словом  'instantly' = 8\n",
            "Дистанция редактирования между словом 'belgioioso' и словом  'brazilian' = 7\n",
            "Дистанция редактирования между словом 'veggis' и словом  'fuse' = 6\n"
          ]
        },
        {
          "output_type": "stream",
          "name": "stderr",
          "text": [
            "<ipython-input-233-9045ad011083>:5: DeprecationWarning: Sampling from a set deprecated\n",
            "since Python 3.9 and will be removed in a subsequent version.\n",
            "  word1, word2 = random.sample(words, 2)\n"
          ]
        }
      ]
    },
    {
      "cell_type": "markdown",
      "metadata": {
        "id": "th9gocgdBTA3"
      },
      "source": [
        "1.3 Напишите функцию, которая для заданного слова `word` возвращает `k` ближайших к нему слов из списка `words` (близость слов измеряется с помощью расстояния Левенштейна)"
      ]
    },
    {
      "cell_type": "code",
      "source": [
        "#main\n",
        "def find_closest_words(word, words, k):\n",
        "    distances = {}\n",
        "    for w in words:\n",
        "        distance = edit_distance(word, w)\n",
        "        distances[w] = distance\n",
        "    sorted_words = sorted(distances.keys(), key=lambda x: distances[x])\n",
        "    return sorted_words[:k]\n",
        "\n",
        "\n",
        "word = 'cookies'\n",
        "k = 3\n",
        "closest_words = find_closest_words(word, words, k)\n",
        "print(f\"{k} слов(а) близких к слову '{words}' это:\")\n",
        "for w in closest_words:\n",
        "    print(w)"
      ],
      "metadata": {
        "colab": {
          "base_uri": "https://localhost:8080/",
          "height": 371
        },
        "id": "V6Kl9xCKISgY",
        "outputId": "387cdc67-a567-4654-d95e-6ddf61d2df69"
      },
      "execution_count": 19,
      "outputs": [
        {
          "output_type": "error",
          "ename": "NameError",
          "evalue": "ignored",
          "traceback": [
            "\u001b[0;31m---------------------------------------------------------------------------\u001b[0m",
            "\u001b[0;31mNameError\u001b[0m                                 Traceback (most recent call last)",
            "\u001b[0;32m<ipython-input-19-0036099ce41a>\u001b[0m in \u001b[0;36m<cell line: 13>\u001b[0;34m()\u001b[0m\n\u001b[1;32m     11\u001b[0m \u001b[0mword\u001b[0m \u001b[0;34m=\u001b[0m \u001b[0;34m'cookies'\u001b[0m\u001b[0;34m\u001b[0m\u001b[0;34m\u001b[0m\u001b[0m\n\u001b[1;32m     12\u001b[0m \u001b[0mk\u001b[0m \u001b[0;34m=\u001b[0m \u001b[0;36m3\u001b[0m\u001b[0;34m\u001b[0m\u001b[0;34m\u001b[0m\u001b[0m\n\u001b[0;32m---> 13\u001b[0;31m \u001b[0mclosest_words\u001b[0m \u001b[0;34m=\u001b[0m \u001b[0mfind_closest_words\u001b[0m\u001b[0;34m(\u001b[0m\u001b[0mword\u001b[0m\u001b[0;34m,\u001b[0m \u001b[0mwords\u001b[0m\u001b[0;34m,\u001b[0m \u001b[0mk\u001b[0m\u001b[0;34m)\u001b[0m\u001b[0;34m\u001b[0m\u001b[0;34m\u001b[0m\u001b[0m\n\u001b[0m\u001b[1;32m     14\u001b[0m \u001b[0mprint\u001b[0m\u001b[0;34m(\u001b[0m\u001b[0;34mf\"{k} слов(а) близких к слову '{words}' это:\"\u001b[0m\u001b[0;34m)\u001b[0m\u001b[0;34m\u001b[0m\u001b[0;34m\u001b[0m\u001b[0m\n\u001b[1;32m     15\u001b[0m \u001b[0;32mfor\u001b[0m \u001b[0mw\u001b[0m \u001b[0;32min\u001b[0m \u001b[0mclosest_words\u001b[0m\u001b[0;34m:\u001b[0m\u001b[0;34m\u001b[0m\u001b[0;34m\u001b[0m\u001b[0m\n",
            "\u001b[0;32m<ipython-input-19-0036099ce41a>\u001b[0m in \u001b[0;36mfind_closest_words\u001b[0;34m(word, words, k)\u001b[0m\n\u001b[1;32m      3\u001b[0m     \u001b[0mdistances\u001b[0m \u001b[0;34m=\u001b[0m \u001b[0;34m{\u001b[0m\u001b[0;34m}\u001b[0m\u001b[0;34m\u001b[0m\u001b[0;34m\u001b[0m\u001b[0m\n\u001b[1;32m      4\u001b[0m     \u001b[0;32mfor\u001b[0m \u001b[0mw\u001b[0m \u001b[0;32min\u001b[0m \u001b[0mwords\u001b[0m\u001b[0;34m:\u001b[0m\u001b[0;34m\u001b[0m\u001b[0;34m\u001b[0m\u001b[0m\n\u001b[0;32m----> 5\u001b[0;31m         \u001b[0mdistance\u001b[0m \u001b[0;34m=\u001b[0m \u001b[0medit_distance\u001b[0m\u001b[0;34m(\u001b[0m\u001b[0mword\u001b[0m\u001b[0;34m,\u001b[0m \u001b[0mw\u001b[0m\u001b[0;34m)\u001b[0m\u001b[0;34m\u001b[0m\u001b[0;34m\u001b[0m\u001b[0m\n\u001b[0m\u001b[1;32m      6\u001b[0m         \u001b[0mdistances\u001b[0m\u001b[0;34m[\u001b[0m\u001b[0mw\u001b[0m\u001b[0;34m]\u001b[0m \u001b[0;34m=\u001b[0m \u001b[0mdistance\u001b[0m\u001b[0;34m\u001b[0m\u001b[0;34m\u001b[0m\u001b[0m\n\u001b[1;32m      7\u001b[0m     \u001b[0msorted_words\u001b[0m \u001b[0;34m=\u001b[0m \u001b[0msorted\u001b[0m\u001b[0;34m(\u001b[0m\u001b[0mdistances\u001b[0m\u001b[0;34m.\u001b[0m\u001b[0mkeys\u001b[0m\u001b[0;34m(\u001b[0m\u001b[0;34m)\u001b[0m\u001b[0;34m,\u001b[0m \u001b[0mkey\u001b[0m\u001b[0;34m=\u001b[0m\u001b[0;32mlambda\u001b[0m \u001b[0mx\u001b[0m\u001b[0;34m:\u001b[0m \u001b[0mdistances\u001b[0m\u001b[0;34m[\u001b[0m\u001b[0mx\u001b[0m\u001b[0;34m]\u001b[0m\u001b[0;34m)\u001b[0m\u001b[0;34m\u001b[0m\u001b[0;34m\u001b[0m\u001b[0m\n",
            "\u001b[0;31mNameError\u001b[0m: name 'edit_distance' is not defined"
          ]
        }
      ]
    },
    {
      "cell_type": "markdown",
      "metadata": {
        "id": "XFPUO-7NBTA3"
      },
      "source": [
        "### Стемминг, лемматизация"
      ]
    },
    {
      "cell_type": "code",
      "source": [
        "from nltk.stem import SnowballStemmer"
      ],
      "metadata": {
        "id": "PWbgQt86SLVR"
      },
      "execution_count": null,
      "outputs": []
    },
    {
      "cell_type": "code",
      "source": [
        "pip install pymorphy2"
      ],
      "metadata": {
        "colab": {
          "base_uri": "https://localhost:8080/"
        },
        "id": "uwPRgtt0Wo8G",
        "outputId": "78821fde-7bbb-4775-a85b-daddefd60d71"
      },
      "execution_count": null,
      "outputs": [
        {
          "output_type": "stream",
          "name": "stdout",
          "text": [
            "Looking in indexes: https://pypi.org/simple, https://us-python.pkg.dev/colab-wheels/public/simple/\n",
            "Collecting pymorphy2\n",
            "  Downloading pymorphy2-0.9.1-py3-none-any.whl (55 kB)\n",
            "\u001b[2K     \u001b[90m━━━━━━━━━━━━━━━━━━━━━━━━━━━━━━━━━━━━━━━━\u001b[0m \u001b[32m55.5/55.5 KB\u001b[0m \u001b[31m3.5 MB/s\u001b[0m eta \u001b[36m0:00:00\u001b[0m\n",
            "\u001b[?25hCollecting pymorphy2-dicts-ru<3.0,>=2.4\n",
            "  Downloading pymorphy2_dicts_ru-2.4.417127.4579844-py2.py3-none-any.whl (8.2 MB)\n",
            "\u001b[2K     \u001b[90m━━━━━━━━━━━━━━━━━━━━━━━━━━━━━━━━━━━━━━━━\u001b[0m \u001b[32m8.2/8.2 MB\u001b[0m \u001b[31m51.9 MB/s\u001b[0m eta \u001b[36m0:00:00\u001b[0m\n",
            "\u001b[?25hCollecting docopt>=0.6\n",
            "  Downloading docopt-0.6.2.tar.gz (25 kB)\n",
            "  Preparing metadata (setup.py) ... \u001b[?25l\u001b[?25hdone\n",
            "Collecting dawg-python>=0.7.1\n",
            "  Downloading DAWG_Python-0.7.2-py2.py3-none-any.whl (11 kB)\n",
            "Building wheels for collected packages: docopt\n",
            "  Building wheel for docopt (setup.py) ... \u001b[?25l\u001b[?25hdone\n",
            "  Created wheel for docopt: filename=docopt-0.6.2-py2.py3-none-any.whl size=13721 sha256=07fa57b14e6ddc4f90c6d0c535b3c0177e614f70d5783e4bd0b03858b70a905a\n",
            "  Stored in directory: /root/.cache/pip/wheels/70/4a/46/1309fc853b8d395e60bafaf1b6df7845bdd82c95fd59dd8d2b\n",
            "Successfully built docopt\n",
            "Installing collected packages: pymorphy2-dicts-ru, docopt, dawg-python, pymorphy2\n",
            "Successfully installed dawg-python-0.7.2 docopt-0.6.2 pymorphy2-0.9.1 pymorphy2-dicts-ru-2.4.417127.4579844\n"
          ]
        }
      ]
    },
    {
      "cell_type": "code",
      "source": [
        "\n",
        "import pymorphy2\n"
      ],
      "metadata": {
        "id": "OJsJUrvAXgoS"
      },
      "execution_count": null,
      "outputs": []
    },
    {
      "cell_type": "markdown",
      "metadata": {
        "id": "1isrIa8pBTA3"
      },
      "source": [
        "2.1 На основе результатов 1.1 создайте `pd.DataFrame` со столбцами: \n",
        "    * word\n",
        "    * stemmed_word \n",
        "    * normalized_word \n",
        "\n",
        "Столбец `word` укажите в качестве индекса. \n",
        "\n",
        "Для стемминга воспользуйтесь `SnowballStemmer`, для нормализации слов - `WordNetLemmatizer`. Сравните результаты стемминга и лемматизации."
      ]
    },
    {
      "cell_type": "code",
      "source": [
        "#main\n",
        "data = pd.DataFrame({\"stemmed_word\" : [stemmer.stem(str(i)) for i in words],\n",
        "                    \"normalized_word\" : [morph.parse(str(i))[0].normalized.word for i in words]}, index = words )\n"
      ],
      "metadata": {
        "colab": {
          "base_uri": "https://localhost:8080/",
          "height": 299
        },
        "id": "zGf767vvS1sy",
        "outputId": "9d74639d-de69-47a7-882f-a3203a8332ca"
      },
      "execution_count": 17,
      "outputs": [
        {
          "output_type": "error",
          "ename": "NameError",
          "evalue": "ignored",
          "traceback": [
            "\u001b[0;31m---------------------------------------------------------------------------\u001b[0m",
            "\u001b[0;31mNameError\u001b[0m                                 Traceback (most recent call last)",
            "\u001b[0;32m<ipython-input-17-21563a00bd7a>\u001b[0m in \u001b[0;36m<cell line: 2>\u001b[0;34m()\u001b[0m\n\u001b[1;32m      1\u001b[0m \u001b[0;31m#main\u001b[0m\u001b[0;34m\u001b[0m\u001b[0;34m\u001b[0m\u001b[0m\n\u001b[0;32m----> 2\u001b[0;31m data = pd.DataFrame({\"stemmed_word\" : [stemmer.stem(str(i)) for i in words],\n\u001b[0m\u001b[1;32m      3\u001b[0m                     \"normalized_word\" : [morph.parse(str(i))[0].normalized.word for i in words]}, index = words )\n",
            "\u001b[0;32m<ipython-input-17-21563a00bd7a>\u001b[0m in \u001b[0;36m<listcomp>\u001b[0;34m(.0)\u001b[0m\n\u001b[1;32m      1\u001b[0m \u001b[0;31m#main\u001b[0m\u001b[0;34m\u001b[0m\u001b[0;34m\u001b[0m\u001b[0m\n\u001b[0;32m----> 2\u001b[0;31m data = pd.DataFrame({\"stemmed_word\" : [stemmer.stem(str(i)) for i in words],\n\u001b[0m\u001b[1;32m      3\u001b[0m                     \"normalized_word\" : [morph.parse(str(i))[0].normalized.word for i in words]}, index = words )\n",
            "\u001b[0;31mNameError\u001b[0m: name 'stemmer' is not defined"
          ]
        }
      ]
    },
    {
      "cell_type": "code",
      "source": [
        "morph = pymorphy2.MorphAnalyzer()\n",
        "a = [\"стали\",\"встали\"]"
      ],
      "metadata": {
        "id": "VFIu6_4OYzou"
      },
      "execution_count": null,
      "outputs": []
    },
    {
      "cell_type": "code",
      "source": [
        "stemmer = SnowballStemmer(\"english\")\n",
        "a = [\"hi\", \"dogs\"]\n",
        "print([stemmer.stem(str(i)) for i in a])\n",
        "a"
      ],
      "metadata": {
        "colab": {
          "base_uri": "https://localhost:8080/"
        },
        "id": "_Wbx3cNyTCXb",
        "outputId": "58635859-f90c-4083-d763-69d29386510a"
      },
      "execution_count": null,
      "outputs": [
        {
          "output_type": "stream",
          "name": "stdout",
          "text": [
            "['hi', 'dog']\n"
          ]
        },
        {
          "output_type": "execute_result",
          "data": {
            "text/plain": [
              "['hi', 'dogs']"
            ]
          },
          "metadata": {},
          "execution_count": 135
        }
      ]
    },
    {
      "cell_type": "code",
      "source": [
        "stemmer.stem(\"endlesshave\")"
      ],
      "metadata": {
        "colab": {
          "base_uri": "https://localhost:8080/",
          "height": 36
        },
        "id": "4CwnCtkkcMXw",
        "outputId": "b3fba5f9-6c00-4e11-dee9-4f4f51ca510d"
      },
      "execution_count": null,
      "outputs": [
        {
          "output_type": "execute_result",
          "data": {
            "text/plain": [
              "'endlesshav'"
            ],
            "application/vnd.google.colaboratory.intrinsic+json": {
              "type": "string"
            }
          },
          "metadata": {},
          "execution_count": 175
        }
      ]
    },
    {
      "cell_type": "code",
      "source": [
        "morph.parse(\"endlesshave\")[0].normalized.word"
      ],
      "metadata": {
        "colab": {
          "base_uri": "https://localhost:8080/",
          "height": 36
        },
        "id": "MhHzYkyObzKJ",
        "outputId": "2d9955bb-8d42-4348-d01f-1afb150aef2d"
      },
      "execution_count": null,
      "outputs": [
        {
          "output_type": "execute_result",
          "data": {
            "text/plain": [
              "'endlesshave'"
            ],
            "application/vnd.google.colaboratory.intrinsic+json": {
              "type": "string"
            }
          },
          "metadata": {},
          "execution_count": 174
        }
      ]
    },
    {
      "cell_type": "code",
      "source": [
        "data.shape"
      ],
      "metadata": {
        "colab": {
          "base_uri": "https://localhost:8080/"
        },
        "id": "qCE36KbWiurR",
        "outputId": "1468a32a-20bf-46bb-9e48-01fe0529a081"
      },
      "execution_count": null,
      "outputs": [
        {
          "output_type": "execute_result",
          "data": {
            "text/plain": [
              "(32868, 2)"
            ]
          },
          "metadata": {},
          "execution_count": 215
        }
      ]
    },
    {
      "cell_type": "code",
      "source": [
        "# data = pd.DataFrame()\n",
        "# data[\"stemmed_word\"] = [stemmer.stem(str(i)) for i in words]\n",
        "# data"
      ],
      "metadata": {
        "id": "LUY7sjsFbQ-6"
      },
      "execution_count": null,
      "outputs": []
    },
    {
      "cell_type": "code",
      "source": [
        "[stemmer.stem(str(i)) for i in words]"
      ],
      "metadata": {
        "id": "0DGAHehjZzBz"
      },
      "execution_count": null,
      "outputs": []
    },
    {
      "cell_type": "markdown",
      "metadata": {
        "id": "lz8qSS9tBTA3"
      },
      "source": [
        "2.2. Удалите стоп-слова из описаний рецептов. Какую долю об общего количества слов составляли стоп-слова? Сравните топ-10 самых часто употребляемых слов до и после удаления стоп-слов."
      ]
    },
    {
      "cell_type": "code",
      "source": [
        "#main\n",
        "count = 0\n",
        "data2 = data.copy()\n",
        "top_10 = data.stack().value_counts().head(10)\n",
        "print(top_10)\n",
        "\n",
        "print(data.shape[0])\n",
        "for i in data2[\"normalized_word\"]:\n",
        "  if i in stop_words:\n",
        "    \n",
        "    data2 = data2.drop(labels=str(i))\n",
        "    \n",
        "    count+=1\n",
        "    \n",
        "top_1 = data2.stack().value_counts().head(10)\n",
        "print(top_10)\n",
        "data2.shape[0]\n",
        "print(f' Количество стоп-слов {count}, доля об общего количества слов которые составляли стоп-слова {count/data2.shape[0]}')"
      ],
      "metadata": {
        "colab": {
          "base_uri": "https://localhost:8080/",
          "height": 244
        },
        "id": "n9_ktpZadt1U",
        "outputId": "03a25578-fafb-43cb-acdb-812f7c2ba376"
      },
      "execution_count": 18,
      "outputs": [
        {
          "output_type": "error",
          "ename": "NameError",
          "evalue": "ignored",
          "traceback": [
            "\u001b[0;31m---------------------------------------------------------------------------\u001b[0m",
            "\u001b[0;31mNameError\u001b[0m                                 Traceback (most recent call last)",
            "\u001b[0;32m<ipython-input-18-cc0df6b20751>\u001b[0m in \u001b[0;36m<cell line: 3>\u001b[0;34m()\u001b[0m\n\u001b[1;32m      1\u001b[0m \u001b[0;31m#main\u001b[0m\u001b[0;34m\u001b[0m\u001b[0;34m\u001b[0m\u001b[0m\n\u001b[1;32m      2\u001b[0m \u001b[0mcount\u001b[0m \u001b[0;34m=\u001b[0m \u001b[0;36m0\u001b[0m\u001b[0;34m\u001b[0m\u001b[0;34m\u001b[0m\u001b[0m\n\u001b[0;32m----> 3\u001b[0;31m \u001b[0mdata2\u001b[0m \u001b[0;34m=\u001b[0m \u001b[0mdata\u001b[0m\u001b[0;34m.\u001b[0m\u001b[0mcopy\u001b[0m\u001b[0;34m(\u001b[0m\u001b[0;34m)\u001b[0m\u001b[0;34m\u001b[0m\u001b[0;34m\u001b[0m\u001b[0m\n\u001b[0m\u001b[1;32m      4\u001b[0m \u001b[0mtop_10\u001b[0m \u001b[0;34m=\u001b[0m \u001b[0mdata\u001b[0m\u001b[0;34m.\u001b[0m\u001b[0mstack\u001b[0m\u001b[0;34m(\u001b[0m\u001b[0;34m)\u001b[0m\u001b[0;34m.\u001b[0m\u001b[0mvalue_counts\u001b[0m\u001b[0;34m(\u001b[0m\u001b[0;34m)\u001b[0m\u001b[0;34m.\u001b[0m\u001b[0mhead\u001b[0m\u001b[0;34m(\u001b[0m\u001b[0;36m10\u001b[0m\u001b[0;34m)\u001b[0m\u001b[0;34m\u001b[0m\u001b[0;34m\u001b[0m\u001b[0m\n\u001b[1;32m      5\u001b[0m \u001b[0mprint\u001b[0m\u001b[0;34m(\u001b[0m\u001b[0mtop_10\u001b[0m\u001b[0;34m)\u001b[0m\u001b[0;34m\u001b[0m\u001b[0;34m\u001b[0m\u001b[0m\n",
            "\u001b[0;31mNameError\u001b[0m: name 'data' is not defined"
          ]
        }
      ]
    },
    {
      "cell_type": "code",
      "source": [
        "from nltk.corpus import stopwords\n",
        "nltk.download('stopwords')"
      ],
      "metadata": {
        "colab": {
          "base_uri": "https://localhost:8080/"
        },
        "id": "fFYdZg6tdttJ",
        "outputId": "2bd915c9-7f2c-4f70-94f0-bd4db73c7227"
      },
      "execution_count": null,
      "outputs": [
        {
          "output_type": "stream",
          "name": "stderr",
          "text": [
            "[nltk_data] Downloading package stopwords to /root/nltk_data...\n",
            "[nltk_data]   Unzipping corpora/stopwords.zip.\n"
          ]
        },
        {
          "output_type": "execute_result",
          "data": {
            "text/plain": [
              "True"
            ]
          },
          "metadata": {},
          "execution_count": 178
        }
      ]
    },
    {
      "cell_type": "code",
      "source": [
        "stop_words = set(stopwords.words('english'))\n",
        "\"an\" in stop_words"
      ],
      "metadata": {
        "colab": {
          "base_uri": "https://localhost:8080/"
        },
        "id": "P16YQX7Fds6C",
        "outputId": "6aeb7eef-5461-4c01-dfb5-b30e6eaabd16"
      },
      "execution_count": null,
      "outputs": [
        {
          "output_type": "execute_result",
          "data": {
            "text/plain": [
              "True"
            ]
          },
          "metadata": {},
          "execution_count": 228
        }
      ]
    },
    {
      "cell_type": "code",
      "source": [
        "\"merchants\" in data"
      ],
      "metadata": {
        "colab": {
          "base_uri": "https://localhost:8080/"
        },
        "id": "avlZGxFmdt4W",
        "outputId": "a1315e3b-42b0-4711-907f-92803767a61e"
      },
      "execution_count": null,
      "outputs": [
        {
          "output_type": "execute_result",
          "data": {
            "text/plain": [
              "False"
            ]
          },
          "metadata": {},
          "execution_count": 187
        }
      ]
    },
    {
      "cell_type": "code",
      "source": [
        "data2.shape"
      ],
      "metadata": {
        "colab": {
          "base_uri": "https://localhost:8080/"
        },
        "id": "gJY-mS7xduB_",
        "outputId": "c13e57b8-15b2-40bf-9320-70ec8b33e1ba"
      },
      "execution_count": null,
      "outputs": [
        {
          "output_type": "execute_result",
          "data": {
            "text/plain": [
              "(32732, 2)"
            ]
          },
          "metadata": {},
          "execution_count": 216
        }
      ]
    },
    {
      "cell_type": "code",
      "source": [
        "count =0\n",
        "for i in data[\"normalized_word\"]:\n",
        "  if i in stop_words:\n",
        "    count+=1\n",
        "count"
      ],
      "metadata": {
        "colab": {
          "base_uri": "https://localhost:8080/"
        },
        "id": "IixJ5YcPduEH",
        "outputId": "c213c95a-9cf6-4c96-9cfc-f58b30d3b772"
      },
      "execution_count": null,
      "outputs": [
        {
          "output_type": "execute_result",
          "data": {
            "text/plain": [
              "136"
            ]
          },
          "metadata": {},
          "execution_count": 255
        }
      ]
    },
    {
      "cell_type": "code",
      "execution_count": null,
      "metadata": {
        "id": "WTEhqhKhBTA3"
      },
      "outputs": [],
      "source": []
    }
  ],
  "metadata": {
    "kernelspec": {
      "display_name": "Python 3 (ipykernel)",
      "language": "python",
      "name": "python3"
    },
    "language_info": {
      "codemirror_mode": {
        "name": "ipython",
        "version": 3
      },
      "file_extension": ".py",
      "mimetype": "text/x-python",
      "name": "python",
      "nbconvert_exporter": "python",
      "pygments_lexer": "ipython3",
      "version": "3.9.12"
    },
    "colab": {
      "provenance": []
    }
  },
  "nbformat": 4,
  "nbformat_minor": 0
}